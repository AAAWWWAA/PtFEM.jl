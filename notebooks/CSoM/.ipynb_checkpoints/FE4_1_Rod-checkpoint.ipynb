{
 "cells": [
  {
   "cell_type": "markdown",
   "metadata": {},
   "source": [
    "# CSoM: Julia experiments with the toolkit as described in the book \"Programming the Finite Element Method\" by I. M. Smith & D. V. Griffiths (5th edition). "
   ]
  },
  {
   "cell_type": "code",
   "execution_count": 1,
   "metadata": {
    "collapsed": false
   },
   "outputs": [],
   "source": [
    "#Pkg.update()"
   ]
  },
  {
   "cell_type": "code",
   "execution_count": 2,
   "metadata": {
    "collapsed": false
   },
   "outputs": [
    {
     "name": "stdout",
     "output_type": "stream",
     "text": [
      "Julia Version 0.5.0\n",
      "Commit 3c9d753 (2016-09-19 18:14 UTC)\n",
      "Platform Info:\n",
      "  System: Darwin (x86_64-apple-darwin13.4.0)\n",
      "  CPU: Intel(R) Core(TM) i5-6267U CPU @ 2.90GHz\n",
      "  WORD_SIZE: "
     ]
    }
   ],
   "source": [
    "versioninfo()\n",
    "using CSoM"
   ]
  },
  {
   "cell_type": "markdown",
   "metadata": {},
   "source": [
    "## Derived from example 4.1 of \"Programming the FEM\" (PtFEM).\n",
    "\n",
    "This is the first example program in the book."
   ]
  },
  {
   "cell_type": "markdown",
   "metadata": {},
   "source": [
    "### Currently each example in PtFEM consists of 3 Julia component3: \n",
    "\n",
    "1. The input data, e.g. p4.1.1.jl\n",
    "2. A program skeleton as described in PtFEM, e.g. Program 4.1 is FE4_1.jl\n",
    "3. The skeleton programs call the appropriate Julia functions in subdirectory CSoM\n",
    "\n",
    "As in the book, the input are subdivided by chapter name (e.g. \"4 Static Equilibrium\") in the \"examples\" sub-directory."
   ]
  },
  {
   "cell_type": "markdown",
   "metadata": {},
   "source": [
    "### Discussion of the initial implementation of Example 4.1.\n",
    "\n",
    "This version (FE4_1.jl) is an almost straight translation from Fortran to Julia (maybe with the exception of the inputs). This is true for all  FEx_x.jl files.\n",
    "\n",
    "These experiments are aimed at a next version (P4.1.jl) which contains a more Julia-based implementation, e.g. using Julia sparse matrices vs. the skyline format and using Julia (and underlying libraries) for solving the global matrix equations, e.g. y = A \\ x. All Px.x.jl will be similarly be Julia based scripts, and Px.x.x.jl contain the corresponding input files."
   ]
  },
  {
   "cell_type": "markdown",
   "metadata": {},
   "source": [
    "### Made the number of fin_els and distributed load parameters\n",
    "\n",
    "N: Number of fin_els (nxe) in :x direction (left to right)\n",
    "F: Total of distributed load"
   ]
  },
  {
   "cell_type": "code",
   "execution_count": 4,
   "metadata": {
    "collapsed": false
   },
   "outputs": [],
   "source": [
    "N = 4;    \n",
    "F = 5.0;"
   ]
  },
  {
   "cell_type": "markdown",
   "metadata": {},
   "source": [
    "### Distribute the load\n",
    "\n",
    "Distribute the total fin_el loads over N+1 nodes. Assign half-load to both end points. Last line just ensures the type of dist_loads is concrete."
   ]
  },
  {
   "cell_type": "code",
   "execution_count": 5,
   "metadata": {
    "collapsed": false
   },
   "outputs": [
    {
     "data": {
      "text/plain": [
       "5-element Array{Tuple{Int64,Array{Float64,1}},1}:\n",
       " (1,[-0.625])\n",
       " (2,[-1.25]) \n",
       " (3,[-1.25]) \n",
       " (4,[-1.25]) \n",
       " (5,[-0.625])"
      ]
     },
     "execution_count": 5,
     "metadata": {},
     "output_type": "execute_result"
    }
   ],
   "source": [
    "dist_loads = [[(i, [-F/N]) for i in 1:(N+1)];]\n",
    "dist_loads[1] = (1, [-F/(2*N)])\n",
    "dist_loads[size(dist_loads,1)] = (N+1, [-F/(2*N)])\n",
    "dist_loads = convert(Vector{Tuple{Int64, Vector{Float64}}}, dist_loads)"
   ]
  },
  {
   "cell_type": "markdown",
   "metadata": {},
   "source": [
    "Notice that in this example the x axis goes from left to right (not as in the book) and the distributed load is compressive. Clamped end is node 1."
   ]
  },
  {
   "cell_type": "code",
   "execution_count": 6,
   "metadata": {
    "collapsed": false
   },
   "outputs": [
    {
     "name": "stdout",
     "output_type": "stream",
     "text": [
      "search: \u001b[1mF\u001b[22m\u001b[1mE\u001b[22m\u001b[1m4\u001b[22m\u001b[1m_\u001b[22m\u001b[1m1\u001b[22m \u001b[1mF\u001b[22m\u001b[1mE\u001b[22m\u001b[1m4\u001b[22m\u001b[1m_\u001b[22m7 \u001b[1mF\u001b[22m\u001b[1mE\u001b[22m\u001b[1m4\u001b[22m\u001b[1m_\u001b[22m6 \u001b[1mF\u001b[22m\u001b[1mE\u001b[22m\u001b[1m4\u001b[22m\u001b[1m_\u001b[22m5 \u001b[1mF\u001b[22m\u001b[1mE\u001b[22m\u001b[1m4\u001b[22m\u001b[1m_\u001b[22m4 \u001b[1mF\u001b[22m\u001b[1mE\u001b[22m\u001b[1m4\u001b[22m\u001b[1m_\u001b[22m3 \u001b[1mF\u001b[22m\u001b[1mE\u001b[22m\u001b[1m4\u001b[22m\u001b[1m_\u001b[22m2\n",
      "\n"
     ]
    },
    {
     "data": {
      "text/markdown": [
       "# FE4_1\n",
       "\n",
       "Backbone method for static equilibrium analysis of a rod.\n",
       "\n",
       "### Constructors\n",
       "\n",
       "```julia\n",
       "FE4_1(data::Dict)\n",
       "```\n",
       "\n",
       "### Arguments\n",
       "\n",
       "```julia\n",
       "* `data` : Dictionary containing all input data\n",
       "```\n",
       "\n",
       "### Dictionary keys\n",
       "\n",
       "```julia\n",
       "* struc_el::StructuralElement                            : Type of  structural fin_el\n",
       "* support::Array{Tuple{Int64,Array{Int64,1}},1}        : Fixed-displacements vector\n",
       "* loaded_nodes::Array{Tuple{Int64,Array{Float64,1}},1} : Node load vector\n",
       "* properties::Vector{Float64}                          : Material properties\n",
       "* x_coords::LinSpace{Float64}                          : Xcoordinate vector\n",
       "```\n",
       "\n",
       "### Optional dictionary keys\n",
       "\n",
       "```julia\n",
       "* etype::Vector{Int64}                                 : Element material vector\n",
       "```\n",
       "\n",
       "### Examples\n",
       "\n",
       "```julia\n",
       "using CSoM\n",
       "\n",
       "data = Dict(\n",
       "  # Rod(nels, np_types, nip, finite_element(nod, nodof))\n",
       "  :struc_el => Rod(4, 1, 1, Line(2, 1)),\n",
       "  :properties => [1.0e5;],\n",
       "  :x_coords => linspace(0, 1, 5),\n",
       "  :support => [(1, [0])],\n",
       "  :loaded_nodes => [(1,[-0.625]),(2,[-1.25]),(3,[-1.25]),(4,[-1.25]),(5,[-0.625])]\n",
       ")\n",
       "\n",
       "m = FE4_1(data)\n",
       "\n",
       "println(\"Displacements:\")\n",
       "m.displacements |> display\n",
       "println()\n",
       "\n",
       "println(\"Actions:\")\n",
       "m.actions |> display\n",
       "println()\n",
       "\n",
       "```\n",
       "\n",
       "### Related help\n",
       "\n",
       "```julia\n",
       "?StructuralElement  : Help on structural elements\n",
       "?Rod                : Help on a Rod structural fin_el\n",
       "?FiniteElement      : Help on finite element types\n",
       "```\n"
      ],
      "text/plain": [
       "# FE4_1\n",
       "\n",
       "Backbone method for static equilibrium analysis of a rod.\n",
       "\n",
       "### Constructors\n",
       "\n",
       "```julia\n",
       "FE4_1(data::Dict)\n",
       "```\n",
       "\n",
       "### Arguments\n",
       "\n",
       "```julia\n",
       "* `data` : Dictionary containing all input data\n",
       "```\n",
       "\n",
       "### Dictionary keys\n",
       "\n",
       "```julia\n",
       "* struc_el::StructuralElement                            : Type of  structural fin_el\n",
       "* support::Array{Tuple{Int64,Array{Int64,1}},1}        : Fixed-displacements vector\n",
       "* loaded_nodes::Array{Tuple{Int64,Array{Float64,1}},1} : Node load vector\n",
       "* properties::Vector{Float64}                          : Material properties\n",
       "* x_coords::LinSpace{Float64}                          : Xcoordinate vector\n",
       "```\n",
       "\n",
       "### Optional dictionary keys\n",
       "\n",
       "```julia\n",
       "* etype::Vector{Int64}                                 : Element material vector\n",
       "```\n",
       "\n",
       "### Examples\n",
       "\n",
       "```julia\n",
       "using CSoM\n",
       "\n",
       "data = Dict(\n",
       "  # Rod(nels, np_types, nip, finite_element(nod, nodof))\n",
       "  :struc_el => Rod(4, 1, 1, Line(2, 1)),\n",
       "  :properties => [1.0e5;],\n",
       "  :x_coords => linspace(0, 1, 5),\n",
       "  :support => [(1, [0])],\n",
       "  :loaded_nodes => [(1,[-0.625]),(2,[-1.25]),(3,[-1.25]),(4,[-1.25]),(5,[-0.625])]\n",
       ")\n",
       "\n",
       "m = FE4_1(data)\n",
       "\n",
       "println(\"Displacements:\")\n",
       "m.displacements |> display\n",
       "println()\n",
       "\n",
       "println(\"Actions:\")\n",
       "m.actions |> display\n",
       "println()\n",
       "\n",
       "```\n",
       "\n",
       "### Related help\n",
       "\n",
       "```julia\n",
       "?StructuralElement  : Help on structural elements\n",
       "?Rod                : Help on a Rod structural fin_el\n",
       "?FiniteElement      : Help on finite element types\n",
       "```\n"
      ]
     },
     "execution_count": 6,
     "metadata": {},
     "output_type": "execute_result"
    }
   ],
   "source": [
    "?FE4_1"
   ]
  },
  {
   "cell_type": "code",
   "execution_count": 7,
   "metadata": {
    "collapsed": false
   },
   "outputs": [],
   "source": [
    "data = Dict(\n",
    "# Rod(nxe, np_types, nip, fin_el(nod, nodof))\n",
    ":struc_el => Rod(N, 1, 1, Line(2, 1)),\n",
    "  :properties => [1.0e5;],\n",
    "  :x_coords => linspace(0, 1, (N+1)),\n",
    "  :support => [(1, [0])],\n",
    "  :loaded_nodes => dist_loads\n",
    ");"
   ]
  },
  {
   "cell_type": "code",
   "execution_count": 8,
   "metadata": {
    "collapsed": false
   },
   "outputs": [
    {
     "name": "stdout",
     "output_type": "stream",
     "text": [
      "There are 4 equations and the skyline storage is 7.\n",
      "\n"
     ]
    }
   ],
   "source": [
    "m = FE4_1(data);"
   ]
  },
  {
   "cell_type": "code",
   "execution_count": 9,
   "metadata": {
    "collapsed": false
   },
   "outputs": [
    {
     "data": {
      "text/plain": [
       "5×1 Array{Float64,2}:\n",
       "  0.0       \n",
       " -1.09375e-5\n",
       " -1.875e-5  \n",
       " -2.34375e-5\n",
       " -2.5e-5    "
      ]
     },
     "execution_count": 9,
     "metadata": {},
     "output_type": "execute_result"
    }
   ],
   "source": [
    "m.displacements"
   ]
  },
  {
   "cell_type": "code",
   "execution_count": 10,
   "metadata": {
    "collapsed": false
   },
   "outputs": [
    {
     "ename": "LoadError",
     "evalue": "UndefVarError: plot not defined",
     "output_type": "error",
     "traceback": [
      "UndefVarError: plot not defined",
      ""
     ]
    }
   ],
   "source": [
    "plot(x=data[:x_coords], y=m.displacements[:,1],Geom.line())"
   ]
  },
  {
   "cell_type": "code",
   "execution_count": 11,
   "metadata": {
    "collapsed": false
   },
   "outputs": [
    {
     "data": {
      "text/plain": [
       "4×2 Array{Float64,2}:\n",
       " 4.375  -4.375\n",
       " 3.125  -3.125\n",
       " 1.875  -1.875\n",
       " 0.625  -0.625"
      ]
     },
     "execution_count": 11,
     "metadata": {},
     "output_type": "execute_result"
    }
   ],
   "source": [
    "m.actions"
   ]
  },
  {
   "cell_type": "code",
   "execution_count": 12,
   "metadata": {
    "collapsed": false
   },
   "outputs": [
    {
     "ename": "LoadError",
     "evalue": "UndefVarError: plot not defined",
     "output_type": "error",
     "traceback": [
      "UndefVarError: plot not defined",
      ""
     ]
    }
   ],
   "source": [
    "plot(x=data[:x_coords], y=[F; m.actions[:,1]],Geom.line())"
   ]
  },
  {
   "cell_type": "markdown",
   "metadata": {},
   "source": [
    "### Step by step through FE4_1\n",
    "\n",
    "Above the results using FE4_1.jl. Below goes through the steps in FE4_1.jl. Initial part just checks the input Dict."
   ]
  },
  {
   "cell_type": "code",
   "execution_count": 13,
   "metadata": {
    "collapsed": false
   },
   "outputs": [
    {
     "data": {
      "text/plain": [
       "CSoM.Rod(4,1,1,CSoM.Line(2,1))"
      ]
     },
     "execution_count": 13,
     "metadata": {},
     "output_type": "execute_result"
    }
   ],
   "source": [
    "if :struc_el in keys(data)\n",
    "    struc_el = data[:struc_el]\n",
    "end"
   ]
  },
  {
   "cell_type": "code",
   "execution_count": 14,
   "metadata": {
    "collapsed": false
   },
   "outputs": [
    {
     "name": "stdout",
     "output_type": "stream",
     "text": [
      "search: \u001b[1mR\u001b[22m\u001b[1mo\u001b[22m\u001b[1md\u001b[22m p\u001b[1mr\u001b[22m\u001b[1mo\u001b[22m\u001b[1md\u001b[22m p\u001b[1mr\u001b[22m\u001b[1mo\u001b[22m\u001b[1md\u001b[22m! p\u001b[1mr\u001b[22m\u001b[1mo\u001b[22m\u001b[1md\u001b[22muce cump\u001b[1mr\u001b[22m\u001b[1mo\u001b[22m\u001b[1md\u001b[22m cump\u001b[1mr\u001b[22m\u001b[1mo\u001b[22m\u001b[1md\u001b[22m! b\u001b[1mr\u001b[22m\u001b[1mo\u001b[22ma\u001b[1md\u001b[22mcast b\u001b[1mr\u001b[22m\u001b[1mo\u001b[22ma\u001b[1md\u001b[22mcast!\n",
      "\n"
     ]
    },
    {
     "data": {
      "text/markdown": [
       "## Rod\n",
       "\n",
       "Concrete 1D structural element with only axial stresses.\n",
       "\n",
       "### Constructor\n",
       "\n",
       "```julia\n",
       "Rod(nels, np_types, nip, fin_el)\n",
       "```\n",
       "\n",
       "### Arguments\n",
       "\n",
       "```julia\n",
       "* nels::Int64             : Number of fin_els (stored in field nxe)\n",
       "* np_types::Int64         : Number of different property types\n",
       "* nip::Int64              : Number of integration points\n",
       "* fin_el::FiniteElement   : Line(nod, nodof)\n",
       "```\n",
       "\n",
       "### Related help\n",
       "\n",
       "```julia\n",
       "?StructuralElement  : Help on structural elements\n",
       "?FiniteElement      : Help on finite element types\n",
       "?Line               : Help on a Line finite element\n",
       "```\n"
      ],
      "text/plain": [
       "## Rod\n",
       "\n",
       "Concrete 1D structural element with only axial stresses.\n",
       "\n",
       "### Constructor\n",
       "\n",
       "```julia\n",
       "Rod(nels, np_types, nip, fin_el)\n",
       "```\n",
       "\n",
       "### Arguments\n",
       "\n",
       "```julia\n",
       "* nels::Int64             : Number of fin_els (stored in field nxe)\n",
       "* np_types::Int64         : Number of different property types\n",
       "* nip::Int64              : Number of integration points\n",
       "* fin_el::FiniteElement   : Line(nod, nodof)\n",
       "```\n",
       "\n",
       "### Related help\n",
       "\n",
       "```julia\n",
       "?StructuralElement  : Help on structural elements\n",
       "?FiniteElement      : Help on finite element types\n",
       "?Line               : Help on a Line finite element\n",
       "```\n"
      ]
     },
     "execution_count": 14,
     "metadata": {},
     "output_type": "execute_result"
    }
   ],
   "source": [
    "?Rod"
   ]
  },
  {
   "cell_type": "code",
   "execution_count": 15,
   "metadata": {
    "collapsed": false
   },
   "outputs": [],
   "source": [
    "ndim = 1\n",
    "nst = struc_el.np_types;"
   ]
  },
  {
   "cell_type": "code",
   "execution_count": 16,
   "metadata": {
    "collapsed": false
   },
   "outputs": [
    {
     "data": {
      "text/plain": [
       "CSoM.Line(2,1)"
      ]
     },
     "execution_count": 16,
     "metadata": {},
     "output_type": "execute_result"
    }
   ],
   "source": [
    "fin_el = struc_el.fin_el"
   ]
  },
  {
   "cell_type": "code",
   "execution_count": 17,
   "metadata": {
    "collapsed": false
   },
   "outputs": [
    {
     "name": "stdout",
     "output_type": "stream",
     "text": [
      "search:\n",
      "\n",
      "Couldn't find \u001b[36mmesh_size\n",
      "\u001b[39mPerhaps you meant filesize\n"
     ]
    },
    {
     "data": {
      "text/markdown": [
       "No documentation found.\n",
       "\n",
       "Binding `mesh_size` does not exist.\n"
      ],
      "text/plain": [
       "No documentation found.\n",
       "\n",
       "Binding `mesh_size` does not exist.\n"
      ]
     },
     "execution_count": 17,
     "metadata": {},
     "output_type": "execute_result"
    }
   ],
   "source": [
    "?mesh_size"
   ]
  },
  {
   "cell_type": "code",
   "execution_count": 18,
   "metadata": {
    "collapsed": false
   },
   "outputs": [
    {
     "ename": "LoadError",
     "evalue": "UndefVarError: mesh_size not defined",
     "output_type": "error",
     "traceback": [
      "UndefVarError: mesh_size not defined",
      ""
     ]
    }
   ],
   "source": [
    "if typeof(fin_el) == Line\n",
    "    (nels, nn) = mesh_size(fin_el, struc_el.nxe)\n",
    "elseif typeof(fin_el) == Triangle || typeof(fin_el) == Quadrilateral\n",
    "    (nels, nn) = mesh_size(fin_el, struc_el.nxe, struc_el.nye)\n",
    "elseif typeof(fin_el) == Hexahedron\n",
    "    (nels, nn) = mesh_size(fin_el, struc_el.nxe, struc_el.nye, struc_el.nze)\n",
    "end"
   ]
  },
  {
   "cell_type": "code",
   "execution_count": 19,
   "metadata": {
    "collapsed": false
   },
   "outputs": [
    {
     "data": {
      "text/plain": [
       "1"
      ]
     },
     "execution_count": 19,
     "metadata": {},
     "output_type": "execute_result"
    }
   ],
   "source": [
    "nodof = fin_el.nodof         # Degrees of freedom per node"
   ]
  },
  {
   "cell_type": "code",
   "execution_count": 20,
   "metadata": {
    "collapsed": false
   },
   "outputs": [
    {
     "data": {
      "text/plain": [
       "2"
      ]
     },
     "execution_count": 20,
     "metadata": {},
     "output_type": "execute_result"
    }
   ],
   "source": [
    "ndof = fin_el.nod * nodof    # Degrees of freedom per fin_el"
   ]
  },
  {
   "cell_type": "code",
   "execution_count": 21,
   "metadata": {
    "collapsed": false
   },
   "outputs": [],
   "source": [
    "penalty = 1e20\n",
    "if :penalty in keys(data)\n",
    "    penalty = data[:penalty]\n",
    "end"
   ]
  },
  {
   "cell_type": "code",
   "execution_count": 22,
   "metadata": {
    "collapsed": false
   },
   "outputs": [],
   "source": [
    "if :properties in keys(data)\n",
    "    prop = zeros(size(data[:properties], 1), size(data[:properties], 2))\n",
    "    for i in 1:size(data[:properties], 1)\n",
    "        prop[i, :] = data[:properties][i, :]\n",
    "    end\n",
    "end"
   ]
  },
  {
   "cell_type": "code",
   "execution_count": 23,
   "metadata": {
    "collapsed": false
   },
   "outputs": [
    {
     "data": {
      "text/plain": [
       "1×1 Array{Float64,2}:\n",
       " 100000.0"
      ]
     },
     "execution_count": 23,
     "metadata": {},
     "output_type": "execute_result"
    }
   ],
   "source": [
    "prop"
   ]
  },
  {
   "cell_type": "code",
   "execution_count": 24,
   "metadata": {
    "collapsed": false
   },
   "outputs": [
    {
     "ename": "LoadError",
     "evalue": "UndefVarError: nn not defined",
     "output_type": "error",
     "traceback": [
      "UndefVarError: nn not defined",
      ""
     ]
    }
   ],
   "source": [
    "nf = ones(Int64, nodof, nn)\n",
    "if :support in keys(data)\n",
    "    for i in 1:size(data[:support], 1)\n",
    "        nf[:, data[:support][i][1]] = data[:support][i][2]\n",
    "    end\n",
    "end\n",
    "(size(nf), nf)"
   ]
  },
  {
   "cell_type": "code",
   "execution_count": 25,
   "metadata": {
    "collapsed": false
   },
   "outputs": [
    {
     "ename": "LoadError",
     "evalue": "UndefVarError: nn not defined",
     "output_type": "error",
     "traceback": [
      "UndefVarError: nn not defined",
      ""
     ]
    }
   ],
   "source": [
    "x_coords = zeros(nn)\n",
    "if :x_coords in keys(data)\n",
    "    x_coords = data[:x_coords]\n",
    "end\n",
    "  \n",
    "y_coords = zeros(nn)\n",
    "if :y_coords in keys(data)\n",
    "    y_coords = data[:y_coords]\n",
    "end\n",
    "  \n",
    "z_coords = zeros(nn)\n",
    "if :z_coords in keys(data)\n",
    "    z_coords = data[:z_coords]\n",
    "end\n",
    "\n",
    "etype = ones(Int64, nels)\n",
    "if :etype in keys(data)\n",
    "    etype = data[:etype]\n",
    "end\n",
    "x_coords"
   ]
  },
  {
   "cell_type": "code",
   "execution_count": 26,
   "metadata": {
    "collapsed": false
   },
   "outputs": [
    {
     "ename": "LoadError",
     "evalue": "UndefVarError: x_coords not defined",
     "output_type": "error",
     "traceback": [
      "UndefVarError: x_coords not defined",
      ""
     ]
    }
   ],
   "source": [
    "collect(x_coords)"
   ]
  },
  {
   "cell_type": "code",
   "execution_count": 27,
   "metadata": {
    "collapsed": false
   },
   "outputs": [
    {
     "ename": "LoadError",
     "evalue": "UndefVarError: nn not defined",
     "output_type": "error",
     "traceback": [
      "UndefVarError: nn not defined",
      ""
     ]
    }
   ],
   "source": [
    "#\n",
    "# Initialize all dynamic arrays storen in the FEM object\n",
    "#\n",
    "\n",
    "points = zeros(struc_el.nip, ndim)\n",
    "g = zeros(Int64, ndof)\n",
    "g_coord = zeros(ndim,nn)\n",
    "fun = zeros(fin_el.nod)\n",
    "coord = zeros(fin_el.nod, ndim)\n",
    "gamma = zeros(nels)\n",
    "jac = zeros(ndim, ndim)\n",
    "g_num = zeros(Int64, fin_el.nod, nels)\n",
    "der = zeros(ndim, fin_el.nod)\n",
    "deriv = zeros(ndim, fin_el.nod)\n",
    "bee = zeros(nst,ndof)\n",
    "km = zeros(ndof, ndof)\n",
    "mm = zeros(ndof, ndof)\n",
    "gm = zeros(ndof, ndof)\n",
    "kg = zeros(ndof, ndof)\n",
    "eld = zeros(ndof)\n",
    "weights = zeros(struc_el.nip)\n",
    "g_g = zeros(Int64, ndof, nels)\n",
    "num = zeros(Int64, fin_el.nod)\n",
    "actions = zeros(nels, ndof)\n",
    "displacements = zeros(size(nf, 1), ndim)\n",
    "gc = ones(ndim, ndim)\n",
    "dee = zeros(nst,nst)\n",
    "sigma = zeros(nst)\n",
    "axial = zeros(nels);"
   ]
  },
  {
   "cell_type": "markdown",
   "metadata": {},
   "source": [
    "Ok, all arrays have been initialized. Time to start the real work. First determine the global numbering:"
   ]
  },
  {
   "cell_type": "code",
   "execution_count": 28,
   "metadata": {
    "collapsed": false
   },
   "outputs": [
    {
     "name": "stdout",
     "output_type": "stream",
     "text": [
      "search: Uni\u001b[1mf\u001b[22m\u001b[1mo\u001b[22m\u001b[1mr\u001b[22m\u001b[1mm\u001b[22mScali\u001b[1mn\u001b[22mg\n",
      "\n",
      "Couldn't find \u001b[36mformnf!\n",
      "\u001b[39mPerhaps you meant foreach\n"
     ]
    },
    {
     "data": {
      "text/markdown": [
       "No documentation found.\n",
       "\n",
       "Binding `formnf!` does not exist.\n"
      ],
      "text/plain": [
       "No documentation found.\n",
       "\n",
       "Binding `formnf!` does not exist.\n"
      ]
     },
     "execution_count": 28,
     "metadata": {},
     "output_type": "execute_result"
    }
   ],
   "source": [
    "?formnf!"
   ]
  },
  {
   "cell_type": "code",
   "execution_count": 29,
   "metadata": {
    "collapsed": false
   },
   "outputs": [
    {
     "ename": "LoadError",
     "evalue": "UndefVarError: formnf! not defined",
     "output_type": "error",
     "traceback": [
      "UndefVarError: formnf! not defined",
      ""
     ]
    }
   ],
   "source": [
    "formnf!(nodof, nn, nf)\n",
    "nf"
   ]
  },
  {
   "cell_type": "markdown",
   "metadata": {},
   "source": [
    "Node 1 is fixed, nodes 2 to 5 represents degrees of freedom. We need 4 equations to solve for 4 displacements."
   ]
  },
  {
   "cell_type": "code",
   "execution_count": 30,
   "metadata": {
    "collapsed": false
   },
   "outputs": [
    {
     "ename": "LoadError",
     "evalue": "UndefVarError: nf not defined",
     "output_type": "error",
     "traceback": [
      "UndefVarError: nf not defined",
      ""
     ]
    }
   ],
   "source": [
    "neq = maximum(nf)"
   ]
  },
  {
   "cell_type": "code",
   "execution_count": 31,
   "metadata": {
    "collapsed": false
   },
   "outputs": [
    {
     "ename": "LoadError",
     "evalue": "UndefVarError: neq not defined",
     "output_type": "error",
     "traceback": [
      "UndefVarError: neq not defined",
      ""
     ]
    }
   ],
   "source": [
    "kdiag = zeros(Int64, neq);"
   ]
  },
  {
   "cell_type": "code",
   "execution_count": 32,
   "metadata": {
    "collapsed": false
   },
   "outputs": [
    {
     "ename": "LoadError",
     "evalue": "UndefVarError: nels not defined",
     "output_type": "error",
     "traceback": [
      "UndefVarError: nels not defined",
      ""
     ]
    }
   ],
   "source": [
    "ell = zeros(nels)\n",
    "if :x_coords in keys(data)\n",
    "    for i in 1:length(data[:x_coords])-1\n",
    "        ell[i] = data[:x_coords][i+1] - data[:x_coords][i]\n",
    "    end\n",
    "end\n",
    "ell"
   ]
  },
  {
   "cell_type": "code",
   "execution_count": 33,
   "metadata": {
    "collapsed": false
   },
   "outputs": [
    {
     "ename": "LoadError",
     "evalue": "UndefVarError: nels not defined",
     "output_type": "error",
     "traceback": [
      "UndefVarError: nels not defined",
      "",
      " in anonymous at ./<missing>:?"
     ]
    }
   ],
   "source": [
    "for i in 1:nels\n",
    "    num = [i; i+1]\n",
    "    num_to_g!(fin_el.nod, nodof, nn, ndof, num, nf, g)\n",
    "    println(g)\n",
    "    g_g[:, i] = g\n",
    "    fkdiag!(ndof, neq, g, kdiag)\n",
    "    println(kdiag)\n",
    "end"
   ]
  },
  {
   "cell_type": "code",
   "execution_count": 34,
   "metadata": {
    "collapsed": false
   },
   "outputs": [
    {
     "ename": "LoadError",
     "evalue": "UndefVarError: kdiag not defined",
     "output_type": "error",
     "traceback": [
      "UndefVarError: kdiag not defined",
      ""
     ]
    }
   ],
   "source": [
    "kdiag"
   ]
  },
  {
   "cell_type": "code",
   "execution_count": 35,
   "metadata": {
    "collapsed": false
   },
   "outputs": [
    {
     "ename": "LoadError",
     "evalue": "UndefVarError: g_g not defined",
     "output_type": "error",
     "traceback": [
      "UndefVarError: g_g not defined",
      ""
     ]
    }
   ],
   "source": [
    "g_g"
   ]
  },
  {
   "cell_type": "code",
   "execution_count": 36,
   "metadata": {
    "collapsed": false
   },
   "outputs": [
    {
     "ename": "LoadError",
     "evalue": "UndefVarError: neq not defined",
     "output_type": "error",
     "traceback": [
      "UndefVarError: neq not defined",
      "",
      " in anonymous at ./<missing>:?"
     ]
    }
   ],
   "source": [
    "for i in 2:neq\n",
    "    kdiag[i] = kdiag[i] + kdiag[i-1]\n",
    "end\n",
    "kdiag"
   ]
  },
  {
   "cell_type": "code",
   "execution_count": 37,
   "metadata": {
    "collapsed": false
   },
   "outputs": [
    {
     "ename": "LoadError",
     "evalue": "UndefVarError: kdiag not defined",
     "output_type": "error",
     "traceback": [
      "UndefVarError: kdiag not defined",
      ""
     ]
    }
   ],
   "source": [
    "kv = zeros(kdiag[neq])\n",
    "gv = zeros(kdiag[neq])\n",
    "print(\"There are $(neq) equations,\")\n",
    "println(\" and the skyline storage is $(kdiag[neq]).\\n\")"
   ]
  },
  {
   "cell_type": "code",
   "execution_count": 38,
   "metadata": {
    "collapsed": false,
    "scrolled": true
   },
   "outputs": [
    {
     "ename": "LoadError",
     "evalue": "UndefVarError: neq not defined",
     "output_type": "error",
     "traceback": [
      "UndefVarError: neq not defined",
      ""
     ]
    }
   ],
   "source": [
    "loads = zeros(neq+1)\n",
    "if :loaded_nodes in keys(data)\n",
    "    for i in 1:size(data[:loaded_nodes], 1)\n",
    "        loads[nf[:, data[:loaded_nodes][i][1]]+1] = \n",
    "            data[:loaded_nodes][i][2]\n",
    "    end\n",
    "end\n",
    "nf"
   ]
  },
  {
   "cell_type": "code",
   "execution_count": 39,
   "metadata": {
    "collapsed": false
   },
   "outputs": [
    {
     "ename": "LoadError",
     "evalue": "UndefVarError: nels not defined",
     "output_type": "error",
     "traceback": [
      "UndefVarError: nels not defined",
      "",
      " in anonymous at ./<missing>:?"
     ]
    }
   ],
   "source": [
    "for i in 1:nels\n",
    "    km = rod_km!(km, prop[etype[i], 1], ell[i])\n",
    "    g = g_g[:, i]\n",
    "    fsparv!(kv, km, g, kdiag)\n",
    "end"
   ]
  },
  {
   "cell_type": "code",
   "execution_count": 40,
   "metadata": {
    "collapsed": false
   },
   "outputs": [
    {
     "ename": "LoadError",
     "evalue": "UndefVarError: km not defined",
     "output_type": "error",
     "traceback": [
      "UndefVarError: km not defined",
      ""
     ]
    }
   ],
   "source": [
    "km"
   ]
  },
  {
   "cell_type": "code",
   "execution_count": 41,
   "metadata": {
    "collapsed": false
   },
   "outputs": [
    {
     "ename": "LoadError",
     "evalue": "UndefVarError: kv not defined",
     "output_type": "error",
     "traceback": [
      "UndefVarError: kv not defined",
      ""
     ]
    }
   ],
   "source": [
    "kv"
   ]
  },
  {
   "cell_type": "code",
   "execution_count": 42,
   "metadata": {
    "collapsed": false
   },
   "outputs": [],
   "source": [
    "# Add radial stress if fin_el is 3d and axisymmetric\n",
    "if ndim == 3 && struc_el.axisymmetric\n",
    "    nst = 4\n",
    "end"
   ]
  },
  {
   "cell_type": "code",
   "execution_count": 43,
   "metadata": {
    "collapsed": false
   },
   "outputs": [
    {
     "ename": "LoadError",
     "evalue": "UndefVarError: loads not defined",
     "output_type": "error",
     "traceback": [
      "UndefVarError: loads not defined",
      ""
     ]
    }
   ],
   "source": [
    "fixed_freedoms = 0\n",
    "if :fixed_freedoms in keys(data)\n",
    "    fixed_freedoms = size(data[:fixed_freedoms], 1)\n",
    "end\n",
    "no = zeros(Int64, fixed_freedoms)\n",
    "node = zeros(Int64, fixed_freedoms)\n",
    "sense = zeros(Int64, fixed_freedoms)\n",
    "value = zeros(Float64, fixed_freedoms)\n",
    "if :fixed_freedoms in keys(data) && fixed_freedoms > 0\n",
    "    for i in 1:fixed_freedoms\n",
    "      node[i] = data[:fixed_freedoms][i][1]\n",
    "      sense[i] = data[:fixed_freedoms][i][2]\n",
    "      no[i] = nf[sense[i], node[i]]\n",
    "      value[i] = data[:fixed_freedoms][i][3]\n",
    "    end\n",
    "    kv[kdiag[no]] = kv[kdiag[no]] + penalty\n",
    "    loads[no+1] = kv[kdiag[no]] .* value\n",
    "end\n",
    "loads"
   ]
  },
  {
   "cell_type": "code",
   "execution_count": 44,
   "metadata": {
    "collapsed": false
   },
   "outputs": [
    {
     "ename": "LoadError",
     "evalue": "UndefVarError: sparin! not defined",
     "output_type": "error",
     "traceback": [
      "UndefVarError: sparin! not defined",
      ""
     ]
    }
   ],
   "source": [
    "sparin!(kv, kdiag)\n",
    "loads[2:end] = spabac!(kv, loads[2:end], kdiag)\n",
    "loads"
   ]
  },
  {
   "cell_type": "code",
   "execution_count": 45,
   "metadata": {
    "collapsed": false
   },
   "outputs": [
    {
     "ename": "LoadError",
     "evalue": "UndefVarError: nf not defined",
     "output_type": "error",
     "traceback": [
      "UndefVarError: nf not defined",
      ""
     ]
    }
   ],
   "source": [
    "displacements = zeros(size(nf))\n",
    "for i in 1:size(displacements, 1)\n",
    "    for j in 1:size(displacements, 2)\n",
    "      if nf[i, j] > 0\n",
    "        displacements[i,j] = loads[nf[i, j]+1]\n",
    "      end\n",
    "    end\n",
    "end\n",
    "displacements = displacements'"
   ]
  },
  {
   "cell_type": "code",
   "execution_count": 46,
   "metadata": {
    "collapsed": false
   },
   "outputs": [
    {
     "ename": "LoadError",
     "evalue": "UndefVarError: loads not defined",
     "output_type": "error",
     "traceback": [
      "UndefVarError: loads not defined",
      ""
     ]
    }
   ],
   "source": [
    "loads[1] = 0.0\n",
    "for i in 1:nels\n",
    "    km = rod_km!(km, prop[etype[i], 1], ell[i])\n",
    "    g = g_g[:, i]\n",
    "    eld = loads[g+1]\n",
    "    actions[i, :] = km * eld\n",
    "end\n",
    "actions"
   ]
  },
  {
   "cell_type": "code",
   "execution_count": 47,
   "metadata": {
    "collapsed": false
   },
   "outputs": [
    {
     "ename": "LoadError",
     "evalue": "UndefVarError: nels not defined",
     "output_type": "error",
     "traceback": [
      "UndefVarError: nels not defined",
      ""
     ]
    }
   ],
   "source": [
    "m=FEM(struc_el, fin_el, ndim, nels, nst, ndof, nn, nodof, neq, penalty,\n",
    "    etype, g, g_g, g_num, kdiag, nf, no, node, num, sense, actions, \n",
    "    bee, coord, gamma, dee, der, deriv, displacements, eld, fun, gc,\n",
    "    g_coord, jac, km, mm, gm, kv, gv, loads, points, prop, sigma, value,\n",
    "    weights, x_coords, y_coords, z_coords, axial);"
   ]
  },
  {
   "cell_type": "code",
   "execution_count": 48,
   "metadata": {
    "collapsed": false
   },
   "outputs": [
    {
     "data": {
      "text/plain": [
       "5×1 Array{Float64,2}:\n",
       "  0.0       \n",
       " -1.09375e-5\n",
       " -1.875e-5  \n",
       " -2.34375e-5\n",
       " -2.5e-5    "
      ]
     },
     "execution_count": 48,
     "metadata": {},
     "output_type": "execute_result"
    }
   ],
   "source": [
    "m.displacements"
   ]
  },
  {
   "cell_type": "code",
   "execution_count": 49,
   "metadata": {
    "collapsed": false
   },
   "outputs": [
    {
     "data": {
      "text/plain": [
       "4×2 Array{Float64,2}:\n",
       " 4.375  -4.375\n",
       " 3.125  -3.125\n",
       " 1.875  -1.875\n",
       " 0.625  -0.625"
      ]
     },
     "execution_count": 49,
     "metadata": {},
     "output_type": "execute_result"
    }
   ],
   "source": [
    "m.actions"
   ]
  }
 ],
 "metadata": {
  "anaconda-cloud": {},
  "kernelspec": {
   "display_name": "Julia 0.5.0",
   "language": "julia",
   "name": "julia-0.5"
  },
  "language_info": {
   "file_extension": ".jl",
   "mimetype": "application/julia",
   "name": "julia",
   "version": "0.5.0"
  }
 },
 "nbformat": 4,
 "nbformat_minor": 0
}
