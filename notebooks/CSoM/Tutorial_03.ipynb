{
 "cells": [
  {
   "cell_type": "markdown",
   "metadata": {},
   "source": [
    "# EEM: Based on the examples in the book \"Finite-element method for beams\".\n",
    "\n",
    "By Johan Blaauwendraad http://www.delftacademicpress.nl/f040.php (in Dutch).\n",
    "\n",
    "This Tutorial_02 notebook uses the figure 1.1 example in EEM and explains in detail how the FE4_1 skeleton program in the CSoM package works."
   ]
  },
  {
   "cell_type": "markdown",
   "metadata": {
    "collapsed": false
   },
   "source": [
    "Tutorial_02 continues where Tutorial_01 ends. Repeat the initial steps because later on in the explanations we need m.kv, the stiffnes matrix in Skyline format."
   ]
  },
  {
   "cell_type": "code",
   "execution_count": 2,
   "metadata": {
    "collapsed": false
   },
   "outputs": [],
   "source": [
    "using CSoM, DataFrames, Plots"
   ]
  },
  {
   "cell_type": "code",
   "execution_count": 3,
   "metadata": {
    "collapsed": false
   },
   "outputs": [],
   "source": [
    "struct_el = :Rod   # A 1-dimensional structural element that can only handle axial forces.\n",
    "fin_el = :Line     # The type of finite element used to construct a mesh for the structural element;"
   ]
  },
  {
   "cell_type": "code",
   "execution_count": 4,
   "metadata": {
    "collapsed": false
   },
   "outputs": [],
   "source": [
    "l = 1.0       # Total length of structural element [m]\n",
    "q = 5.0       # Distributed load [N/m]\n",
    "N = 5        # Number of nodes\n",
    "els = N - 1   # Number of finite elements\n",
    "nod = 2       # Number of nodes per finite elements\n",
    "nodof = 1     # Degrees of freedom for each node, just axial ;"
   ]
  },
  {
   "cell_type": "code",
   "execution_count": 5,
   "metadata": {
    "collapsed": false
   },
   "outputs": [],
   "source": [
    "data = Dict(\n",
    "  # Rod(nxe, np_types, nip, fin_el(nod, nodof))\n",
    "  :struc_el => getfield(Main, Symbol(struct_el))(els, 1, 1,\n",
    "    getfield(Main, Symbol(fin_el))(nod, nodof)),\n",
    "  :properties => [1.0e5;],\n",
    "  :x_coords => 0.0:l/els:l,\n",
    "  :support => [(N, [0])],\n",
    "  :loaded_nodes => [(i, repeat([0.0], inner=nodof)) for i in 1:N],\n",
    "  :eq_nodal_forces_and_moments => [(i, repeat([0.0], inner=nodof*nod)) for i in 1:els]\n",
    ");"
   ]
  },
  {
   "cell_type": "code",
   "execution_count": 6,
   "metadata": {
    "collapsed": false
   },
   "outputs": [],
   "source": [
    "for node in 1:els\n",
    "  data[:eq_nodal_forces_and_moments][node][2][1] = (1/2)*q*l/els\n",
    "  data[:eq_nodal_forces_and_moments][node][2][2] = (1/2)*q*l/els\n",
    "end  "
   ]
  },
  {
   "cell_type": "code",
   "execution_count": 7,
   "metadata": {
    "collapsed": true
   },
   "outputs": [],
   "source": [
    "for node in 1:N-1\n",
    "  data[:loaded_nodes][node][2][1] += data[:eq_nodal_forces_and_moments][node][2][1]\n",
    "  data[:loaded_nodes][node+1][2][1] += data[:eq_nodal_forces_and_moments][node][2][2]\n",
    "end  "
   ]
  },
  {
   "cell_type": "code",
   "execution_count": 8,
   "metadata": {
    "collapsed": false
   },
   "outputs": [
    {
     "name": "stdout",
     "output_type": "stream",
     "text": [
      "There are 4 equations and the skyline storage is 7.\n",
      "\n"
     ]
    }
   ],
   "source": [
    "m = FE4_1(data);"
   ]
  },
  {
   "cell_type": "markdown",
   "metadata": {},
   "source": [
    "### Here starts the review of all steps in FE4_1\n",
    "\n",
    "First couple of steps just go over the input data Dictionary and copies the entries to global variables. This is just for demonstration purposes. Inreality all of this is done inside the FE4_1 function."
   ]
  },
  {
   "cell_type": "code",
   "execution_count": 9,
   "metadata": {
    "collapsed": false
   },
   "outputs": [
    {
     "data": {
      "text/plain": [
       "CSoM.Rod(4,1,1,CSoM.Line(2,1))"
      ]
     },
     "execution_count": 9,
     "metadata": {},
     "output_type": "execute_result"
    }
   ],
   "source": [
    "if :struc_el in keys(data)\n",
    "    struc_el = data[:struc_el]\n",
    "end"
   ]
  },
  {
   "cell_type": "code",
   "execution_count": 10,
   "metadata": {
    "collapsed": false
   },
   "outputs": [],
   "source": [
    "ndim = 1\n",
    "nst = struc_el.np_types;"
   ]
  },
  {
   "cell_type": "code",
   "execution_count": 11,
   "metadata": {
    "collapsed": false
   },
   "outputs": [
    {
     "data": {
      "text/plain": [
       "CSoM.Line(2,1)"
      ]
     },
     "execution_count": 11,
     "metadata": {},
     "output_type": "execute_result"
    }
   ],
   "source": [
    "fin_el = struc_el.fin_el"
   ]
  },
  {
   "cell_type": "code",
   "execution_count": 12,
   "metadata": {
    "collapsed": false
   },
   "outputs": [
    {
     "data": {
      "text/plain": [
       "(4,5)"
      ]
     },
     "execution_count": 12,
     "metadata": {},
     "output_type": "execute_result"
    }
   ],
   "source": [
    "if typeof(fin_el) == Line # 1D finite element\n",
    "    (nels, nn) = CSoM.mesh_size(fin_el, struc_el.nxe)\n",
    "    elseif typeof(fin_el) == Triangle || typeof(fin_el) == Quadrilateral # 2D finite elements\n",
    "    (nels, nn) = mesh_size(fin_el, struc_el.nxe, struc_el.nye)\n",
    "    elseif typeof(fin_el) == Hexahedron  # 3D finite elements\n",
    "    (nels, nn) = mesh_size(fin_el, struc_el.nxe, struc_el.nye, struc_el.nze)\n",
    "end"
   ]
  },
  {
   "cell_type": "code",
   "execution_count": 13,
   "metadata": {
    "collapsed": false
   },
   "outputs": [
    {
     "data": {
      "text/plain": [
       "1"
      ]
     },
     "execution_count": 13,
     "metadata": {},
     "output_type": "execute_result"
    }
   ],
   "source": [
    "nodof = fin_el.nodof         # Degrees of freedom per node"
   ]
  },
  {
   "cell_type": "code",
   "execution_count": 14,
   "metadata": {
    "collapsed": false
   },
   "outputs": [
    {
     "data": {
      "text/plain": [
       "2"
      ]
     },
     "execution_count": 14,
     "metadata": {},
     "output_type": "execute_result"
    }
   ],
   "source": [
    "ndof = fin_el.nod * nodof    # Degrees of freedom per fin_el, in this case each finite element has 2 nodes"
   ]
  },
  {
   "cell_type": "code",
   "execution_count": 15,
   "metadata": {
    "collapsed": false
   },
   "outputs": [],
   "source": [
    "penalty = 1e20                         # used to fix fixed_freedoms\n",
    "if :penalty in keys(data)\n",
    "    penalty = data[:penalty]\n",
    "end"
   ]
  },
  {
   "cell_type": "code",
   "execution_count": 16,
   "metadata": {
    "collapsed": false
   },
   "outputs": [],
   "source": [
    "if :properties in keys(data)\n",
    "    prop = zeros(size(data[:properties], 1), size(data[:properties], 2))\n",
    "    for i in 1:size(data[:properties], 1)\n",
    "        prop[i, :] = data[:properties][i, :]\n",
    "    end\n",
    "end"
   ]
  },
  {
   "cell_type": "code",
   "execution_count": 17,
   "metadata": {
    "collapsed": false
   },
   "outputs": [
    {
     "data": {
      "text/plain": [
       "1×1 Array{Float64,2}:\n",
       " 100000.0"
      ]
     },
     "execution_count": 17,
     "metadata": {},
     "output_type": "execute_result"
    }
   ],
   "source": [
    "prop"
   ]
  },
  {
   "cell_type": "code",
   "execution_count": 18,
   "metadata": {
    "collapsed": false
   },
   "outputs": [
    {
     "data": {
      "text/plain": [
       "((1,5),\n",
       "[1 1 … 1 0])"
      ]
     },
     "execution_count": 18,
     "metadata": {},
     "output_type": "execute_result"
    }
   ],
   "source": [
    "nf = ones(Int64, nodof, nn)\n",
    "if :support in keys(data)\n",
    "    for i in 1:size(data[:support], 1)\n",
    "        nf[:, data[:support][i][1]] = data[:support][i][2]\n",
    "    end\n",
    "end\n",
    "(size(nf), nf)"
   ]
  },
  {
   "cell_type": "code",
   "execution_count": 19,
   "metadata": {
    "collapsed": false
   },
   "outputs": [
    {
     "data": {
      "text/plain": [
       "0.0:0.25:1.0"
      ]
     },
     "execution_count": 19,
     "metadata": {},
     "output_type": "execute_result"
    }
   ],
   "source": [
    "x_coords = zeros(nn)\n",
    "if :x_coords in keys(data)\n",
    "    x_coords = data[:x_coords]\n",
    "end\n",
    "  \n",
    "y_coords = zeros(nn)\n",
    "if :y_coords in keys(data)\n",
    "    y_coords = data[:y_coords]\n",
    "end\n",
    "  \n",
    "z_coords = zeros(nn)\n",
    "if :z_coords in keys(data)\n",
    "    z_coords = data[:z_coords]\n",
    "end\n",
    "\n",
    "etype = ones(Int64, nels)\n",
    "if :etype in keys(data)\n",
    "    etype = data[:etype]\n",
    "end\n",
    "x_coords"
   ]
  },
  {
   "cell_type": "code",
   "execution_count": 20,
   "metadata": {
    "collapsed": false
   },
   "outputs": [
    {
     "data": {
      "text/plain": [
       "5-element Array{Float64,1}:\n",
       " 0.0 \n",
       " 0.25\n",
       " 0.5 \n",
       " 0.75\n",
       " 1.0 "
      ]
     },
     "execution_count": 20,
     "metadata": {},
     "output_type": "execute_result"
    }
   ],
   "source": [
    "collect(x_coords)"
   ]
  },
  {
   "cell_type": "code",
   "execution_count": 21,
   "metadata": {
    "collapsed": false
   },
   "outputs": [],
   "source": [
    "#\n",
    "# Initialize dynamic arrays stored in the FEM object\n",
    "#\n",
    "\n",
    "points = zeros(struc_el.nip, ndim)\n",
    "g = zeros(Int64, ndof)\n",
    "g_coord = zeros(ndim,nn)\n",
    "fun = zeros(fin_el.nod)\n",
    "coord = zeros(fin_el.nod, ndim)\n",
    "gamma = zeros(nels)\n",
    "jac = zeros(ndim, ndim)\n",
    "g_num = zeros(Int64, fin_el.nod, nels)\n",
    "der = zeros(ndim, fin_el.nod)\n",
    "deriv = zeros(ndim, fin_el.nod)\n",
    "bee = zeros(nst,ndof)\n",
    "km = zeros(ndof, ndof)\n",
    "mm = zeros(ndof, ndof)\n",
    "gm = zeros(ndof, ndof)\n",
    "kg = zeros(ndof, ndof)\n",
    "eld = zeros(ndof)\n",
    "weights = zeros(struc_el.nip)\n",
    "g_g = zeros(Int64, ndof, nels)\n",
    "num = zeros(Int64, fin_el.nod)\n",
    "actions = zeros(nels, ndof)\n",
    "displacements = zeros(size(nf, 1), ndim)\n",
    "gc = ones(ndim, ndim)\n",
    "dee = zeros(nst,nst)\n",
    "sigma = zeros(nst)\n",
    "axial = zeros(nels);"
   ]
  },
  {
   "cell_type": "markdown",
   "metadata": {},
   "source": [
    "Ok, most arrays have been initialized. Time to start the real work. First determine the global numbering:"
   ]
  },
  {
   "cell_type": "code",
   "execution_count": 22,
   "metadata": {
    "collapsed": false
   },
   "outputs": [
    {
     "data": {
      "text/markdown": [
       "## formnf!\n",
       "\n",
       "Returns nodal freedom numbering array nf\n",
       "\n",
       "### Function\n",
       "\n",
       "```julia\n",
       "formnf!(nodof::Int64, nn::Int64, nf::Matrix{Int64})\n",
       "```\n",
       "\n",
       "### Arguments\n",
       "\n",
       "```julia\n",
       "* nodof::Int64       : Number of degrees of freedom for each node\n",
       "* nn::Int64          : Number of nodes in mesh\n",
       "* nf::Array{Int64,2} : Nodal freedom matrix (updated)\n",
       "```\n"
      ],
      "text/plain": [
       "## formnf!\n",
       "\n",
       "Returns nodal freedom numbering array nf\n",
       "\n",
       "### Function\n",
       "\n",
       "```julia\n",
       "formnf!(nodof::Int64, nn::Int64, nf::Matrix{Int64})\n",
       "```\n",
       "\n",
       "### Arguments\n",
       "\n",
       "```julia\n",
       "* nodof::Int64       : Number of degrees of freedom for each node\n",
       "* nn::Int64          : Number of nodes in mesh\n",
       "* nf::Array{Int64,2} : Nodal freedom matrix (updated)\n",
       "```\n"
      ]
     },
     "execution_count": 22,
     "metadata": {},
     "output_type": "execute_result"
    }
   ],
   "source": [
    "?CSoM.formnf!"
   ]
  },
  {
   "cell_type": "code",
   "execution_count": 23,
   "metadata": {
    "collapsed": false
   },
   "outputs": [
    {
     "data": {
      "text/plain": [
       "1×5 Array{Int64,2}:\n",
       " 1  2  3  4  0"
      ]
     },
     "execution_count": 23,
     "metadata": {},
     "output_type": "execute_result"
    }
   ],
   "source": [
    "CSoM.formnf!(nodof, nn, nf)\n",
    "nf"
   ]
  },
  {
   "cell_type": "markdown",
   "metadata": {},
   "source": [
    "Node N (= 10 in this example) is fixed, nodes 1 to 9 represents the degrees of freedom. We need 9 equations to solve for these 9 displacements."
   ]
  },
  {
   "cell_type": "code",
   "execution_count": 24,
   "metadata": {
    "collapsed": false
   },
   "outputs": [
    {
     "data": {
      "text/plain": [
       "4"
      ]
     },
     "execution_count": 24,
     "metadata": {},
     "output_type": "execute_result"
    }
   ],
   "source": [
    "neq = maximum(nf)"
   ]
  },
  {
   "cell_type": "code",
   "execution_count": 25,
   "metadata": {
    "collapsed": false
   },
   "outputs": [],
   "source": [
    "kdiag = zeros(Int64, neq);"
   ]
  },
  {
   "cell_type": "code",
   "execution_count": 26,
   "metadata": {
    "collapsed": false
   },
   "outputs": [
    {
     "data": {
      "text/plain": [
       "4-element Array{Float64,1}:\n",
       " 0.25\n",
       " 0.25\n",
       " 0.25\n",
       " 0.25"
      ]
     },
     "execution_count": 26,
     "metadata": {},
     "output_type": "execute_result"
    }
   ],
   "source": [
    "ell = zeros(nels) # Used to hold element length\n",
    "if :x_coords in keys(data)\n",
    "    for i in 1:length(data[:x_coords])-1\n",
    "        ell[i] = data[:x_coords][i+1] - data[:x_coords][i]\n",
    "    end\n",
    "end\n",
    "ell"
   ]
  },
  {
   "cell_type": "code",
   "execution_count": 27,
   "metadata": {
    "collapsed": false
   },
   "outputs": [],
   "source": [
    "for i in 1:nels\n",
    "    num = [i; i+1]\n",
    "    CSoM.num_to_g!(fin_el.nod, nodof, nn, ndof, num, nf, g)\n",
    "    g_g[:, i] = g\n",
    "    CSoM.fkdiag!(ndof, neq, g, kdiag)\n",
    "end"
   ]
  },
  {
   "cell_type": "markdown",
   "metadata": {},
   "source": [
    "### Matrix g_g now holds the globally numbered degrees of freedom for the Line elements. Note that the 2nd node of element 9 is fixed."
   ]
  },
  {
   "cell_type": "code",
   "execution_count": 28,
   "metadata": {
    "collapsed": false
   },
   "outputs": [
    {
     "data": {
      "text/plain": [
       "2×4 Array{Int64,2}:\n",
       " 1  2  3  4\n",
       " 2  3  4  0"
      ]
     },
     "execution_count": 28,
     "metadata": {},
     "output_type": "execute_result"
    }
   ],
   "source": [
    "g_g"
   ]
  },
  {
   "cell_type": "markdown",
   "metadata": {},
   "source": [
    "### Compute the locations in the skyline vector kv which form the diagonal elements of the full stiffness matrix."
   ]
  },
  {
   "cell_type": "code",
   "execution_count": 29,
   "metadata": {
    "collapsed": false
   },
   "outputs": [
    {
     "data": {
      "text/plain": [
       "4-element Array{Int64,1}:\n",
       " 1\n",
       " 3\n",
       " 5\n",
       " 7"
      ]
     },
     "execution_count": 29,
     "metadata": {},
     "output_type": "execute_result"
    }
   ],
   "source": [
    "for i in 2:neq\n",
    "    kdiag[i] = kdiag[i] + kdiag[i-1]\n",
    "end\n",
    "kdiag"
   ]
  },
  {
   "cell_type": "markdown",
   "metadata": {},
   "source": [
    "Above kdiag holds the indices of the diagonal elements of the stiffness matrix in the kv skyline vector.\n",
    "\n",
    "To illustrate this, we'll borrow kv from the earlier call to FE4_1:"
   ]
  },
  {
   "cell_type": "code",
   "execution_count": 34,
   "metadata": {
    "collapsed": false
   },
   "outputs": [
    {
     "name": "stdout",
     "output_type": "stream",
     "text": [
      "There are 4 equations, and the skyline storage is 7.\n",
      "\n"
     ]
    }
   ],
   "source": [
    "kv = zeros(kdiag[neq])\n",
    "gv = zeros(kdiag[neq])\n",
    "print(\"There are $(neq) equations,\")\n",
    "println(\" and the skyline storage is $(kdiag[neq]).\\n\")"
   ]
  },
  {
   "cell_type": "code",
   "execution_count": 35,
   "metadata": {
    "collapsed": false,
    "scrolled": true
   },
   "outputs": [
    {
     "data": {
      "text/plain": [
       "1×5 Array{Int64,2}:\n",
       " 1  2  3  4  0"
      ]
     },
     "execution_count": 35,
     "metadata": {},
     "output_type": "execute_result"
    }
   ],
   "source": [
    "loads = zeros(neq+1)\n",
    "if :loaded_nodes in keys(data)\n",
    "    for i in 1:size(data[:loaded_nodes], 1)\n",
    "        loads[nf[:, data[:loaded_nodes][i][1]]+1] = \n",
    "            data[:loaded_nodes][i][2]\n",
    "    end\n",
    "end\n",
    "nf"
   ]
  },
  {
   "cell_type": "code",
   "execution_count": 36,
   "metadata": {
    "collapsed": false
   },
   "outputs": [
    {
     "data": {
      "text/plain": [
       "5-element Array{Float64,1}:\n",
       " 0.625\n",
       " 0.625\n",
       " 1.25 \n",
       " 1.25 \n",
       " 1.25 "
      ]
     },
     "execution_count": 36,
     "metadata": {},
     "output_type": "execute_result"
    }
   ],
   "source": [
    "loads"
   ]
  },
  {
   "cell_type": "code",
   "execution_count": 37,
   "metadata": {
    "collapsed": false
   },
   "outputs": [],
   "source": [
    "for i in 1:nels\n",
    "    km = CSoM.rod_km!(km, prop[etype[i], 1], ell[i])\n",
    "    g = g_g[:, i]\n",
    "    CSoM.fsparv!(kv, km, g, kdiag)\n",
    "end"
   ]
  },
  {
   "cell_type": "code",
   "execution_count": 40,
   "metadata": {
    "collapsed": false
   },
   "outputs": [],
   "source": [
    "# Add radial stress if fin_el is 3d and axisymmetric\n",
    "if ndim == 3 && struc_el.axisymmetric\n",
    "    nst = 4\n",
    "end"
   ]
  },
  {
   "cell_type": "code",
   "execution_count": 41,
   "metadata": {
    "collapsed": false
   },
   "outputs": [
    {
     "data": {
      "text/plain": [
       "5-element Array{Float64,1}:\n",
       " 0.625\n",
       " 0.625\n",
       " 1.25 \n",
       " 1.25 \n",
       " 1.25 "
      ]
     },
     "execution_count": 41,
     "metadata": {},
     "output_type": "execute_result"
    }
   ],
   "source": [
    "fixed_freedoms = 0\n",
    "if :fixed_freedoms in keys(data)\n",
    "    fixed_freedoms = size(data[:fixed_freedoms], 1)\n",
    "end\n",
    "no = zeros(Int64, fixed_freedoms)\n",
    "node = zeros(Int64, fixed_freedoms)\n",
    "sense = zeros(Int64, fixed_freedoms)\n",
    "value = zeros(Float64, fixed_freedoms)\n",
    "if :fixed_freedoms in keys(data) && fixed_freedoms > 0\n",
    "    for i in 1:fixed_freedoms\n",
    "      node[i] = data[:fixed_freedoms][i][1]\n",
    "      sense[i] = data[:fixed_freedoms][i][2]\n",
    "      no[i] = nf[sense[i], node[i]]\n",
    "      value[i] = data[:fixed_freedoms][i][3]\n",
    "    end\n",
    "    kv[kdiag[no]] = kv[kdiag[no]] + penalty\n",
    "    loads[no+1] = kv[kdiag[no]] .* value\n",
    "end\n",
    "loads"
   ]
  },
  {
   "cell_type": "code",
   "execution_count": 42,
   "metadata": {
    "collapsed": false
   },
   "outputs": [],
   "source": [
    "CSoM.sparin!(kv, kdiag)"
   ]
  },
  {
   "cell_type": "code",
   "execution_count": 44,
   "metadata": {
    "collapsed": false
   },
   "outputs": [
    {
     "data": {
      "text/plain": [
       "5-element Array{Float64,1}:\n",
       " 0.625     \n",
       " 2.5e-5    \n",
       " 2.34375e-5\n",
       " 1.875e-5  \n",
       " 1.09375e-5"
      ]
     },
     "execution_count": 44,
     "metadata": {},
     "output_type": "execute_result"
    }
   ],
   "source": [
    "loads[2:end] = CSoM.spabac!(kv, loads[2:end], kdiag)\n",
    "loads"
   ]
  },
  {
   "cell_type": "code",
   "execution_count": 45,
   "metadata": {
    "collapsed": false
   },
   "outputs": [
    {
     "data": {
      "text/plain": [
       "5×1 Array{Float64,2}:\n",
       " 2.5e-5    \n",
       " 2.34375e-5\n",
       " 1.875e-5  \n",
       " 1.09375e-5\n",
       " 0.0       "
      ]
     },
     "execution_count": 45,
     "metadata": {},
     "output_type": "execute_result"
    }
   ],
   "source": [
    "displacements = zeros(size(nf))\n",
    "for i in 1:size(displacements, 1)\n",
    "    for j in 1:size(displacements, 2)\n",
    "      if nf[i, j] > 0\n",
    "        displacements[i,j] = loads[nf[i, j]+1]\n",
    "      end\n",
    "    end\n",
    "end\n",
    "displacements = displacements'"
   ]
  },
  {
   "cell_type": "code",
   "execution_count": 46,
   "metadata": {
    "collapsed": false
   },
   "outputs": [
    {
     "data": {
      "text/plain": [
       "4×2 Array{Float64,2}:\n",
       " 0.625  -0.625\n",
       " 1.875  -1.875\n",
       " 3.125  -3.125\n",
       " 4.375  -4.375"
      ]
     },
     "execution_count": 46,
     "metadata": {},
     "output_type": "execute_result"
    }
   ],
   "source": [
    "loads[1] = 0.0\n",
    "for i in 1:nels\n",
    "    km = CSoM.rod_km!(km, prop[etype[i], 1], ell[i])\n",
    "    g = g_g[:, i]\n",
    "    eld = loads[g+1]\n",
    "    actions[i, :] = km * eld\n",
    "end\n",
    "actions"
   ]
  },
  {
   "cell_type": "code",
   "execution_count": 47,
   "metadata": {
    "collapsed": false
   },
   "outputs": [],
   "source": [
    "m=FEM(struc_el, fin_el, ndim, nels, nst, ndof, nn, nodof, neq, penalty,\n",
    "    etype, g, g_g, g_num, kdiag, nf, no, node, num, sense, actions, \n",
    "    bee, coord, gamma, dee, der, deriv, displacements, eld, fun, gc,\n",
    "    g_coord, jac, km, mm, gm, kv, gv, loads, points, prop, sigma, value,\n",
    "    weights, x_coords, y_coords, z_coords, axial);"
   ]
  },
  {
   "cell_type": "code",
   "execution_count": 48,
   "metadata": {
    "collapsed": false
   },
   "outputs": [
    {
     "data": {
      "text/plain": [
       "5×1 Array{Float64,2}:\n",
       " 2.5e-5    \n",
       " 2.34375e-5\n",
       " 1.875e-5  \n",
       " 1.09375e-5\n",
       " 0.0       "
      ]
     },
     "execution_count": 48,
     "metadata": {},
     "output_type": "execute_result"
    }
   ],
   "source": [
    "m.displacements"
   ]
  },
  {
   "cell_type": "code",
   "execution_count": 49,
   "metadata": {
    "collapsed": false
   },
   "outputs": [
    {
     "data": {
      "text/plain": [
       "4×2 Array{Float64,2}:\n",
       " 0.625  -0.625\n",
       " 1.875  -1.875\n",
       " 3.125  -3.125\n",
       " 4.375  -4.375"
      ]
     },
     "execution_count": 49,
     "metadata": {},
     "output_type": "execute_result"
    }
   ],
   "source": [
    "m.actions"
   ]
  }
 ],
 "metadata": {
  "anaconda-cloud": {},
  "kernelspec": {
   "display_name": "Julia 0.5.0",
   "language": "julia",
   "name": "julia-0.5"
  },
  "language_info": {
   "file_extension": ".jl",
   "mimetype": "application/julia",
   "name": "julia",
   "version": "0.5.0"
  }
 },
 "nbformat": 4,
 "nbformat_minor": 0
}
