{
 "cells": [
  {
   "cell_type": "markdown",
   "metadata": {},
   "source": [
    "# EEM: Based on the examples in the \"Finite-element method for beams\", in Dutch, by Johan Blaauwendraad.\n",
    "\n",
    "This is the figure 1.1 example with explanations on how this is using the PtFEM package."
   ]
  },
  {
   "cell_type": "code",
   "execution_count": 1,
   "metadata": {
    "collapsed": false
   },
   "outputs": [],
   "source": [
    "#Pkg.update()"
   ]
  },
  {
   "cell_type": "markdown",
   "metadata": {},
   "source": [
    "PtFEM: The toolkit as described in the book \"Programming the Finite Element Method\"\n",
    "by I. M. Smith & D. V. Griffiths (5th edition)."
   ]
  },
  {
   "cell_type": "code",
   "execution_count": 2,
   "metadata": {
    "collapsed": false
   },
   "outputs": [],
   "source": [
    "using PtFEM, DataFrames, Plots"
   ]
  },
  {
   "cell_type": "markdown",
   "metadata": {},
   "source": [
    "### Currently each example using PtFEM/PtFEM consists of 3 Julia component3: \n",
    "\n",
    "1. The input data, e.g. p4.1.1.jl\n",
    "2. A program skeleton as described in PtFEM, e.g. Program 4.1 is FE4_1.jl\n",
    "3. The skeleton programs call the appropriate Julia functions in subdirectory PtFEM\n",
    "\n",
    "As in the book, the input are subdivided by chapter name (e.g. \"4 Static Equilibrium\") in the \"examples\" sub-directory. In this inital example components 1 and 2 are combined."
   ]
  },
  {
   "cell_type": "code",
   "execution_count": 3,
   "metadata": {
    "collapsed": false
   },
   "outputs": [
    {
     "data": {
      "text/plain": [
       "FE4_1 (generic function with 2 methods)"
      ]
     },
     "execution_count": 3,
     "metadata": {},
     "output_type": "execute_result"
    }
   ],
   "source": [
    "path = joinpath(\"/Users/rob/.julia/v0.5/PtFEM\", \"src\", \"Chap04\")\n",
    "include(path*\"/FE4_1.jl\")"
   ]
  },
  {
   "cell_type": "markdown",
   "metadata": {},
   "source": [
    "### Discussion of the initial implementation of Example 4.1.\n",
    "\n",
    "FE4_1.jl is an almost straight translation from Fortran to Julia (with the exception of the inputs and outputs). This is true for all FEx_x.jl files."
   ]
  },
  {
   "cell_type": "markdown",
   "metadata": {},
   "source": [
    "### Define the structural element type and the finite element used to create a mesh over the structural element."
   ]
  },
  {
   "cell_type": "code",
   "execution_count": 4,
   "metadata": {
    "collapsed": false
   },
   "outputs": [],
   "source": [
    "struct_el = :Rod;\n",
    "fin_el = :Line;"
   ]
  },
  {
   "cell_type": "markdown",
   "metadata": {},
   "source": [
    "### Define the overall parameters"
   ]
  },
  {
   "cell_type": "code",
   "execution_count": 5,
   "metadata": {
    "collapsed": false
   },
   "outputs": [],
   "source": [
    "l = 1.0       # Total length of structural element[m]\n",
    "q = 5.0       # Distributed load [N/m]\n",
    "N = 10        # Number of nodes\n",
    "els = N - 1   # Number of finite elements\n",
    "nod = 2       # Number of nodes per finite elements\n",
    "nodof = 1     # Degrees of freedom for each node;"
   ]
  },
  {
   "cell_type": "markdown",
   "metadata": {},
   "source": [
    "### Create input dictionary"
   ]
  },
  {
   "cell_type": "code",
   "execution_count": 6,
   "metadata": {
    "collapsed": true
   },
   "outputs": [],
   "source": [
    "data = Dict(\n",
    "  # Rod(nxe, np_types, nip, fin_el(nod, nodof))\n",
    "  :struc_el => getfield(Main, Symbol(struct_el))(els, 1, 1,\n",
    "    getfield(Main, Symbol(fin_el))(nod, nodof)),\n",
    "  :properties => [1.0e5;],\n",
    "  :x_coords => 0.0:l/els:l,\n",
    "  :support => [(N, [0])],\n",
    "  :loaded_nodes => [(i, repeat([0.0], inner=nodof)) for i in 1:N],\n",
    "  :eq_nodal_forces_and_moments => [(i, repeat([0.0], inner=nodof*nod)) for i in 1:els]\n",
    ");"
   ]
  },
  {
   "cell_type": "markdown",
   "metadata": {},
   "source": [
    "### In this example there are only distributed loads. Otherwise set data[:loaded_nodes] to the external forces and moment directly applied to the nodes, e.g.:\n",
    "```\n",
    "data[:loaded_nodes][2] = (2, [5.0])\n",
    "```"
   ]
  },
  {
   "cell_type": "markdown",
   "metadata": {},
   "source": [
    "### Determine the distributed loads contribution to nodal forces"
   ]
  },
  {
   "cell_type": "code",
   "execution_count": 7,
   "metadata": {
    "collapsed": true
   },
   "outputs": [],
   "source": [
    "for node in 1:els\n",
    "  data[:eq_nodal_forces_and_moments][node][2][1] = 1/2*q*l/els\n",
    "  data[:eq_nodal_forces_and_moments][node][2][2] = 1/2*q*l/els\n",
    "end  "
   ]
  },
  {
   "cell_type": "markdown",
   "metadata": {},
   "source": [
    "### Add the equivalent distributed forces and moment to loaded_nodes entry"
   ]
  },
  {
   "cell_type": "code",
   "execution_count": 8,
   "metadata": {
    "collapsed": true
   },
   "outputs": [],
   "source": [
    "for node in 1:N-1\n",
    "  data[:loaded_nodes][node][2][1] += data[:eq_nodal_forces_and_moments][node][2][1]\n",
    "  data[:loaded_nodes][node+1][2][1] += data[:eq_nodal_forces_and_moments][node][2][2]\n",
    "end  "
   ]
  },
  {
   "cell_type": "code",
   "execution_count": 9,
   "metadata": {
    "collapsed": false
   },
   "outputs": [
    {
     "data": {
      "text/plain": [
       "Dict{Symbol,Any} with 6 entries:\n",
       "  :eq_nodal_forces_and_moments => Tuple{Int64,Array{Float64,1}}[(1,[0.277778,0.…\n",
       "  :support                     => Tuple{Int64,Array{Int64,1}}[(10,[0])]\n",
       "  :struc_el                    => PtFEM.Rod(9,1,1,PtFEM.Line(2,1))\n",
       "  :properties                  => [100000.0]\n",
       "  :x_coords                    => 0.0:0.1111111111111111:1.0\n",
       "  :loaded_nodes                => Tuple{Int64,Array{Float64,1}}[(1,[0.277778]),…"
      ]
     },
     "execution_count": 9,
     "metadata": {},
     "output_type": "execute_result"
    }
   ],
   "source": [
    "data"
   ]
  },
  {
   "cell_type": "markdown",
   "metadata": {},
   "source": [
    "Notice that in this 'flagpole' example the x axis goes from top to bottom and the distributed load is compressive. The clamped ('encastré') end node is node N."
   ]
  },
  {
   "cell_type": "markdown",
   "metadata": {
    "collapsed": false
   },
   "source": [
    "### Now call the FE4.1 skeleton"
   ]
  },
  {
   "cell_type": "code",
   "execution_count": 10,
   "metadata": {
    "collapsed": false
   },
   "outputs": [
    {
     "name": "stdout",
     "output_type": "stream",
     "text": [
      "There are 9 equations and the skyline storage is 17.\n",
      "\n"
     ]
    }
   ],
   "source": [
    "m = FE4_1(data);"
   ]
  },
  {
   "cell_type": "code",
   "execution_count": 11,
   "metadata": {
    "collapsed": false
   },
   "outputs": [
    {
     "name": "stdout",
     "output_type": "stream",
     "text": [
      "There are 9 equations and the skyline storage is 17.\n",
      "\n",
      "  0.000891 seconds (641 allocations: 48.578 KB)\n"
     ]
    }
   ],
   "source": [
    "@time m = FE4_1(data);"
   ]
  },
  {
   "cell_type": "code",
   "execution_count": 12,
   "metadata": {
    "collapsed": false
   },
   "outputs": [
    {
     "data": {
      "text/plain": [
       "10×1 Array{Float64,2}:\n",
       " 2.5e-5    \n",
       " 2.46914e-5\n",
       " 2.37654e-5\n",
       " 2.22222e-5\n",
       " 2.00617e-5\n",
       " 1.7284e-5 \n",
       " 1.38889e-5\n",
       " 9.87654e-6\n",
       " 5.24691e-6\n",
       " 0.0       "
      ]
     },
     "execution_count": 12,
     "metadata": {},
     "output_type": "execute_result"
    }
   ],
   "source": [
    "m.displacements"
   ]
  },
  {
   "cell_type": "markdown",
   "metadata": {},
   "source": [
    "### Internal element actions, not cirrectred for applied equivalent nodal forces and moments, this will be done below"
   ]
  },
  {
   "cell_type": "code",
   "execution_count": 13,
   "metadata": {
    "collapsed": false
   },
   "outputs": [
    {
     "data": {
      "text/plain": [
       "9×2 Array{Float64,2}:\n",
       " 0.277778  -0.277778\n",
       " 0.833333  -0.833333\n",
       " 1.38889   -1.38889 \n",
       " 1.94444   -1.94444 \n",
       " 2.5       -2.5     \n",
       " 3.05556   -3.05556 \n",
       " 3.61111   -3.61111 \n",
       " 4.16667   -4.16667 \n",
       " 4.72222   -4.72222 "
      ]
     },
     "execution_count": 13,
     "metadata": {},
     "output_type": "execute_result"
    }
   ],
   "source": [
    "m.actions"
   ]
  },
  {
   "cell_type": "markdown",
   "metadata": {},
   "source": [
    "### Reconstruct stiffness matrix from skyline vector"
   ]
  },
  {
   "cell_type": "code",
   "execution_count": 14,
   "metadata": {
    "collapsed": false
   },
   "outputs": [
    {
     "data": {
      "text/plain": [
       "9×9 Array{Float64,2}:\n",
       "  948.683  -948.683     0.0       0.0    …     0.0       0.0       0.0  \n",
       " -948.683   948.683  -948.683     0.0          0.0       0.0       0.0  \n",
       "    0.0    -948.683   948.683  -948.683        0.0       0.0       0.0  \n",
       "    0.0       0.0    -948.683   948.683        0.0       0.0       0.0  \n",
       "    0.0       0.0       0.0    -948.683        0.0       0.0       0.0  \n",
       "    0.0       0.0       0.0       0.0    …  -948.683     0.0       0.0  \n",
       "    0.0       0.0       0.0       0.0        948.683  -948.683     0.0  \n",
       "    0.0       0.0       0.0       0.0       -948.683   948.683  -948.683\n",
       "    0.0       0.0       0.0       0.0          0.0    -948.683   948.683"
      ]
     },
     "execution_count": 14,
     "metadata": {},
     "output_type": "execute_result"
    }
   ],
   "source": [
    "fromSkyline(m.kv, m.kdiag)"
   ]
  },
  {
   "cell_type": "markdown",
   "metadata": {},
   "source": [
    "### Now create result dataframes. Correct actions for equivalent nodal forces and moments"
   ]
  },
  {
   "cell_type": "code",
   "execution_count": 15,
   "metadata": {
    "collapsed": false
   },
   "outputs": [],
   "source": [
    "dis_df = DataFrame(\n",
    "    x_translation = m.displacements[:, 1],\n",
    ")\n",
    "\n",
    "fm_df = DataFrame(\n",
    "    normal_force_1 = m.actions[:, 1],\n",
    "    normal_force_2 = m.actions[:, 2],\n",
    ");"
   ]
  },
  {
   "cell_type": "markdown",
   "metadata": {},
   "source": [
    "### Correct element forces and moments for equivalent nodal forces and moments introduced for loading between nodes"
   ]
  },
  {
   "cell_type": "code",
   "execution_count": 16,
   "metadata": {
    "collapsed": true
   },
   "outputs": [],
   "source": [
    "if :eq_nodal_forces_and_moments in keys(data)\n",
    "    eqfm = data[:eq_nodal_forces_and_moments]\n",
    "    k = data[:struc_el].fin_el.nod * data[:struc_el].fin_el.nodof\n",
    "    for t in eqfm\n",
    "      for i in 1:k\n",
    "        fm_df[t[1], i] -= round(t[2][i], 2)\n",
    "      end\n",
    "    end\n",
    "end"
   ]
  },
  {
   "cell_type": "code",
   "execution_count": 17,
   "metadata": {
    "collapsed": false
   },
   "outputs": [
    {
     "data": {
      "text/html": [
       "<table class=\"data-frame\"><thead><tr><th></th><th>x_translation</th></tr></thead><tbody><tr><th>1</th><td>2.5000000000000018e-5</td></tr><tr><th>2</th><td>2.4691358024691377e-5</td></tr><tr><th>3</th><td>2.3765432098765453e-5</td></tr><tr><th>4</th><td>2.222222222222224e-5</td></tr><tr><th>5</th><td>2.0061728395061748e-5</td></tr><tr><th>6</th><td>1.728395061728397e-5</td></tr><tr><th>7</th><td>1.3888888888888906e-5</td></tr><tr><th>8</th><td>9.876543209876555e-6</td></tr><tr><th>9</th><td>5.246913580246922e-6</td></tr><tr><th>10</th><td>0.0</td></tr></tbody></table>"
      ],
      "text/plain": [
       "10×1 DataFrames.DataFrame\n",
       "│ Row │ x_translation │\n",
       "├─────┼───────────────┤\n",
       "│ 1   │ 2.5e-5        │\n",
       "│ 2   │ 2.46914e-5    │\n",
       "│ 3   │ 2.37654e-5    │\n",
       "│ 4   │ 2.22222e-5    │\n",
       "│ 5   │ 2.00617e-5    │\n",
       "│ 6   │ 1.7284e-5     │\n",
       "│ 7   │ 1.38889e-5    │\n",
       "│ 8   │ 9.87654e-6    │\n",
       "│ 9   │ 5.24691e-6    │\n",
       "│ 10  │ 0.0           │"
      ]
     },
     "execution_count": 17,
     "metadata": {},
     "output_type": "execute_result"
    }
   ],
   "source": [
    "dis_df"
   ]
  },
  {
   "cell_type": "code",
   "execution_count": 18,
   "metadata": {
    "collapsed": false
   },
   "outputs": [
    {
     "data": {
      "text/html": [
       "<table class=\"data-frame\"><thead><tr><th></th><th>normal_force_1</th><th>normal_force_2</th></tr></thead><tbody><tr><th>1</th><td>-0.0022222222222214594</td><td>-0.5577777777777786</td></tr><tr><th>2</th><td>0.5533333333333321</td><td>-1.1133333333333322</td></tr><tr><th>3</th><td>1.1088888888888893</td><td>-1.6688888888888893</td></tr><tr><th>4</th><td>1.6644444444444428</td><td>-2.224444444444443</td></tr><tr><th>5</th><td>2.2199999999999998</td><td>-2.7800000000000002</td></tr><tr><th>6</th><td>2.7755555555555587</td><td>-3.335555555555559</td></tr><tr><th>7</th><td>3.331111111111114</td><td>-3.8911111111111145</td></tr><tr><th>8</th><td>3.886666666666671</td><td>-4.446666666666672</td></tr><tr><th>9</th><td>4.442222222222228</td><td>-5.002222222222229</td></tr></tbody></table>"
      ],
      "text/plain": [
       "9×2 DataFrames.DataFrame\n",
       "│ Row │ normal_force_1 │ normal_force_2 │\n",
       "├─────┼────────────────┼────────────────┤\n",
       "│ 1   │ -0.00222222    │ -0.557778      │\n",
       "│ 2   │ 0.553333       │ -1.11333       │\n",
       "│ 3   │ 1.10889        │ -1.66889       │\n",
       "│ 4   │ 1.66444        │ -2.22444       │\n",
       "│ 5   │ 2.22           │ -2.78          │\n",
       "│ 6   │ 2.77556        │ -3.33556       │\n",
       "│ 7   │ 3.33111        │ -3.89111       │\n",
       "│ 8   │ 3.88667        │ -4.44667       │\n",
       "│ 9   │ 4.44222        │ -5.00222       │"
      ]
     },
     "execution_count": 18,
     "metadata": {},
     "output_type": "execute_result"
    }
   ],
   "source": [
    "fm_df"
   ]
  },
  {
   "cell_type": "code",
   "execution_count": 19,
   "metadata": {
    "collapsed": false
   },
   "outputs": [
    {
     "data": {
      "text/plain": [
       "Plots.GRBackend()"
      ]
     },
     "execution_count": 19,
     "metadata": {},
     "output_type": "execute_result"
    }
   ],
   "source": [
    "gr(size=(400,600))"
   ]
  },
  {
   "cell_type": "code",
   "execution_count": 20,
   "metadata": {
    "collapsed": false
   },
   "outputs": [],
   "source": [
    "p = Vector{Plots.Plot{Plots.GRBackend}}(2)\n",
    "titles = [\"EEM fig 1.1 u(x)\", \"EEM fig 1.1 N(x)\"]\n",
    "fors = vcat(fm_df[:, :normal_force_1], q*l);"
   ]
  },
  {
   "cell_type": "code",
   "execution_count": 21,
   "metadata": {
    "collapsed": false
   },
   "outputs": [
    {
     "data": {
      "text/html": [
       "<?xml version=\"1.0\" encoding=\"utf-8\"?>\n",
       "<svg xmlns=\"http://www.w3.org/2000/svg\" xmlns:xlink=\"http://www.w3.org/1999/xlink\" width=\"400\" height=\"600\" viewBox=\"0 0 400 600\">\n",
       "<defs>\n",
       "  <clipPath id=\"clip00\">\n",
       "    <rect x=\"0\" y=\"0\" width=\"400\" height=\"600\"/>\n",
       "  </clipPath>\n",
       "</defs>\n",
       "<polygon clip-path=\"url(#clip00)\" points=\"\n",
       "0,600 400,600 400,0 0,0 \n",
       "  \" fill=\"#ffffff\" fill-opacity=\"1\"/>\n",
       "<defs>\n",
       "  <clipPath id=\"clip01\">\n",
       "    <rect x=\"120\" y=\"60\" width=\"400\" height=\"421\"/>\n",
       "  </clipPath>\n",
       "</defs>\n",
       "<polygon clip-path=\"url(#clip00)\" points=\"\n",
       "36.9926,569.674 396.063,569.674 396.063,23.3815 36.9926,23.3815 \n",
       "  \" fill=\"#ffffff\" fill-opacity=\"1\"/>\n",
       "<defs>\n",
       "  <clipPath id=\"clip02\">\n",
       "    <rect x=\"36\" y=\"23\" width=\"360\" height=\"547\"/>\n",
       "  </clipPath>\n",
       "</defs>\n",
       "<polyline clip-path=\"url(#clip02)\" style=\"stroke:#00002d; stroke-width:1.2; stroke-opacity:0.5; fill:none\" stroke-dasharray=\"1, 2\" points=\"\n",
       "  36.9926,561.48 36.9926,31.5758 \n",
       "  \"/>\n",
       "<polyline clip-path=\"url(#clip02)\" style=\"stroke:#00002d; stroke-width:1.2; stroke-opacity:0.5; fill:none\" stroke-dasharray=\"1, 2\" points=\"\n",
       "  108.807,561.48 108.807,31.5758 \n",
       "  \"/>\n",
       "<polyline clip-path=\"url(#clip02)\" style=\"stroke:#00002d; stroke-width:1.2; stroke-opacity:0.5; fill:none\" stroke-dasharray=\"1, 2\" points=\"\n",
       "  180.621,561.48 180.621,31.5758 \n",
       "  \"/>\n",
       "<polyline clip-path=\"url(#clip02)\" style=\"stroke:#00002d; stroke-width:1.2; stroke-opacity:0.5; fill:none\" stroke-dasharray=\"1, 2\" points=\"\n",
       "  252.435,561.48 252.435,31.5758 \n",
       "  \"/>\n",
       "<polyline clip-path=\"url(#clip02)\" style=\"stroke:#00002d; stroke-width:1.2; stroke-opacity:0.5; fill:none\" stroke-dasharray=\"1, 2\" points=\"\n",
       "  324.249,561.48 324.249,31.5758 \n",
       "  \"/>\n",
       "<polyline clip-path=\"url(#clip02)\" style=\"stroke:#00002d; stroke-width:1.2; stroke-opacity:0.5; fill:none\" stroke-dasharray=\"1, 2\" points=\"\n",
       "  396.063,561.48 396.063,31.5758 \n",
       "  \"/>\n",
       "<polyline clip-path=\"url(#clip02)\" style=\"stroke:#00002d; stroke-width:1.2; stroke-opacity:0.5; fill:none\" stroke-dasharray=\"1, 2\" points=\"\n",
       "  42.3786,569.674 390.677,569.674 \n",
       "  \"/>\n",
       "<polyline clip-path=\"url(#clip02)\" style=\"stroke:#00002d; stroke-width:1.2; stroke-opacity:0.5; fill:none\" stroke-dasharray=\"1, 2\" points=\"\n",
       "  42.3786,478.625 390.677,478.625 \n",
       "  \"/>\n",
       "<polyline clip-path=\"url(#clip02)\" style=\"stroke:#00002d; stroke-width:1.2; stroke-opacity:0.5; fill:none\" stroke-dasharray=\"1, 2\" points=\"\n",
       "  42.3786,387.577 390.677,387.577 \n",
       "  \"/>\n",
       "<polyline clip-path=\"url(#clip02)\" style=\"stroke:#00002d; stroke-width:1.2; stroke-opacity:0.5; fill:none\" stroke-dasharray=\"1, 2\" points=\"\n",
       "  42.3786,296.528 390.677,296.528 \n",
       "  \"/>\n",
       "<polyline clip-path=\"url(#clip02)\" style=\"stroke:#00002d; stroke-width:1.2; stroke-opacity:0.5; fill:none\" stroke-dasharray=\"1, 2\" points=\"\n",
       "  42.3786,205.479 390.677,205.479 \n",
       "  \"/>\n",
       "<polyline clip-path=\"url(#clip02)\" style=\"stroke:#00002d; stroke-width:1.2; stroke-opacity:0.5; fill:none\" stroke-dasharray=\"1, 2\" points=\"\n",
       "  42.3786,114.43 390.677,114.43 \n",
       "  \"/>\n",
       "<polyline clip-path=\"url(#clip02)\" style=\"stroke:#00002d; stroke-width:1.2; stroke-opacity:0.5; fill:none\" stroke-dasharray=\"1, 2\" points=\"\n",
       "  42.3786,23.3815 390.677,23.3815 \n",
       "  \"/>\n",
       "<polyline clip-path=\"url(#clip02)\" style=\"stroke:#00002d; stroke-width:1.2; stroke-opacity:1; fill:none\" points=\"\n",
       "  36.9926,569.674 396.063,569.674 \n",
       "  \"/>\n",
       "<polyline clip-path=\"url(#clip02)\" style=\"stroke:#00002d; stroke-width:1.2; stroke-opacity:1; fill:none\" points=\"\n",
       "  36.9926,569.674 36.9926,561.48 \n",
       "  \"/>\n",
       "<polyline clip-path=\"url(#clip02)\" style=\"stroke:#00002d; stroke-width:1.2; stroke-opacity:1; fill:none\" points=\"\n",
       "  108.807,569.674 108.807,561.48 \n",
       "  \"/>\n",
       "<polyline clip-path=\"url(#clip02)\" style=\"stroke:#00002d; stroke-width:1.2; stroke-opacity:1; fill:none\" points=\"\n",
       "  180.621,569.674 180.621,561.48 \n",
       "  \"/>\n",
       "<polyline clip-path=\"url(#clip02)\" style=\"stroke:#00002d; stroke-width:1.2; stroke-opacity:1; fill:none\" points=\"\n",
       "  252.435,569.674 252.435,561.48 \n",
       "  \"/>\n",
       "<polyline clip-path=\"url(#clip02)\" style=\"stroke:#00002d; stroke-width:1.2; stroke-opacity:1; fill:none\" points=\"\n",
       "  324.249,569.674 324.249,561.48 \n",
       "  \"/>\n",
       "<polyline clip-path=\"url(#clip02)\" style=\"stroke:#00002d; stroke-width:1.2; stroke-opacity:1; fill:none\" points=\"\n",
       "  396.063,569.674 396.063,561.48 \n",
       "  \"/>\n",
       "<polyline clip-path=\"url(#clip02)\" style=\"stroke:#00002d; stroke-width:1.2; stroke-opacity:1; fill:none\" points=\"\n",
       "  36.9926,569.674 36.9926,23.3815 \n",
       "  \"/>\n",
       "<polyline clip-path=\"url(#clip02)\" style=\"stroke:#00002d; stroke-width:1.2; stroke-opacity:1; fill:none\" points=\"\n",
       "  36.9926,569.674 42.3786,569.674 \n",
       "  \"/>\n",
       "<polyline clip-path=\"url(#clip02)\" style=\"stroke:#00002d; stroke-width:1.2; stroke-opacity:1; fill:none\" points=\"\n",
       "  36.9926,478.625 42.3786,478.625 \n",
       "  \"/>\n",
       "<polyline clip-path=\"url(#clip02)\" style=\"stroke:#00002d; stroke-width:1.2; stroke-opacity:1; fill:none\" points=\"\n",
       "  36.9926,387.577 42.3786,387.577 \n",
       "  \"/>\n",
       "<polyline clip-path=\"url(#clip02)\" style=\"stroke:#00002d; stroke-width:1.2; stroke-opacity:1; fill:none\" points=\"\n",
       "  36.9926,296.528 42.3786,296.528 \n",
       "  \"/>\n",
       "<polyline clip-path=\"url(#clip02)\" style=\"stroke:#00002d; stroke-width:1.2; stroke-opacity:1; fill:none\" points=\"\n",
       "  36.9926,205.479 42.3786,205.479 \n",
       "  \"/>\n",
       "<polyline clip-path=\"url(#clip02)\" style=\"stroke:#00002d; stroke-width:1.2; stroke-opacity:1; fill:none\" points=\"\n",
       "  36.9926,114.43 42.3786,114.43 \n",
       "  \"/>\n",
       "<polyline clip-path=\"url(#clip02)\" style=\"stroke:#00002d; stroke-width:1.2; stroke-opacity:1; fill:none\" points=\"\n",
       "  36.9926,23.3815 42.3786,23.3815 \n",
       "  \"/>\n",
       "<g clip-path=\"url(#clip00)\">\n",
       "<text style=\"fill:#00002d; fill-opacity:1; font-family:Arial,Helvetica Neue,Helvetica,sans-serif; font-size:12; text-anchor:middle;\" transform=\"rotate(0, 36.9926, 581.674)\" x=\"36.9926\" y=\"581.674\">0.0</text>\n",
       "</g>\n",
       "<g clip-path=\"url(#clip00)\">\n",
       "<text style=\"fill:#00002d; fill-opacity:1; font-family:Arial,Helvetica Neue,Helvetica,sans-serif; font-size:12; text-anchor:middle;\" transform=\"rotate(0, 108.807, 581.674)\" x=\"108.807\" y=\"581.674\">0.2</text>\n",
       "</g>\n",
       "<g clip-path=\"url(#clip00)\">\n",
       "<text style=\"fill:#00002d; fill-opacity:1; font-family:Arial,Helvetica Neue,Helvetica,sans-serif; font-size:12; text-anchor:middle;\" transform=\"rotate(0, 180.621, 581.674)\" x=\"180.621\" y=\"581.674\">0.4</text>\n",
       "</g>\n",
       "<g clip-path=\"url(#clip00)\">\n",
       "<text style=\"fill:#00002d; fill-opacity:1; font-family:Arial,Helvetica Neue,Helvetica,sans-serif; font-size:12; text-anchor:middle;\" transform=\"rotate(0, 252.435, 581.674)\" x=\"252.435\" y=\"581.674\">0.6</text>\n",
       "</g>\n",
       "<g clip-path=\"url(#clip00)\">\n",
       "<text style=\"fill:#00002d; fill-opacity:1; font-family:Arial,Helvetica Neue,Helvetica,sans-serif; font-size:12; text-anchor:middle;\" transform=\"rotate(0, 324.249, 581.674)\" x=\"324.249\" y=\"581.674\">0.8</text>\n",
       "</g>\n",
       "<g clip-path=\"url(#clip00)\">\n",
       "<text style=\"fill:#00002d; fill-opacity:1; font-family:Arial,Helvetica Neue,Helvetica,sans-serif; font-size:12; text-anchor:middle;\" transform=\"rotate(0, 396.063, 581.674)\" x=\"396.063\" y=\"581.674\">1.0</text>\n",
       "</g>\n",
       "<g clip-path=\"url(#clip00)\">\n",
       "<text style=\"fill:#00002d; fill-opacity:1; font-family:Arial,Helvetica Neue,Helvetica,sans-serif; font-size:12; text-anchor:end;\" transform=\"rotate(0, 35.7926, 574.174)\" x=\"35.7926\" y=\"574.174\">-6</text>\n",
       "</g>\n",
       "<g clip-path=\"url(#clip00)\">\n",
       "<text style=\"fill:#00002d; fill-opacity:1; font-family:Arial,Helvetica Neue,Helvetica,sans-serif; font-size:12; text-anchor:end;\" transform=\"rotate(0, 35.7926, 483.125)\" x=\"35.7926\" y=\"483.125\">-5</text>\n",
       "</g>\n",
       "<g clip-path=\"url(#clip00)\">\n",
       "<text style=\"fill:#00002d; fill-opacity:1; font-family:Arial,Helvetica Neue,Helvetica,sans-serif; font-size:12; text-anchor:end;\" transform=\"rotate(0, 35.7926, 392.077)\" x=\"35.7926\" y=\"392.077\">-4</text>\n",
       "</g>\n",
       "<g clip-path=\"url(#clip00)\">\n",
       "<text style=\"fill:#00002d; fill-opacity:1; font-family:Arial,Helvetica Neue,Helvetica,sans-serif; font-size:12; text-anchor:end;\" transform=\"rotate(0, 35.7926, 301.028)\" x=\"35.7926\" y=\"301.028\">-3</text>\n",
       "</g>\n",
       "<g clip-path=\"url(#clip00)\">\n",
       "<text style=\"fill:#00002d; fill-opacity:1; font-family:Arial,Helvetica Neue,Helvetica,sans-serif; font-size:12; text-anchor:end;\" transform=\"rotate(0, 35.7926, 209.979)\" x=\"35.7926\" y=\"209.979\">-2</text>\n",
       "</g>\n",
       "<g clip-path=\"url(#clip00)\">\n",
       "<text style=\"fill:#00002d; fill-opacity:1; font-family:Arial,Helvetica Neue,Helvetica,sans-serif; font-size:12; text-anchor:end;\" transform=\"rotate(0, 35.7926, 118.93)\" x=\"35.7926\" y=\"118.93\">-1</text>\n",
       "</g>\n",
       "<g clip-path=\"url(#clip00)\">\n",
       "<text style=\"fill:#00002d; fill-opacity:1; font-family:Arial,Helvetica Neue,Helvetica,sans-serif; font-size:12; text-anchor:end;\" transform=\"rotate(0, 35.7926, 27.8815)\" x=\"35.7926\" y=\"27.8815\">0</text>\n",
       "</g>\n",
       "<g clip-path=\"url(#clip00)\">\n",
       "<text style=\"fill:#00002d; fill-opacity:1; font-family:Arial,Helvetica Neue,Helvetica,sans-serif; font-size:21; text-anchor:middle;\" transform=\"rotate(0, 216.528, 18)\" x=\"216.528\" y=\"18\">EEM fig 1.1 N(x)</text>\n",
       "</g>\n",
       "<g clip-path=\"url(#clip00)\">\n",
       "<text style=\"fill:#00002d; fill-opacity:1; font-family:Arial,Helvetica Neue,Helvetica,sans-serif; font-size:16; text-anchor:middle;\" transform=\"rotate(0, 216.528, 597.6)\" x=\"216.528\" y=\"597.6\">x [m]</text>\n",
       "</g>\n",
       "<g clip-path=\"url(#clip00)\">\n",
       "<text style=\"fill:#00002d; fill-opacity:1; font-family:Arial,Helvetica Neue,Helvetica,sans-serif; font-size:16; text-anchor:middle;\" transform=\"rotate(-90, 14.4, 296.528)\" x=\"14.4\" y=\"296.528\">Normal force [N]</text>\n",
       "</g>\n",
       "<polyline clip-path=\"url(#clip02)\" style=\"stroke:#0000ff; stroke-width:1.2; stroke-opacity:1; fill:none\" stroke-dasharray=\"8, 5\" points=\"\n",
       "  36.9926,23.1791 76.8893,73.7618 116.786,124.344 156.683,174.927 196.579,225.51 236.476,276.092 276.373,326.675 316.27,377.258 356.166,427.84 396.063,478.625 \n",
       "  \n",
       "  \"/>\n",
       "<circle clip-path=\"url(#clip02)\" style=\"fill:#00002d; stroke:none; fill-opacity:0.8\" cx=\"76.8893\" cy=\"73.7618\" r=\"2\"/>\n",
       "<circle clip-path=\"url(#clip02)\" style=\"fill:#0000ff; stroke:none; fill-opacity:0.8\" cx=\"76.8893\" cy=\"73.7618\" r=\"1\"/>\n",
       "<circle clip-path=\"url(#clip02)\" style=\"fill:#00002d; stroke:none; fill-opacity:0.8\" cx=\"116.786\" cy=\"124.344\" r=\"2\"/>\n",
       "<circle clip-path=\"url(#clip02)\" style=\"fill:#0000ff; stroke:none; fill-opacity:0.8\" cx=\"116.786\" cy=\"124.344\" r=\"1\"/>\n",
       "<circle clip-path=\"url(#clip02)\" style=\"fill:#00002d; stroke:none; fill-opacity:0.8\" cx=\"156.683\" cy=\"174.927\" r=\"2\"/>\n",
       "<circle clip-path=\"url(#clip02)\" style=\"fill:#0000ff; stroke:none; fill-opacity:0.8\" cx=\"156.683\" cy=\"174.927\" r=\"1\"/>\n",
       "<circle clip-path=\"url(#clip02)\" style=\"fill:#00002d; stroke:none; fill-opacity:0.8\" cx=\"196.579\" cy=\"225.51\" r=\"2\"/>\n",
       "<circle clip-path=\"url(#clip02)\" style=\"fill:#0000ff; stroke:none; fill-opacity:0.8\" cx=\"196.579\" cy=\"225.51\" r=\"1\"/>\n",
       "<circle clip-path=\"url(#clip02)\" style=\"fill:#00002d; stroke:none; fill-opacity:0.8\" cx=\"236.476\" cy=\"276.092\" r=\"2\"/>\n",
       "<circle clip-path=\"url(#clip02)\" style=\"fill:#0000ff; stroke:none; fill-opacity:0.8\" cx=\"236.476\" cy=\"276.092\" r=\"1\"/>\n",
       "<circle clip-path=\"url(#clip02)\" style=\"fill:#00002d; stroke:none; fill-opacity:0.8\" cx=\"276.373\" cy=\"326.675\" r=\"2\"/>\n",
       "<circle clip-path=\"url(#clip02)\" style=\"fill:#0000ff; stroke:none; fill-opacity:0.8\" cx=\"276.373\" cy=\"326.675\" r=\"1\"/>\n",
       "<circle clip-path=\"url(#clip02)\" style=\"fill:#00002d; stroke:none; fill-opacity:0.8\" cx=\"316.27\" cy=\"377.258\" r=\"2\"/>\n",
       "<circle clip-path=\"url(#clip02)\" style=\"fill:#0000ff; stroke:none; fill-opacity:0.8\" cx=\"316.27\" cy=\"377.258\" r=\"1\"/>\n",
       "<circle clip-path=\"url(#clip02)\" style=\"fill:#00002d; stroke:none; fill-opacity:0.8\" cx=\"356.166\" cy=\"427.84\" r=\"2\"/>\n",
       "<circle clip-path=\"url(#clip02)\" style=\"fill:#0000ff; stroke:none; fill-opacity:0.8\" cx=\"356.166\" cy=\"427.84\" r=\"1\"/>\n",
       "<circle clip-path=\"url(#clip02)\" style=\"fill:#00002d; stroke:none; fill-opacity:0.8\" cx=\"396.063\" cy=\"478.625\" r=\"2\"/>\n",
       "<circle clip-path=\"url(#clip02)\" style=\"fill:#0000ff; stroke:none; fill-opacity:0.8\" cx=\"396.063\" cy=\"478.625\" r=\"1\"/>\n",
       "</svg>\n"
      ]
     },
     "execution_count": 21,
     "metadata": {},
     "output_type": "execute_result"
    }
   ],
   "source": [
    "p[1] = plot(data[:x_coords], -fors,\n",
    "    xlim=(0,l), ylim=(-6.0, 0.0),\n",
    "    xlabel=\"x [m]\", ylabel=\"Normal force [N]\", color=:blue,\n",
    "    line=(:dash,1), marker=(:dot,1,0.8,stroke(1,:black)),\n",
    "    title=titles[2], leg=false\n",
    ")"
   ]
  },
  {
   "cell_type": "code",
   "execution_count": 22,
   "metadata": {
    "collapsed": false
   },
   "outputs": [
    {
     "data": {
      "text/html": [
       "<?xml version=\"1.0\" encoding=\"utf-8\"?>\n",
       "<svg xmlns=\"http://www.w3.org/2000/svg\" xmlns:xlink=\"http://www.w3.org/1999/xlink\" width=\"400\" height=\"600\" viewBox=\"0 0 400 600\">\n",
       "<defs>\n",
       "  <clipPath id=\"clip00\">\n",
       "    <rect x=\"0\" y=\"0\" width=\"400\" height=\"600\"/>\n",
       "  </clipPath>\n",
       "</defs>\n",
       "<polygon clip-path=\"url(#clip00)\" points=\"\n",
       "0,600 400,600 400,0 0,0 \n",
       "  \" fill=\"#ffffff\" fill-opacity=\"1\"/>\n",
       "<defs>\n",
       "  <clipPath id=\"clip01\">\n",
       "    <rect x=\"120\" y=\"60\" width=\"400\" height=\"421\"/>\n",
       "  </clipPath>\n",
       "</defs>\n",
       "<polygon clip-path=\"url(#clip00)\" points=\"\n",
       "81.437,569.674 396.063,569.674 396.063,23.3815 81.437,23.3815 \n",
       "  \" fill=\"#ffffff\" fill-opacity=\"1\"/>\n",
       "<defs>\n",
       "  <clipPath id=\"clip02\">\n",
       "    <rect x=\"81\" y=\"23\" width=\"315\" height=\"547\"/>\n",
       "  </clipPath>\n",
       "</defs>\n",
       "<polyline clip-path=\"url(#clip02)\" style=\"stroke:#00002d; stroke-width:1.2; stroke-opacity:0.5; fill:none\" stroke-dasharray=\"1, 2\" points=\"\n",
       "  81.437,561.48 81.437,31.5758 \n",
       "  \"/>\n",
       "<polyline clip-path=\"url(#clip02)\" style=\"stroke:#00002d; stroke-width:1.2; stroke-opacity:0.5; fill:none\" stroke-dasharray=\"1, 2\" points=\"\n",
       "  144.362,561.48 144.362,31.5758 \n",
       "  \"/>\n",
       "<polyline clip-path=\"url(#clip02)\" style=\"stroke:#00002d; stroke-width:1.2; stroke-opacity:0.5; fill:none\" stroke-dasharray=\"1, 2\" points=\"\n",
       "  207.287,561.48 207.287,31.5758 \n",
       "  \"/>\n",
       "<polyline clip-path=\"url(#clip02)\" style=\"stroke:#00002d; stroke-width:1.2; stroke-opacity:0.5; fill:none\" stroke-dasharray=\"1, 2\" points=\"\n",
       "  270.213,561.48 270.213,31.5758 \n",
       "  \"/>\n",
       "<polyline clip-path=\"url(#clip02)\" style=\"stroke:#00002d; stroke-width:1.2; stroke-opacity:0.5; fill:none\" stroke-dasharray=\"1, 2\" points=\"\n",
       "  333.138,561.48 333.138,31.5758 \n",
       "  \"/>\n",
       "<polyline clip-path=\"url(#clip02)\" style=\"stroke:#00002d; stroke-width:1.2; stroke-opacity:0.5; fill:none\" stroke-dasharray=\"1, 2\" points=\"\n",
       "  396.063,561.48 396.063,31.5758 \n",
       "  \"/>\n",
       "<polyline clip-path=\"url(#clip02)\" style=\"stroke:#00002d; stroke-width:1.2; stroke-opacity:0.5; fill:none\" stroke-dasharray=\"1, 2\" points=\"\n",
       "  86.1564,569.674 391.344,569.674 \n",
       "  \"/>\n",
       "<polyline clip-path=\"url(#clip02)\" style=\"stroke:#00002d; stroke-width:1.2; stroke-opacity:0.5; fill:none\" stroke-dasharray=\"1, 2\" points=\"\n",
       "  86.1564,387.577 391.344,387.577 \n",
       "  \"/>\n",
       "<polyline clip-path=\"url(#clip02)\" style=\"stroke:#00002d; stroke-width:1.2; stroke-opacity:0.5; fill:none\" stroke-dasharray=\"1, 2\" points=\"\n",
       "  86.1564,205.479 391.344,205.479 \n",
       "  \"/>\n",
       "<polyline clip-path=\"url(#clip02)\" style=\"stroke:#00002d; stroke-width:1.2; stroke-opacity:1; fill:none\" points=\"\n",
       "  81.437,569.674 396.063,569.674 \n",
       "  \"/>\n",
       "<polyline clip-path=\"url(#clip02)\" style=\"stroke:#00002d; stroke-width:1.2; stroke-opacity:1; fill:none\" points=\"\n",
       "  81.437,569.674 81.437,561.48 \n",
       "  \"/>\n",
       "<polyline clip-path=\"url(#clip02)\" style=\"stroke:#00002d; stroke-width:1.2; stroke-opacity:1; fill:none\" points=\"\n",
       "  144.362,569.674 144.362,561.48 \n",
       "  \"/>\n",
       "<polyline clip-path=\"url(#clip02)\" style=\"stroke:#00002d; stroke-width:1.2; stroke-opacity:1; fill:none\" points=\"\n",
       "  207.287,569.674 207.287,561.48 \n",
       "  \"/>\n",
       "<polyline clip-path=\"url(#clip02)\" style=\"stroke:#00002d; stroke-width:1.2; stroke-opacity:1; fill:none\" points=\"\n",
       "  270.213,569.674 270.213,561.48 \n",
       "  \"/>\n",
       "<polyline clip-path=\"url(#clip02)\" style=\"stroke:#00002d; stroke-width:1.2; stroke-opacity:1; fill:none\" points=\"\n",
       "  333.138,569.674 333.138,561.48 \n",
       "  \"/>\n",
       "<polyline clip-path=\"url(#clip02)\" style=\"stroke:#00002d; stroke-width:1.2; stroke-opacity:1; fill:none\" points=\"\n",
       "  396.063,569.674 396.063,561.48 \n",
       "  \"/>\n",
       "<polyline clip-path=\"url(#clip02)\" style=\"stroke:#00002d; stroke-width:1.2; stroke-opacity:1; fill:none\" points=\"\n",
       "  81.437,569.674 81.437,23.3815 \n",
       "  \"/>\n",
       "<polyline clip-path=\"url(#clip02)\" style=\"stroke:#00002d; stroke-width:1.2; stroke-opacity:1; fill:none\" points=\"\n",
       "  81.437,569.674 86.1564,569.674 \n",
       "  \"/>\n",
       "<polyline clip-path=\"url(#clip02)\" style=\"stroke:#00002d; stroke-width:1.2; stroke-opacity:1; fill:none\" points=\"\n",
       "  81.437,387.577 86.1564,387.577 \n",
       "  \"/>\n",
       "<polyline clip-path=\"url(#clip02)\" style=\"stroke:#00002d; stroke-width:1.2; stroke-opacity:1; fill:none\" points=\"\n",
       "  81.437,205.479 86.1564,205.479 \n",
       "  \"/>\n",
       "<g clip-path=\"url(#clip00)\">\n",
       "<text style=\"fill:#00002d; fill-opacity:1; font-family:Arial,Helvetica Neue,Helvetica,sans-serif; font-size:12; text-anchor:middle;\" transform=\"rotate(0, 81.437, 581.674)\" x=\"81.437\" y=\"581.674\">0.0</text>\n",
       "</g>\n",
       "<g clip-path=\"url(#clip00)\">\n",
       "<text style=\"fill:#00002d; fill-opacity:1; font-family:Arial,Helvetica Neue,Helvetica,sans-serif; font-size:12; text-anchor:middle;\" transform=\"rotate(0, 144.362, 581.674)\" x=\"144.362\" y=\"581.674\">0.2</text>\n",
       "</g>\n",
       "<g clip-path=\"url(#clip00)\">\n",
       "<text style=\"fill:#00002d; fill-opacity:1; font-family:Arial,Helvetica Neue,Helvetica,sans-serif; font-size:12; text-anchor:middle;\" transform=\"rotate(0, 207.287, 581.674)\" x=\"207.287\" y=\"581.674\">0.4</text>\n",
       "</g>\n",
       "<g clip-path=\"url(#clip00)\">\n",
       "<text style=\"fill:#00002d; fill-opacity:1; font-family:Arial,Helvetica Neue,Helvetica,sans-serif; font-size:12; text-anchor:middle;\" transform=\"rotate(0, 270.213, 581.674)\" x=\"270.213\" y=\"581.674\">0.6</text>\n",
       "</g>\n",
       "<g clip-path=\"url(#clip00)\">\n",
       "<text style=\"fill:#00002d; fill-opacity:1; font-family:Arial,Helvetica Neue,Helvetica,sans-serif; font-size:12; text-anchor:middle;\" transform=\"rotate(0, 333.138, 581.674)\" x=\"333.138\" y=\"581.674\">0.8</text>\n",
       "</g>\n",
       "<g clip-path=\"url(#clip00)\">\n",
       "<text style=\"fill:#00002d; fill-opacity:1; font-family:Arial,Helvetica Neue,Helvetica,sans-serif; font-size:12; text-anchor:middle;\" transform=\"rotate(0, 396.063, 581.674)\" x=\"396.063\" y=\"581.674\">1.0</text>\n",
       "</g>\n",
       "<g clip-path=\"url(#clip00)\">\n",
       "<text style=\"fill:#00002d; fill-opacity:1; font-family:Arial,Helvetica Neue,Helvetica,sans-serif; font-size:12; text-anchor:end;\" transform=\"rotate(0, 80.237, 574.174)\" x=\"80.237\" y=\"574.174\">0.00000</text>\n",
       "</g>\n",
       "<g clip-path=\"url(#clip00)\">\n",
       "<text style=\"fill:#00002d; fill-opacity:1; font-family:Arial,Helvetica Neue,Helvetica,sans-serif; font-size:12; text-anchor:end;\" transform=\"rotate(0, 80.237, 392.077)\" x=\"80.237\" y=\"392.077\">0.00001</text>\n",
       "</g>\n",
       "<g clip-path=\"url(#clip00)\">\n",
       "<text style=\"fill:#00002d; fill-opacity:1; font-family:Arial,Helvetica Neue,Helvetica,sans-serif; font-size:12; text-anchor:end;\" transform=\"rotate(0, 80.237, 209.979)\" x=\"80.237\" y=\"209.979\">0.00002</text>\n",
       "</g>\n",
       "<g clip-path=\"url(#clip00)\">\n",
       "<text style=\"fill:#00002d; fill-opacity:1; font-family:Arial,Helvetica Neue,Helvetica,sans-serif; font-size:21; text-anchor:middle;\" transform=\"rotate(0, 238.75, 18)\" x=\"238.75\" y=\"18\">EEM fig 1.1 u(x)</text>\n",
       "</g>\n",
       "<g clip-path=\"url(#clip00)\">\n",
       "<text style=\"fill:#00002d; fill-opacity:1; font-family:Arial,Helvetica Neue,Helvetica,sans-serif; font-size:16; text-anchor:middle;\" transform=\"rotate(0, 238.75, 597.6)\" x=\"238.75\" y=\"597.6\">x [m]</text>\n",
       "</g>\n",
       "<g clip-path=\"url(#clip00)\">\n",
       "<text style=\"fill:#00002d; fill-opacity:1; font-family:Arial,Helvetica Neue,Helvetica,sans-serif; font-size:16; text-anchor:middle;\" transform=\"rotate(-90, 14.4, 296.528)\" x=\"14.4\" y=\"296.528\">Deflection [m]</text>\n",
       "</g>\n",
       "<polyline clip-path=\"url(#clip02)\" style=\"stroke:#ff0000; stroke-width:1.2; stroke-opacity:1; fill:none\" stroke-dasharray=\"8, 5\" points=\"\n",
       "  81.437,114.43 116.395,120.051 151.354,136.911 186.312,165.013 221.271,204.355 256.229,254.938 291.188,316.761 326.146,389.825 361.105,474.129 396.063,569.674 \n",
       "  \n",
       "  \"/>\n",
       "<circle clip-path=\"url(#clip02)\" style=\"fill:#00002d; stroke:none; fill-opacity:0.8\" cx=\"81.437\" cy=\"114.43\" r=\"2\"/>\n",
       "<circle clip-path=\"url(#clip02)\" style=\"fill:#ff0000; stroke:none; fill-opacity:0.8\" cx=\"81.437\" cy=\"114.43\" r=\"1\"/>\n",
       "<circle clip-path=\"url(#clip02)\" style=\"fill:#00002d; stroke:none; fill-opacity:0.8\" cx=\"116.395\" cy=\"120.051\" r=\"2\"/>\n",
       "<circle clip-path=\"url(#clip02)\" style=\"fill:#ff0000; stroke:none; fill-opacity:0.8\" cx=\"116.395\" cy=\"120.051\" r=\"1\"/>\n",
       "<circle clip-path=\"url(#clip02)\" style=\"fill:#00002d; stroke:none; fill-opacity:0.8\" cx=\"151.354\" cy=\"136.911\" r=\"2\"/>\n",
       "<circle clip-path=\"url(#clip02)\" style=\"fill:#ff0000; stroke:none; fill-opacity:0.8\" cx=\"151.354\" cy=\"136.911\" r=\"1\"/>\n",
       "<circle clip-path=\"url(#clip02)\" style=\"fill:#00002d; stroke:none; fill-opacity:0.8\" cx=\"186.312\" cy=\"165.013\" r=\"2\"/>\n",
       "<circle clip-path=\"url(#clip02)\" style=\"fill:#ff0000; stroke:none; fill-opacity:0.8\" cx=\"186.312\" cy=\"165.013\" r=\"1\"/>\n",
       "<circle clip-path=\"url(#clip02)\" style=\"fill:#00002d; stroke:none; fill-opacity:0.8\" cx=\"221.271\" cy=\"204.355\" r=\"2\"/>\n",
       "<circle clip-path=\"url(#clip02)\" style=\"fill:#ff0000; stroke:none; fill-opacity:0.8\" cx=\"221.271\" cy=\"204.355\" r=\"1\"/>\n",
       "<circle clip-path=\"url(#clip02)\" style=\"fill:#00002d; stroke:none; fill-opacity:0.8\" cx=\"256.229\" cy=\"254.938\" r=\"2\"/>\n",
       "<circle clip-path=\"url(#clip02)\" style=\"fill:#ff0000; stroke:none; fill-opacity:0.8\" cx=\"256.229\" cy=\"254.938\" r=\"1\"/>\n",
       "<circle clip-path=\"url(#clip02)\" style=\"fill:#00002d; stroke:none; fill-opacity:0.8\" cx=\"291.188\" cy=\"316.761\" r=\"2\"/>\n",
       "<circle clip-path=\"url(#clip02)\" style=\"fill:#ff0000; stroke:none; fill-opacity:0.8\" cx=\"291.188\" cy=\"316.761\" r=\"1\"/>\n",
       "<circle clip-path=\"url(#clip02)\" style=\"fill:#00002d; stroke:none; fill-opacity:0.8\" cx=\"326.146\" cy=\"389.825\" r=\"2\"/>\n",
       "<circle clip-path=\"url(#clip02)\" style=\"fill:#ff0000; stroke:none; fill-opacity:0.8\" cx=\"326.146\" cy=\"389.825\" r=\"1\"/>\n",
       "<circle clip-path=\"url(#clip02)\" style=\"fill:#00002d; stroke:none; fill-opacity:0.8\" cx=\"361.105\" cy=\"474.129\" r=\"2\"/>\n",
       "<circle clip-path=\"url(#clip02)\" style=\"fill:#ff0000; stroke:none; fill-opacity:0.8\" cx=\"361.105\" cy=\"474.129\" r=\"1\"/>\n",
       "<circle clip-path=\"url(#clip02)\" style=\"fill:#00002d; stroke:none; fill-opacity:0.8\" cx=\"396.063\" cy=\"569.674\" r=\"2\"/>\n",
       "<circle clip-path=\"url(#clip02)\" style=\"fill:#ff0000; stroke:none; fill-opacity:0.8\" cx=\"396.063\" cy=\"569.674\" r=\"1\"/>\n",
       "</svg>\n"
      ]
     },
     "execution_count": 22,
     "metadata": {},
     "output_type": "execute_result"
    }
   ],
   "source": [
    "p[2] = plot(data[:x_coords], m.displacements[:, 1],\n",
    "    xlim=(0, l), ylim=(0.0, 0.00003),\n",
    "    xlabel=\"x [m]\", ylabel=\"Deflection [m]\", color=:red,\n",
    "    line=(:dash,1), marker=(:circle,1,0.8,stroke(1,:black)),\n",
    "    title=titles[1], leg=false\n",
    ")"
   ]
  },
  {
   "cell_type": "code",
   "execution_count": 23,
   "metadata": {
    "collapsed": false
   },
   "outputs": [
    {
     "data": {
      "text/html": [
       "<?xml version=\"1.0\" encoding=\"utf-8\"?>\n",
       "<svg xmlns=\"http://www.w3.org/2000/svg\" xmlns:xlink=\"http://www.w3.org/1999/xlink\" width=\"400\" height=\"600\" viewBox=\"0 0 400 600\">\n",
       "<defs>\n",
       "  <clipPath id=\"clip00\">\n",
       "    <rect x=\"0\" y=\"0\" width=\"400\" height=\"600\"/>\n",
       "  </clipPath>\n",
       "</defs>\n",
       "<polygon clip-path=\"url(#clip00)\" points=\"\n",
       "0,600 400,600 400,0 0,0 \n",
       "  \" fill=\"#ffffff\" fill-opacity=\"1\"/>\n",
       "<defs>\n",
       "  <clipPath id=\"clip01\">\n",
       "    <rect x=\"120\" y=\"60\" width=\"400\" height=\"421\"/>\n",
       "  </clipPath>\n",
       "</defs>\n",
       "<polygon clip-path=\"url(#clip00)\" points=\"\n",
       "81.437,269.674 396.063,269.674 396.063,23.3815 81.437,23.3815 \n",
       "  \" fill=\"#ffffff\" fill-opacity=\"1\"/>\n",
       "<defs>\n",
       "  <clipPath id=\"clip02\">\n",
       "    <rect x=\"81\" y=\"23\" width=\"315\" height=\"247\"/>\n",
       "  </clipPath>\n",
       "</defs>\n",
       "<polyline clip-path=\"url(#clip02)\" style=\"stroke:#00002d; stroke-width:1.2; stroke-opacity:0.5; fill:none\" stroke-dasharray=\"1, 2\" points=\"\n",
       "  81.437,265.98 81.437,27.0758 \n",
       "  \"/>\n",
       "<polyline clip-path=\"url(#clip02)\" style=\"stroke:#00002d; stroke-width:1.2; stroke-opacity:0.5; fill:none\" stroke-dasharray=\"1, 2\" points=\"\n",
       "  144.362,265.98 144.362,27.0758 \n",
       "  \"/>\n",
       "<polyline clip-path=\"url(#clip02)\" style=\"stroke:#00002d; stroke-width:1.2; stroke-opacity:0.5; fill:none\" stroke-dasharray=\"1, 2\" points=\"\n",
       "  207.287,265.98 207.287,27.0758 \n",
       "  \"/>\n",
       "<polyline clip-path=\"url(#clip02)\" style=\"stroke:#00002d; stroke-width:1.2; stroke-opacity:0.5; fill:none\" stroke-dasharray=\"1, 2\" points=\"\n",
       "  270.213,265.98 270.213,27.0758 \n",
       "  \"/>\n",
       "<polyline clip-path=\"url(#clip02)\" style=\"stroke:#00002d; stroke-width:1.2; stroke-opacity:0.5; fill:none\" stroke-dasharray=\"1, 2\" points=\"\n",
       "  333.138,265.98 333.138,27.0758 \n",
       "  \"/>\n",
       "<polyline clip-path=\"url(#clip02)\" style=\"stroke:#00002d; stroke-width:1.2; stroke-opacity:0.5; fill:none\" stroke-dasharray=\"1, 2\" points=\"\n",
       "  396.063,265.98 396.063,27.0758 \n",
       "  \"/>\n",
       "<polyline clip-path=\"url(#clip02)\" style=\"stroke:#00002d; stroke-width:1.2; stroke-opacity:0.5; fill:none\" stroke-dasharray=\"1, 2\" points=\"\n",
       "  86.1564,269.674 391.344,269.674 \n",
       "  \"/>\n",
       "<polyline clip-path=\"url(#clip02)\" style=\"stroke:#00002d; stroke-width:1.2; stroke-opacity:0.5; fill:none\" stroke-dasharray=\"1, 2\" points=\"\n",
       "  86.1564,228.625 391.344,228.625 \n",
       "  \"/>\n",
       "<polyline clip-path=\"url(#clip02)\" style=\"stroke:#00002d; stroke-width:1.2; stroke-opacity:0.5; fill:none\" stroke-dasharray=\"1, 2\" points=\"\n",
       "  86.1564,187.577 391.344,187.577 \n",
       "  \"/>\n",
       "<polyline clip-path=\"url(#clip02)\" style=\"stroke:#00002d; stroke-width:1.2; stroke-opacity:0.5; fill:none\" stroke-dasharray=\"1, 2\" points=\"\n",
       "  86.1564,146.528 391.344,146.528 \n",
       "  \"/>\n",
       "<polyline clip-path=\"url(#clip02)\" style=\"stroke:#00002d; stroke-width:1.2; stroke-opacity:0.5; fill:none\" stroke-dasharray=\"1, 2\" points=\"\n",
       "  86.1564,105.479 391.344,105.479 \n",
       "  \"/>\n",
       "<polyline clip-path=\"url(#clip02)\" style=\"stroke:#00002d; stroke-width:1.2; stroke-opacity:0.5; fill:none\" stroke-dasharray=\"1, 2\" points=\"\n",
       "  86.1564,64.4302 391.344,64.4302 \n",
       "  \"/>\n",
       "<polyline clip-path=\"url(#clip02)\" style=\"stroke:#00002d; stroke-width:1.2; stroke-opacity:0.5; fill:none\" stroke-dasharray=\"1, 2\" points=\"\n",
       "  86.1564,23.3815 391.344,23.3815 \n",
       "  \"/>\n",
       "<polyline clip-path=\"url(#clip02)\" style=\"stroke:#00002d; stroke-width:1.2; stroke-opacity:1; fill:none\" points=\"\n",
       "  81.437,269.674 396.063,269.674 \n",
       "  \"/>\n",
       "<polyline clip-path=\"url(#clip02)\" style=\"stroke:#00002d; stroke-width:1.2; stroke-opacity:1; fill:none\" points=\"\n",
       "  81.437,269.674 81.437,265.98 \n",
       "  \"/>\n",
       "<polyline clip-path=\"url(#clip02)\" style=\"stroke:#00002d; stroke-width:1.2; stroke-opacity:1; fill:none\" points=\"\n",
       "  144.362,269.674 144.362,265.98 \n",
       "  \"/>\n",
       "<polyline clip-path=\"url(#clip02)\" style=\"stroke:#00002d; stroke-width:1.2; stroke-opacity:1; fill:none\" points=\"\n",
       "  207.287,269.674 207.287,265.98 \n",
       "  \"/>\n",
       "<polyline clip-path=\"url(#clip02)\" style=\"stroke:#00002d; stroke-width:1.2; stroke-opacity:1; fill:none\" points=\"\n",
       "  270.213,269.674 270.213,265.98 \n",
       "  \"/>\n",
       "<polyline clip-path=\"url(#clip02)\" style=\"stroke:#00002d; stroke-width:1.2; stroke-opacity:1; fill:none\" points=\"\n",
       "  333.138,269.674 333.138,265.98 \n",
       "  \"/>\n",
       "<polyline clip-path=\"url(#clip02)\" style=\"stroke:#00002d; stroke-width:1.2; stroke-opacity:1; fill:none\" points=\"\n",
       "  396.063,269.674 396.063,265.98 \n",
       "  \"/>\n",
       "<polyline clip-path=\"url(#clip02)\" style=\"stroke:#00002d; stroke-width:1.2; stroke-opacity:1; fill:none\" points=\"\n",
       "  81.437,269.674 81.437,23.3815 \n",
       "  \"/>\n",
       "<polyline clip-path=\"url(#clip02)\" style=\"stroke:#00002d; stroke-width:1.2; stroke-opacity:1; fill:none\" points=\"\n",
       "  81.437,269.674 86.1564,269.674 \n",
       "  \"/>\n",
       "<polyline clip-path=\"url(#clip02)\" style=\"stroke:#00002d; stroke-width:1.2; stroke-opacity:1; fill:none\" points=\"\n",
       "  81.437,228.625 86.1564,228.625 \n",
       "  \"/>\n",
       "<polyline clip-path=\"url(#clip02)\" style=\"stroke:#00002d; stroke-width:1.2; stroke-opacity:1; fill:none\" points=\"\n",
       "  81.437,187.577 86.1564,187.577 \n",
       "  \"/>\n",
       "<polyline clip-path=\"url(#clip02)\" style=\"stroke:#00002d; stroke-width:1.2; stroke-opacity:1; fill:none\" points=\"\n",
       "  81.437,146.528 86.1564,146.528 \n",
       "  \"/>\n",
       "<polyline clip-path=\"url(#clip02)\" style=\"stroke:#00002d; stroke-width:1.2; stroke-opacity:1; fill:none\" points=\"\n",
       "  81.437,105.479 86.1564,105.479 \n",
       "  \"/>\n",
       "<polyline clip-path=\"url(#clip02)\" style=\"stroke:#00002d; stroke-width:1.2; stroke-opacity:1; fill:none\" points=\"\n",
       "  81.437,64.4302 86.1564,64.4302 \n",
       "  \"/>\n",
       "<polyline clip-path=\"url(#clip02)\" style=\"stroke:#00002d; stroke-width:1.2; stroke-opacity:1; fill:none\" points=\"\n",
       "  81.437,23.3815 86.1564,23.3815 \n",
       "  \"/>\n",
       "<g clip-path=\"url(#clip00)\">\n",
       "<text style=\"fill:#00002d; fill-opacity:1; font-family:Arial,Helvetica Neue,Helvetica,sans-serif; font-size:12; text-anchor:middle;\" transform=\"rotate(0, 81.437, 281.674)\" x=\"81.437\" y=\"281.674\">0.0</text>\n",
       "</g>\n",
       "<g clip-path=\"url(#clip00)\">\n",
       "<text style=\"fill:#00002d; fill-opacity:1; font-family:Arial,Helvetica Neue,Helvetica,sans-serif; font-size:12; text-anchor:middle;\" transform=\"rotate(0, 144.362, 281.674)\" x=\"144.362\" y=\"281.674\">0.2</text>\n",
       "</g>\n",
       "<g clip-path=\"url(#clip00)\">\n",
       "<text style=\"fill:#00002d; fill-opacity:1; font-family:Arial,Helvetica Neue,Helvetica,sans-serif; font-size:12; text-anchor:middle;\" transform=\"rotate(0, 207.287, 281.674)\" x=\"207.287\" y=\"281.674\">0.4</text>\n",
       "</g>\n",
       "<g clip-path=\"url(#clip00)\">\n",
       "<text style=\"fill:#00002d; fill-opacity:1; font-family:Arial,Helvetica Neue,Helvetica,sans-serif; font-size:12; text-anchor:middle;\" transform=\"rotate(0, 270.213, 281.674)\" x=\"270.213\" y=\"281.674\">0.6</text>\n",
       "</g>\n",
       "<g clip-path=\"url(#clip00)\">\n",
       "<text style=\"fill:#00002d; fill-opacity:1; font-family:Arial,Helvetica Neue,Helvetica,sans-serif; font-size:12; text-anchor:middle;\" transform=\"rotate(0, 333.138, 281.674)\" x=\"333.138\" y=\"281.674\">0.8</text>\n",
       "</g>\n",
       "<g clip-path=\"url(#clip00)\">\n",
       "<text style=\"fill:#00002d; fill-opacity:1; font-family:Arial,Helvetica Neue,Helvetica,sans-serif; font-size:12; text-anchor:middle;\" transform=\"rotate(0, 396.063, 281.674)\" x=\"396.063\" y=\"281.674\">1.0</text>\n",
       "</g>\n",
       "<g clip-path=\"url(#clip00)\">\n",
       "<text style=\"fill:#00002d; fill-opacity:1; font-family:Arial,Helvetica Neue,Helvetica,sans-serif; font-size:12; text-anchor:end;\" transform=\"rotate(0, 80.237, 274.174)\" x=\"80.237\" y=\"274.174\">-6</text>\n",
       "</g>\n",
       "<g clip-path=\"url(#clip00)\">\n",
       "<text style=\"fill:#00002d; fill-opacity:1; font-family:Arial,Helvetica Neue,Helvetica,sans-serif; font-size:12; text-anchor:end;\" transform=\"rotate(0, 80.237, 233.125)\" x=\"80.237\" y=\"233.125\">-5</text>\n",
       "</g>\n",
       "<g clip-path=\"url(#clip00)\">\n",
       "<text style=\"fill:#00002d; fill-opacity:1; font-family:Arial,Helvetica Neue,Helvetica,sans-serif; font-size:12; text-anchor:end;\" transform=\"rotate(0, 80.237, 192.077)\" x=\"80.237\" y=\"192.077\">-4</text>\n",
       "</g>\n",
       "<g clip-path=\"url(#clip00)\">\n",
       "<text style=\"fill:#00002d; fill-opacity:1; font-family:Arial,Helvetica Neue,Helvetica,sans-serif; font-size:12; text-anchor:end;\" transform=\"rotate(0, 80.237, 151.028)\" x=\"80.237\" y=\"151.028\">-3</text>\n",
       "</g>\n",
       "<g clip-path=\"url(#clip00)\">\n",
       "<text style=\"fill:#00002d; fill-opacity:1; font-family:Arial,Helvetica Neue,Helvetica,sans-serif; font-size:12; text-anchor:end;\" transform=\"rotate(0, 80.237, 109.979)\" x=\"80.237\" y=\"109.979\">-2</text>\n",
       "</g>\n",
       "<g clip-path=\"url(#clip00)\">\n",
       "<text style=\"fill:#00002d; fill-opacity:1; font-family:Arial,Helvetica Neue,Helvetica,sans-serif; font-size:12; text-anchor:end;\" transform=\"rotate(0, 80.237, 68.9302)\" x=\"80.237\" y=\"68.9302\">-1</text>\n",
       "</g>\n",
       "<g clip-path=\"url(#clip00)\">\n",
       "<text style=\"fill:#00002d; fill-opacity:1; font-family:Arial,Helvetica Neue,Helvetica,sans-serif; font-size:12; text-anchor:end;\" transform=\"rotate(0, 80.237, 27.8815)\" x=\"80.237\" y=\"27.8815\">0</text>\n",
       "</g>\n",
       "<g clip-path=\"url(#clip00)\">\n",
       "<text style=\"fill:#00002d; fill-opacity:1; font-family:Arial,Helvetica Neue,Helvetica,sans-serif; font-size:21; text-anchor:middle;\" transform=\"rotate(0, 238.75, 18)\" x=\"238.75\" y=\"18\">EEM fig 1.1 N(x)</text>\n",
       "</g>\n",
       "<g clip-path=\"url(#clip00)\">\n",
       "<text style=\"fill:#00002d; fill-opacity:1; font-family:Arial,Helvetica Neue,Helvetica,sans-serif; font-size:16; text-anchor:middle;\" transform=\"rotate(0, 238.75, 297.6)\" x=\"238.75\" y=\"297.6\">x [m]</text>\n",
       "</g>\n",
       "<g clip-path=\"url(#clip00)\">\n",
       "<text style=\"fill:#00002d; fill-opacity:1; font-family:Arial,Helvetica Neue,Helvetica,sans-serif; font-size:16; text-anchor:middle;\" transform=\"rotate(-90, 14.4, 146.528)\" x=\"14.4\" y=\"146.528\">Normal force [N]</text>\n",
       "</g>\n",
       "<polyline clip-path=\"url(#clip02)\" style=\"stroke:#0000ff; stroke-width:1.2; stroke-opacity:1; fill:none\" stroke-dasharray=\"8, 5\" points=\"\n",
       "  81.437,23.2902 116.395,46.0951 151.354,68.9 186.312,91.7049 221.271,114.51 256.229,137.315 291.188,160.119 326.146,182.924 361.105,205.729 396.063,228.625 \n",
       "  \n",
       "  \"/>\n",
       "<circle clip-path=\"url(#clip02)\" style=\"fill:#00002d; stroke:none; fill-opacity:0.8\" cx=\"116.395\" cy=\"46.0951\" r=\"2\"/>\n",
       "<circle clip-path=\"url(#clip02)\" style=\"fill:#0000ff; stroke:none; fill-opacity:0.8\" cx=\"116.395\" cy=\"46.0951\" r=\"1\"/>\n",
       "<circle clip-path=\"url(#clip02)\" style=\"fill:#00002d; stroke:none; fill-opacity:0.8\" cx=\"151.354\" cy=\"68.9\" r=\"2\"/>\n",
       "<circle clip-path=\"url(#clip02)\" style=\"fill:#0000ff; stroke:none; fill-opacity:0.8\" cx=\"151.354\" cy=\"68.9\" r=\"1\"/>\n",
       "<circle clip-path=\"url(#clip02)\" style=\"fill:#00002d; stroke:none; fill-opacity:0.8\" cx=\"186.312\" cy=\"91.7049\" r=\"2\"/>\n",
       "<circle clip-path=\"url(#clip02)\" style=\"fill:#0000ff; stroke:none; fill-opacity:0.8\" cx=\"186.312\" cy=\"91.7049\" r=\"1\"/>\n",
       "<circle clip-path=\"url(#clip02)\" style=\"fill:#00002d; stroke:none; fill-opacity:0.8\" cx=\"221.271\" cy=\"114.51\" r=\"2\"/>\n",
       "<circle clip-path=\"url(#clip02)\" style=\"fill:#0000ff; stroke:none; fill-opacity:0.8\" cx=\"221.271\" cy=\"114.51\" r=\"1\"/>\n",
       "<circle clip-path=\"url(#clip02)\" style=\"fill:#00002d; stroke:none; fill-opacity:0.8\" cx=\"256.229\" cy=\"137.315\" r=\"2\"/>\n",
       "<circle clip-path=\"url(#clip02)\" style=\"fill:#0000ff; stroke:none; fill-opacity:0.8\" cx=\"256.229\" cy=\"137.315\" r=\"1\"/>\n",
       "<circle clip-path=\"url(#clip02)\" style=\"fill:#00002d; stroke:none; fill-opacity:0.8\" cx=\"291.188\" cy=\"160.119\" r=\"2\"/>\n",
       "<circle clip-path=\"url(#clip02)\" style=\"fill:#0000ff; stroke:none; fill-opacity:0.8\" cx=\"291.188\" cy=\"160.119\" r=\"1\"/>\n",
       "<circle clip-path=\"url(#clip02)\" style=\"fill:#00002d; stroke:none; fill-opacity:0.8\" cx=\"326.146\" cy=\"182.924\" r=\"2\"/>\n",
       "<circle clip-path=\"url(#clip02)\" style=\"fill:#0000ff; stroke:none; fill-opacity:0.8\" cx=\"326.146\" cy=\"182.924\" r=\"1\"/>\n",
       "<circle clip-path=\"url(#clip02)\" style=\"fill:#00002d; stroke:none; fill-opacity:0.8\" cx=\"361.105\" cy=\"205.729\" r=\"2\"/>\n",
       "<circle clip-path=\"url(#clip02)\" style=\"fill:#0000ff; stroke:none; fill-opacity:0.8\" cx=\"361.105\" cy=\"205.729\" r=\"1\"/>\n",
       "<circle clip-path=\"url(#clip02)\" style=\"fill:#00002d; stroke:none; fill-opacity:0.8\" cx=\"396.063\" cy=\"228.625\" r=\"2\"/>\n",
       "<circle clip-path=\"url(#clip02)\" style=\"fill:#0000ff; stroke:none; fill-opacity:0.8\" cx=\"396.063\" cy=\"228.625\" r=\"1\"/>\n",
       "<polygon clip-path=\"url(#clip00)\" points=\"\n",
       "81.437,569.674 396.063,569.674 396.063,323.381 81.437,323.381 \n",
       "  \" fill=\"#ffffff\" fill-opacity=\"1\"/>\n",
       "<defs>\n",
       "  <clipPath id=\"clip03\">\n",
       "    <rect x=\"81\" y=\"323\" width=\"315\" height=\"247\"/>\n",
       "  </clipPath>\n",
       "</defs>\n",
       "<polyline clip-path=\"url(#clip03)\" style=\"stroke:#00002d; stroke-width:1.2; stroke-opacity:0.5; fill:none\" stroke-dasharray=\"1, 2\" points=\"\n",
       "  81.437,565.98 81.437,327.076 \n",
       "  \"/>\n",
       "<polyline clip-path=\"url(#clip03)\" style=\"stroke:#00002d; stroke-width:1.2; stroke-opacity:0.5; fill:none\" stroke-dasharray=\"1, 2\" points=\"\n",
       "  144.362,565.98 144.362,327.076 \n",
       "  \"/>\n",
       "<polyline clip-path=\"url(#clip03)\" style=\"stroke:#00002d; stroke-width:1.2; stroke-opacity:0.5; fill:none\" stroke-dasharray=\"1, 2\" points=\"\n",
       "  207.287,565.98 207.287,327.076 \n",
       "  \"/>\n",
       "<polyline clip-path=\"url(#clip03)\" style=\"stroke:#00002d; stroke-width:1.2; stroke-opacity:0.5; fill:none\" stroke-dasharray=\"1, 2\" points=\"\n",
       "  270.213,565.98 270.213,327.076 \n",
       "  \"/>\n",
       "<polyline clip-path=\"url(#clip03)\" style=\"stroke:#00002d; stroke-width:1.2; stroke-opacity:0.5; fill:none\" stroke-dasharray=\"1, 2\" points=\"\n",
       "  333.138,565.98 333.138,327.076 \n",
       "  \"/>\n",
       "<polyline clip-path=\"url(#clip03)\" style=\"stroke:#00002d; stroke-width:1.2; stroke-opacity:0.5; fill:none\" stroke-dasharray=\"1, 2\" points=\"\n",
       "  396.063,565.98 396.063,327.076 \n",
       "  \"/>\n",
       "<polyline clip-path=\"url(#clip03)\" style=\"stroke:#00002d; stroke-width:1.2; stroke-opacity:0.5; fill:none\" stroke-dasharray=\"1, 2\" points=\"\n",
       "  86.1564,569.674 391.344,569.674 \n",
       "  \"/>\n",
       "<polyline clip-path=\"url(#clip03)\" style=\"stroke:#00002d; stroke-width:1.2; stroke-opacity:0.5; fill:none\" stroke-dasharray=\"1, 2\" points=\"\n",
       "  86.1564,487.577 391.344,487.577 \n",
       "  \"/>\n",
       "<polyline clip-path=\"url(#clip03)\" style=\"stroke:#00002d; stroke-width:1.2; stroke-opacity:0.5; fill:none\" stroke-dasharray=\"1, 2\" points=\"\n",
       "  86.1564,405.479 391.344,405.479 \n",
       "  \"/>\n",
       "<polyline clip-path=\"url(#clip03)\" style=\"stroke:#00002d; stroke-width:1.2; stroke-opacity:1; fill:none\" points=\"\n",
       "  81.437,569.674 396.063,569.674 \n",
       "  \"/>\n",
       "<polyline clip-path=\"url(#clip03)\" style=\"stroke:#00002d; stroke-width:1.2; stroke-opacity:1; fill:none\" points=\"\n",
       "  81.437,569.674 81.437,565.98 \n",
       "  \"/>\n",
       "<polyline clip-path=\"url(#clip03)\" style=\"stroke:#00002d; stroke-width:1.2; stroke-opacity:1; fill:none\" points=\"\n",
       "  144.362,569.674 144.362,565.98 \n",
       "  \"/>\n",
       "<polyline clip-path=\"url(#clip03)\" style=\"stroke:#00002d; stroke-width:1.2; stroke-opacity:1; fill:none\" points=\"\n",
       "  207.287,569.674 207.287,565.98 \n",
       "  \"/>\n",
       "<polyline clip-path=\"url(#clip03)\" style=\"stroke:#00002d; stroke-width:1.2; stroke-opacity:1; fill:none\" points=\"\n",
       "  270.213,569.674 270.213,565.98 \n",
       "  \"/>\n",
       "<polyline clip-path=\"url(#clip03)\" style=\"stroke:#00002d; stroke-width:1.2; stroke-opacity:1; fill:none\" points=\"\n",
       "  333.138,569.674 333.138,565.98 \n",
       "  \"/>\n",
       "<polyline clip-path=\"url(#clip03)\" style=\"stroke:#00002d; stroke-width:1.2; stroke-opacity:1; fill:none\" points=\"\n",
       "  396.063,569.674 396.063,565.98 \n",
       "  \"/>\n",
       "<polyline clip-path=\"url(#clip03)\" style=\"stroke:#00002d; stroke-width:1.2; stroke-opacity:1; fill:none\" points=\"\n",
       "  81.437,569.674 81.437,323.381 \n",
       "  \"/>\n",
       "<polyline clip-path=\"url(#clip03)\" style=\"stroke:#00002d; stroke-width:1.2; stroke-opacity:1; fill:none\" points=\"\n",
       "  81.437,569.674 86.1564,569.674 \n",
       "  \"/>\n",
       "<polyline clip-path=\"url(#clip03)\" style=\"stroke:#00002d; stroke-width:1.2; stroke-opacity:1; fill:none\" points=\"\n",
       "  81.437,487.577 86.1564,487.577 \n",
       "  \"/>\n",
       "<polyline clip-path=\"url(#clip03)\" style=\"stroke:#00002d; stroke-width:1.2; stroke-opacity:1; fill:none\" points=\"\n",
       "  81.437,405.479 86.1564,405.479 \n",
       "  \"/>\n",
       "<g clip-path=\"url(#clip00)\">\n",
       "<text style=\"fill:#00002d; fill-opacity:1; font-family:Arial,Helvetica Neue,Helvetica,sans-serif; font-size:12; text-anchor:middle;\" transform=\"rotate(0, 81.437, 581.674)\" x=\"81.437\" y=\"581.674\">0.0</text>\n",
       "</g>\n",
       "<g clip-path=\"url(#clip00)\">\n",
       "<text style=\"fill:#00002d; fill-opacity:1; font-family:Arial,Helvetica Neue,Helvetica,sans-serif; font-size:12; text-anchor:middle;\" transform=\"rotate(0, 144.362, 581.674)\" x=\"144.362\" y=\"581.674\">0.2</text>\n",
       "</g>\n",
       "<g clip-path=\"url(#clip00)\">\n",
       "<text style=\"fill:#00002d; fill-opacity:1; font-family:Arial,Helvetica Neue,Helvetica,sans-serif; font-size:12; text-anchor:middle;\" transform=\"rotate(0, 207.287, 581.674)\" x=\"207.287\" y=\"581.674\">0.4</text>\n",
       "</g>\n",
       "<g clip-path=\"url(#clip00)\">\n",
       "<text style=\"fill:#00002d; fill-opacity:1; font-family:Arial,Helvetica Neue,Helvetica,sans-serif; font-size:12; text-anchor:middle;\" transform=\"rotate(0, 270.213, 581.674)\" x=\"270.213\" y=\"581.674\">0.6</text>\n",
       "</g>\n",
       "<g clip-path=\"url(#clip00)\">\n",
       "<text style=\"fill:#00002d; fill-opacity:1; font-family:Arial,Helvetica Neue,Helvetica,sans-serif; font-size:12; text-anchor:middle;\" transform=\"rotate(0, 333.138, 581.674)\" x=\"333.138\" y=\"581.674\">0.8</text>\n",
       "</g>\n",
       "<g clip-path=\"url(#clip00)\">\n",
       "<text style=\"fill:#00002d; fill-opacity:1; font-family:Arial,Helvetica Neue,Helvetica,sans-serif; font-size:12; text-anchor:middle;\" transform=\"rotate(0, 396.063, 581.674)\" x=\"396.063\" y=\"581.674\">1.0</text>\n",
       "</g>\n",
       "<g clip-path=\"url(#clip00)\">\n",
       "<text style=\"fill:#00002d; fill-opacity:1; font-family:Arial,Helvetica Neue,Helvetica,sans-serif; font-size:12; text-anchor:end;\" transform=\"rotate(0, 80.237, 574.174)\" x=\"80.237\" y=\"574.174\">0.00000</text>\n",
       "</g>\n",
       "<g clip-path=\"url(#clip00)\">\n",
       "<text style=\"fill:#00002d; fill-opacity:1; font-family:Arial,Helvetica Neue,Helvetica,sans-serif; font-size:12; text-anchor:end;\" transform=\"rotate(0, 80.237, 492.077)\" x=\"80.237\" y=\"492.077\">0.00001</text>\n",
       "</g>\n",
       "<g clip-path=\"url(#clip00)\">\n",
       "<text style=\"fill:#00002d; fill-opacity:1; font-family:Arial,Helvetica Neue,Helvetica,sans-serif; font-size:12; text-anchor:end;\" transform=\"rotate(0, 80.237, 409.979)\" x=\"80.237\" y=\"409.979\">0.00002</text>\n",
       "</g>\n",
       "<g clip-path=\"url(#clip00)\">\n",
       "<text style=\"fill:#00002d; fill-opacity:1; font-family:Arial,Helvetica Neue,Helvetica,sans-serif; font-size:21; text-anchor:middle;\" transform=\"rotate(0, 238.75, 318)\" x=\"238.75\" y=\"318\">EEM fig 1.1 u(x)</text>\n",
       "</g>\n",
       "<g clip-path=\"url(#clip00)\">\n",
       "<text style=\"fill:#00002d; fill-opacity:1; font-family:Arial,Helvetica Neue,Helvetica,sans-serif; font-size:16; text-anchor:middle;\" transform=\"rotate(0, 238.75, 597.6)\" x=\"238.75\" y=\"597.6\">x [m]</text>\n",
       "</g>\n",
       "<g clip-path=\"url(#clip00)\">\n",
       "<text style=\"fill:#00002d; fill-opacity:1; font-family:Arial,Helvetica Neue,Helvetica,sans-serif; font-size:16; text-anchor:middle;\" transform=\"rotate(-90, 14.4, 446.528)\" x=\"14.4\" y=\"446.528\">Deflection [m]</text>\n",
       "</g>\n",
       "<polyline clip-path=\"url(#clip03)\" style=\"stroke:#ff0000; stroke-width:1.2; stroke-opacity:1; fill:none\" stroke-dasharray=\"8, 5\" points=\"\n",
       "  81.437,364.43 116.395,366.964 151.354,374.566 186.312,387.235 221.271,404.972 256.229,427.777 291.188,455.65 326.146,488.59 361.105,526.598 396.063,569.674 \n",
       "  \n",
       "  \"/>\n",
       "<circle clip-path=\"url(#clip03)\" style=\"fill:#00002d; stroke:none; fill-opacity:0.8\" cx=\"81.437\" cy=\"364.43\" r=\"2\"/>\n",
       "<circle clip-path=\"url(#clip03)\" style=\"fill:#ff0000; stroke:none; fill-opacity:0.8\" cx=\"81.437\" cy=\"364.43\" r=\"1\"/>\n",
       "<circle clip-path=\"url(#clip03)\" style=\"fill:#00002d; stroke:none; fill-opacity:0.8\" cx=\"116.395\" cy=\"366.964\" r=\"2\"/>\n",
       "<circle clip-path=\"url(#clip03)\" style=\"fill:#ff0000; stroke:none; fill-opacity:0.8\" cx=\"116.395\" cy=\"366.964\" r=\"1\"/>\n",
       "<circle clip-path=\"url(#clip03)\" style=\"fill:#00002d; stroke:none; fill-opacity:0.8\" cx=\"151.354\" cy=\"374.566\" r=\"2\"/>\n",
       "<circle clip-path=\"url(#clip03)\" style=\"fill:#ff0000; stroke:none; fill-opacity:0.8\" cx=\"151.354\" cy=\"374.566\" r=\"1\"/>\n",
       "<circle clip-path=\"url(#clip03)\" style=\"fill:#00002d; stroke:none; fill-opacity:0.8\" cx=\"186.312\" cy=\"387.235\" r=\"2\"/>\n",
       "<circle clip-path=\"url(#clip03)\" style=\"fill:#ff0000; stroke:none; fill-opacity:0.8\" cx=\"186.312\" cy=\"387.235\" r=\"1\"/>\n",
       "<circle clip-path=\"url(#clip03)\" style=\"fill:#00002d; stroke:none; fill-opacity:0.8\" cx=\"221.271\" cy=\"404.972\" r=\"2\"/>\n",
       "<circle clip-path=\"url(#clip03)\" style=\"fill:#ff0000; stroke:none; fill-opacity:0.8\" cx=\"221.271\" cy=\"404.972\" r=\"1\"/>\n",
       "<circle clip-path=\"url(#clip03)\" style=\"fill:#00002d; stroke:none; fill-opacity:0.8\" cx=\"256.229\" cy=\"427.777\" r=\"2\"/>\n",
       "<circle clip-path=\"url(#clip03)\" style=\"fill:#ff0000; stroke:none; fill-opacity:0.8\" cx=\"256.229\" cy=\"427.777\" r=\"1\"/>\n",
       "<circle clip-path=\"url(#clip03)\" style=\"fill:#00002d; stroke:none; fill-opacity:0.8\" cx=\"291.188\" cy=\"455.65\" r=\"2\"/>\n",
       "<circle clip-path=\"url(#clip03)\" style=\"fill:#ff0000; stroke:none; fill-opacity:0.8\" cx=\"291.188\" cy=\"455.65\" r=\"1\"/>\n",
       "<circle clip-path=\"url(#clip03)\" style=\"fill:#00002d; stroke:none; fill-opacity:0.8\" cx=\"326.146\" cy=\"488.59\" r=\"2\"/>\n",
       "<circle clip-path=\"url(#clip03)\" style=\"fill:#ff0000; stroke:none; fill-opacity:0.8\" cx=\"326.146\" cy=\"488.59\" r=\"1\"/>\n",
       "<circle clip-path=\"url(#clip03)\" style=\"fill:#00002d; stroke:none; fill-opacity:0.8\" cx=\"361.105\" cy=\"526.598\" r=\"2\"/>\n",
       "<circle clip-path=\"url(#clip03)\" style=\"fill:#ff0000; stroke:none; fill-opacity:0.8\" cx=\"361.105\" cy=\"526.598\" r=\"1\"/>\n",
       "<circle clip-path=\"url(#clip03)\" style=\"fill:#00002d; stroke:none; fill-opacity:0.8\" cx=\"396.063\" cy=\"569.674\" r=\"2\"/>\n",
       "<circle clip-path=\"url(#clip03)\" style=\"fill:#ff0000; stroke:none; fill-opacity:0.8\" cx=\"396.063\" cy=\"569.674\" r=\"1\"/>\n",
       "</svg>\n"
      ]
     },
     "execution_count": 23,
     "metadata": {},
     "output_type": "execute_result"
    }
   ],
   "source": [
    "plot(p..., layout=(2, 1))"
   ]
  },
  {
   "cell_type": "markdown",
   "metadata": {},
   "source": [
    "### Step by step through FE4_1\n",
    "\n",
    "Above the results using FE4_1.jl. Below goes through the steps in FE4_1.jl. Initial part just checks the input Dict."
   ]
  },
  {
   "cell_type": "code",
   "execution_count": 24,
   "metadata": {
    "collapsed": false
   },
   "outputs": [
    {
     "data": {
      "text/plain": [
       "PtFEM.Rod(9,1,1,PtFEM.Line(2,1))"
      ]
     },
     "execution_count": 24,
     "metadata": {},
     "output_type": "execute_result"
    }
   ],
   "source": [
    "if :struc_el in keys(data)\n",
    "    struc_el = data[:struc_el]\n",
    "end"
   ]
  },
  {
   "cell_type": "code",
   "execution_count": 25,
   "metadata": {
    "collapsed": false
   },
   "outputs": [],
   "source": [
    "ndim = 1\n",
    "nst = struc_el.np_types;"
   ]
  },
  {
   "cell_type": "code",
   "execution_count": 26,
   "metadata": {
    "collapsed": false
   },
   "outputs": [
    {
     "data": {
      "text/plain": [
       "PtFEM.Line(2,1)"
      ]
     },
     "execution_count": 26,
     "metadata": {},
     "output_type": "execute_result"
    }
   ],
   "source": [
    "fin_el = struc_el.fin_el"
   ]
  },
  {
   "cell_type": "code",
   "execution_count": 27,
   "metadata": {
    "collapsed": false
   },
   "outputs": [
    {
     "data": {
      "text/plain": [
       "(9,10)"
      ]
     },
     "execution_count": 27,
     "metadata": {},
     "output_type": "execute_result"
    }
   ],
   "source": [
    "if typeof(fin_el) == Line\n",
    "    (nels, nn) = PtFEM.mesh_size(fin_el, struc_el.nxe)\n",
    "elseif typeof(fin_el) == Triangle || typeof(fin_el) == Quadrilateral\n",
    "    (nels, nn) = mesh_size(fin_el, struc_el.nxe, struc_el.nye)\n",
    "elseif typeof(fin_el) == Hexahedron\n",
    "    (nels, nn) = mesh_size(fin_el, struc_el.nxe, struc_el.nye, struc_el.nze)\n",
    "end"
   ]
  },
  {
   "cell_type": "code",
   "execution_count": 28,
   "metadata": {
    "collapsed": false
   },
   "outputs": [
    {
     "data": {
      "text/plain": [
       "1"
      ]
     },
     "execution_count": 28,
     "metadata": {},
     "output_type": "execute_result"
    }
   ],
   "source": [
    "nodof = fin_el.nodof         # Degrees of freedom per node"
   ]
  },
  {
   "cell_type": "code",
   "execution_count": 29,
   "metadata": {
    "collapsed": false
   },
   "outputs": [
    {
     "data": {
      "text/plain": [
       "2"
      ]
     },
     "execution_count": 29,
     "metadata": {},
     "output_type": "execute_result"
    }
   ],
   "source": [
    "ndof = fin_el.nod * nodof    # Degrees of freedom per fin_el"
   ]
  },
  {
   "cell_type": "code",
   "execution_count": 30,
   "metadata": {
    "collapsed": false
   },
   "outputs": [],
   "source": [
    "penalty = 1e20\n",
    "if :penalty in keys(data)\n",
    "    penalty = data[:penalty]\n",
    "end"
   ]
  },
  {
   "cell_type": "code",
   "execution_count": 31,
   "metadata": {
    "collapsed": false
   },
   "outputs": [],
   "source": [
    "if :properties in keys(data)\n",
    "    prop = zeros(size(data[:properties], 1), size(data[:properties], 2))\n",
    "    for i in 1:size(data[:properties], 1)\n",
    "        prop[i, :] = data[:properties][i, :]\n",
    "    end\n",
    "end"
   ]
  },
  {
   "cell_type": "code",
   "execution_count": 32,
   "metadata": {
    "collapsed": false
   },
   "outputs": [
    {
     "data": {
      "text/plain": [
       "1×1 Array{Float64,2}:\n",
       " 100000.0"
      ]
     },
     "execution_count": 32,
     "metadata": {},
     "output_type": "execute_result"
    }
   ],
   "source": [
    "prop"
   ]
  },
  {
   "cell_type": "code",
   "execution_count": 33,
   "metadata": {
    "collapsed": false
   },
   "outputs": [
    {
     "data": {
      "text/plain": [
       "((1,10),\n",
       "[1 1 … 1 0])"
      ]
     },
     "execution_count": 33,
     "metadata": {},
     "output_type": "execute_result"
    }
   ],
   "source": [
    "nf = ones(Int64, nodof, nn)\n",
    "if :support in keys(data)\n",
    "    for i in 1:size(data[:support], 1)\n",
    "        nf[:, data[:support][i][1]] = data[:support][i][2]\n",
    "    end\n",
    "end\n",
    "(size(nf), nf)"
   ]
  },
  {
   "cell_type": "code",
   "execution_count": 34,
   "metadata": {
    "collapsed": false
   },
   "outputs": [
    {
     "data": {
      "text/plain": [
       "0.0:0.1111111111111111:1.0"
      ]
     },
     "execution_count": 34,
     "metadata": {},
     "output_type": "execute_result"
    }
   ],
   "source": [
    "x_coords = zeros(nn)\n",
    "if :x_coords in keys(data)\n",
    "    x_coords = data[:x_coords]\n",
    "end\n",
    "  \n",
    "y_coords = zeros(nn)\n",
    "if :y_coords in keys(data)\n",
    "    y_coords = data[:y_coords]\n",
    "end\n",
    "  \n",
    "z_coords = zeros(nn)\n",
    "if :z_coords in keys(data)\n",
    "    z_coords = data[:z_coords]\n",
    "end\n",
    "\n",
    "etype = ones(Int64, nels)\n",
    "if :etype in keys(data)\n",
    "    etype = data[:etype]\n",
    "end\n",
    "x_coords"
   ]
  },
  {
   "cell_type": "code",
   "execution_count": 35,
   "metadata": {
    "collapsed": false
   },
   "outputs": [
    {
     "data": {
      "text/plain": [
       "10-element Array{Float64,1}:\n",
       " 0.0     \n",
       " 0.111111\n",
       " 0.222222\n",
       " 0.333333\n",
       " 0.444444\n",
       " 0.555556\n",
       " 0.666667\n",
       " 0.777778\n",
       " 0.888889\n",
       " 1.0     "
      ]
     },
     "execution_count": 35,
     "metadata": {},
     "output_type": "execute_result"
    }
   ],
   "source": [
    "collect(x_coords)"
   ]
  },
  {
   "cell_type": "code",
   "execution_count": 36,
   "metadata": {
    "collapsed": false
   },
   "outputs": [],
   "source": [
    "#\n",
    "# Initialize all dynamic arrays storen in the FEM object\n",
    "#\n",
    "\n",
    "points = zeros(struc_el.nip, ndim)\n",
    "g = zeros(Int64, ndof)\n",
    "g_coord = zeros(ndim,nn)\n",
    "fun = zeros(fin_el.nod)\n",
    "coord = zeros(fin_el.nod, ndim)\n",
    "gamma = zeros(nels)\n",
    "jac = zeros(ndim, ndim)\n",
    "g_num = zeros(Int64, fin_el.nod, nels)\n",
    "der = zeros(ndim, fin_el.nod)\n",
    "deriv = zeros(ndim, fin_el.nod)\n",
    "bee = zeros(nst,ndof)\n",
    "km = zeros(ndof, ndof)\n",
    "mm = zeros(ndof, ndof)\n",
    "gm = zeros(ndof, ndof)\n",
    "kg = zeros(ndof, ndof)\n",
    "eld = zeros(ndof)\n",
    "weights = zeros(struc_el.nip)\n",
    "g_g = zeros(Int64, ndof, nels)\n",
    "num = zeros(Int64, fin_el.nod)\n",
    "actions = zeros(nels, ndof)\n",
    "displacements = zeros(size(nf, 1), ndim)\n",
    "gc = ones(ndim, ndim)\n",
    "dee = zeros(nst,nst)\n",
    "sigma = zeros(nst)\n",
    "axial = zeros(nels);"
   ]
  },
  {
   "cell_type": "markdown",
   "metadata": {},
   "source": [
    "Ok, all arrays have been initialized. Time to start the real work. First determine the global numbering:"
   ]
  },
  {
   "cell_type": "code",
   "execution_count": 37,
   "metadata": {
    "collapsed": false
   },
   "outputs": [
    {
     "data": {
      "text/markdown": [
       "## formnf!\n",
       "\n",
       "Returns nodal freedom array nf\n",
       "\n",
       "### Function\n",
       "\n",
       "```julia\n",
       "formnf!(nodof::Int64, nn::Int64, nf::Matrix{Int64})\n",
       "```\n",
       "\n",
       "### Arguments\n",
       "\n",
       "```julia\n",
       "* nodof::Int64       : Number of degrees of freedom for ech node\n",
       "* nn::Int64          : Number of nodes in mesh\n",
       "* nf::Array{Int64,2} : Nodal freedom matrix (updated)\n",
       "```\n"
      ],
      "text/plain": [
       "## formnf!\n",
       "\n",
       "Returns nodal freedom array nf\n",
       "\n",
       "### Function\n",
       "\n",
       "```julia\n",
       "formnf!(nodof::Int64, nn::Int64, nf::Matrix{Int64})\n",
       "```\n",
       "\n",
       "### Arguments\n",
       "\n",
       "```julia\n",
       "* nodof::Int64       : Number of degrees of freedom for ech node\n",
       "* nn::Int64          : Number of nodes in mesh\n",
       "* nf::Array{Int64,2} : Nodal freedom matrix (updated)\n",
       "```\n"
      ]
     },
     "execution_count": 37,
     "metadata": {},
     "output_type": "execute_result"
    }
   ],
   "source": [
    "?PtFEM.formnf!"
   ]
  },
  {
   "cell_type": "code",
   "execution_count": 38,
   "metadata": {
    "collapsed": false
   },
   "outputs": [
    {
     "data": {
      "text/plain": [
       "1×10 Array{Int64,2}:\n",
       " 1  2  3  4  5  6  7  8  9  0"
      ]
     },
     "execution_count": 38,
     "metadata": {},
     "output_type": "execute_result"
    }
   ],
   "source": [
    "PtFEM.formnf!(nodof, nn, nf)\n",
    "nf"
   ]
  },
  {
   "cell_type": "markdown",
   "metadata": {},
   "source": [
    "Node N (=10) is fixed, nodes 1 to 9 represents degrees of freedom. We need 9 equations to solve for these 9 displacements."
   ]
  },
  {
   "cell_type": "code",
   "execution_count": 39,
   "metadata": {
    "collapsed": false
   },
   "outputs": [
    {
     "data": {
      "text/plain": [
       "9"
      ]
     },
     "execution_count": 39,
     "metadata": {},
     "output_type": "execute_result"
    }
   ],
   "source": [
    "neq = maximum(nf)"
   ]
  },
  {
   "cell_type": "code",
   "execution_count": 40,
   "metadata": {
    "collapsed": false
   },
   "outputs": [],
   "source": [
    "kdiag = zeros(Int64, neq);"
   ]
  },
  {
   "cell_type": "code",
   "execution_count": 41,
   "metadata": {
    "collapsed": false
   },
   "outputs": [
    {
     "data": {
      "text/plain": [
       "9-element Array{Float64,1}:\n",
       " 0.111111\n",
       " 0.111111\n",
       " 0.111111\n",
       " 0.111111\n",
       " 0.111111\n",
       " 0.111111\n",
       " 0.111111\n",
       " 0.111111\n",
       " 0.111111"
      ]
     },
     "execution_count": 41,
     "metadata": {},
     "output_type": "execute_result"
    }
   ],
   "source": [
    "ell = zeros(nels)\n",
    "if :x_coords in keys(data)\n",
    "    for i in 1:length(data[:x_coords])-1\n",
    "        ell[i] = data[:x_coords][i+1] - data[:x_coords][i]\n",
    "    end\n",
    "end\n",
    "ell"
   ]
  },
  {
   "cell_type": "code",
   "execution_count": 42,
   "metadata": {
    "collapsed": false
   },
   "outputs": [
    {
     "name": "stdout",
     "output_type": "stream",
     "text": [
      "[1,2]\n",
      "[1,2,0,0,0,0,0,0,0]\n",
      "[2,3]\n",
      "[1,2,2,0,0,0,0,0,0]\n",
      "[3,4]\n",
      "[1,2,2,2,0,0,0,0,0]\n",
      "[4,5]\n",
      "[1,2,2,2,2,0,0,0,0]\n",
      "[5,6]\n",
      "[1,2,2,2,2,2,0,0,0]\n",
      "[6,7]\n",
      "[1,2,2,2,2,2,2,0,0]\n",
      "[7,8]\n",
      "[1,2,2,2,2,2,2,2,0]\n",
      "[8,9]\n",
      "[1,2,2,2,2,2,2,2,2]\n",
      "[9,0]\n",
      "[1,2,2,2,2,2,2,2,2]\n"
     ]
    }
   ],
   "source": [
    "for i in 1:nels\n",
    "    num = [i; i+1]\n",
    "    PtFEM.num_to_g!(fin_el.nod, nodof, nn, ndof, num, nf, g)\n",
    "    println(g)\n",
    "    g_g[:, i] = g\n",
    "    PtFEM.fkdiag!(ndof, neq, g, kdiag)\n",
    "    println(kdiag)\n",
    "end"
   ]
  },
  {
   "cell_type": "code",
   "execution_count": 43,
   "metadata": {
    "collapsed": false
   },
   "outputs": [
    {
     "data": {
      "text/plain": [
       "9-element Array{Int64,1}:\n",
       " 1\n",
       " 2\n",
       " 2\n",
       " 2\n",
       " 2\n",
       " 2\n",
       " 2\n",
       " 2\n",
       " 2"
      ]
     },
     "execution_count": 43,
     "metadata": {},
     "output_type": "execute_result"
    }
   ],
   "source": [
    "kdiag"
   ]
  },
  {
   "cell_type": "code",
   "execution_count": 44,
   "metadata": {
    "collapsed": false
   },
   "outputs": [
    {
     "data": {
      "text/plain": [
       "2×9 Array{Int64,2}:\n",
       " 1  2  3  4  5  6  7  8  9\n",
       " 2  3  4  5  6  7  8  9  0"
      ]
     },
     "execution_count": 44,
     "metadata": {},
     "output_type": "execute_result"
    }
   ],
   "source": [
    "g_g"
   ]
  },
  {
   "cell_type": "code",
   "execution_count": 45,
   "metadata": {
    "collapsed": false
   },
   "outputs": [
    {
     "data": {
      "text/plain": [
       "9-element Array{Int64,1}:\n",
       "  1\n",
       "  3\n",
       "  5\n",
       "  7\n",
       "  9\n",
       " 11\n",
       " 13\n",
       " 15\n",
       " 17"
      ]
     },
     "execution_count": 45,
     "metadata": {},
     "output_type": "execute_result"
    }
   ],
   "source": [
    "for i in 2:neq\n",
    "    kdiag[i] = kdiag[i] + kdiag[i-1]\n",
    "end\n",
    "kdiag"
   ]
  },
  {
   "cell_type": "code",
   "execution_count": 46,
   "metadata": {
    "collapsed": false
   },
   "outputs": [
    {
     "name": "stdout",
     "output_type": "stream",
     "text": [
      "There are 9 equations, and the skyline storage is 17.\n",
      "\n"
     ]
    }
   ],
   "source": [
    "kv = zeros(kdiag[neq])\n",
    "gv = zeros(kdiag[neq])\n",
    "print(\"There are $(neq) equations,\")\n",
    "println(\" and the skyline storage is $(kdiag[neq]).\\n\")"
   ]
  },
  {
   "cell_type": "code",
   "execution_count": 47,
   "metadata": {
    "collapsed": false,
    "scrolled": true
   },
   "outputs": [
    {
     "data": {
      "text/plain": [
       "1×10 Array{Int64,2}:\n",
       " 1  2  3  4  5  6  7  8  9  0"
      ]
     },
     "execution_count": 47,
     "metadata": {},
     "output_type": "execute_result"
    }
   ],
   "source": [
    "loads = zeros(neq+1)\n",
    "if :loaded_nodes in keys(data)\n",
    "    for i in 1:size(data[:loaded_nodes], 1)\n",
    "        loads[nf[:, data[:loaded_nodes][i][1]]+1] = \n",
    "            data[:loaded_nodes][i][2]\n",
    "    end\n",
    "end\n",
    "nf"
   ]
  },
  {
   "cell_type": "code",
   "execution_count": 48,
   "metadata": {
    "collapsed": false
   },
   "outputs": [],
   "source": [
    "for i in 1:nels\n",
    "    km = PtFEM.rod_km!(km, prop[etype[i], 1], ell[i])\n",
    "    g = g_g[:, i]\n",
    "    PtFEM.fsparv!(kv, km, g, kdiag)\n",
    "end"
   ]
  },
  {
   "cell_type": "code",
   "execution_count": 49,
   "metadata": {
    "collapsed": false
   },
   "outputs": [
    {
     "data": {
      "text/plain": [
       "2×2 Array{Float64,2}:\n",
       "  900000.0  -900000.0\n",
       " -900000.0   900000.0"
      ]
     },
     "execution_count": 49,
     "metadata": {},
     "output_type": "execute_result"
    }
   ],
   "source": [
    "km"
   ]
  },
  {
   "cell_type": "code",
   "execution_count": 50,
   "metadata": {
    "collapsed": false
   },
   "outputs": [
    {
     "data": {
      "text/plain": [
       "17-element Array{Float64,1}:\n",
       "  900000.0  \n",
       " -900000.0  \n",
       "       1.8e6\n",
       " -900000.0  \n",
       "       1.8e6\n",
       " -900000.0  \n",
       "       1.8e6\n",
       " -900000.0  \n",
       "       1.8e6\n",
       " -900000.0  \n",
       "       1.8e6\n",
       " -900000.0  \n",
       "       1.8e6\n",
       " -900000.0  \n",
       "       1.8e6\n",
       " -900000.0  \n",
       "       1.8e6"
      ]
     },
     "execution_count": 50,
     "metadata": {},
     "output_type": "execute_result"
    }
   ],
   "source": [
    "kv"
   ]
  },
  {
   "cell_type": "code",
   "execution_count": 51,
   "metadata": {
    "collapsed": false
   },
   "outputs": [],
   "source": [
    "# Add radial stress if fin_el is 3d and axisymmetric\n",
    "if ndim == 3 && struc_el.axisymmetric\n",
    "    nst = 4\n",
    "end"
   ]
  },
  {
   "cell_type": "code",
   "execution_count": 52,
   "metadata": {
    "collapsed": false
   },
   "outputs": [
    {
     "data": {
      "text/plain": [
       "10-element Array{Float64,1}:\n",
       " 0.277778\n",
       " 0.277778\n",
       " 0.555556\n",
       " 0.555556\n",
       " 0.555556\n",
       " 0.555556\n",
       " 0.555556\n",
       " 0.555556\n",
       " 0.555556\n",
       " 0.555556"
      ]
     },
     "execution_count": 52,
     "metadata": {},
     "output_type": "execute_result"
    }
   ],
   "source": [
    "fixed_freedoms = 0\n",
    "if :fixed_freedoms in keys(data)\n",
    "    fixed_freedoms = size(data[:fixed_freedoms], 1)\n",
    "end\n",
    "no = zeros(Int64, fixed_freedoms)\n",
    "node = zeros(Int64, fixed_freedoms)\n",
    "sense = zeros(Int64, fixed_freedoms)\n",
    "value = zeros(Float64, fixed_freedoms)\n",
    "if :fixed_freedoms in keys(data) && fixed_freedoms > 0\n",
    "    for i in 1:fixed_freedoms\n",
    "      node[i] = data[:fixed_freedoms][i][1]\n",
    "      sense[i] = data[:fixed_freedoms][i][2]\n",
    "      no[i] = nf[sense[i], node[i]]\n",
    "      value[i] = data[:fixed_freedoms][i][3]\n",
    "    end\n",
    "    kv[kdiag[no]] = kv[kdiag[no]] + penalty\n",
    "    loads[no+1] = kv[kdiag[no]] .* value\n",
    "end\n",
    "loads"
   ]
  },
  {
   "cell_type": "code",
   "execution_count": 53,
   "metadata": {
    "collapsed": false
   },
   "outputs": [],
   "source": [
    "PtFEM.sparin!(kv, kdiag)"
   ]
  },
  {
   "cell_type": "code",
   "execution_count": 54,
   "metadata": {
    "collapsed": false
   },
   "outputs": [
    {
     "data": {
      "text/plain": [
       "10-element Array{Float64,1}:\n",
       " 0.277778  \n",
       " 2.5e-5    \n",
       " 2.46914e-5\n",
       " 2.37654e-5\n",
       " 2.22222e-5\n",
       " 2.00617e-5\n",
       " 1.7284e-5 \n",
       " 1.38889e-5\n",
       " 9.87654e-6\n",
       " 5.24691e-6"
      ]
     },
     "execution_count": 54,
     "metadata": {},
     "output_type": "execute_result"
    }
   ],
   "source": [
    "loads[2:end] = PtFEM.spabac!(kv, loads[2:end], kdiag)\n",
    "loads"
   ]
  },
  {
   "cell_type": "code",
   "execution_count": 55,
   "metadata": {
    "collapsed": false
   },
   "outputs": [
    {
     "data": {
      "text/plain": [
       "10×1 Array{Float64,2}:\n",
       " 2.5e-5    \n",
       " 2.46914e-5\n",
       " 2.37654e-5\n",
       " 2.22222e-5\n",
       " 2.00617e-5\n",
       " 1.7284e-5 \n",
       " 1.38889e-5\n",
       " 9.87654e-6\n",
       " 5.24691e-6\n",
       " 0.0       "
      ]
     },
     "execution_count": 55,
     "metadata": {},
     "output_type": "execute_result"
    }
   ],
   "source": [
    "displacements = zeros(size(nf))\n",
    "for i in 1:size(displacements, 1)\n",
    "    for j in 1:size(displacements, 2)\n",
    "      if nf[i, j] > 0\n",
    "        displacements[i,j] = loads[nf[i, j]+1]\n",
    "      end\n",
    "    end\n",
    "end\n",
    "displacements = displacements'"
   ]
  },
  {
   "cell_type": "code",
   "execution_count": 56,
   "metadata": {
    "collapsed": false
   },
   "outputs": [
    {
     "data": {
      "text/plain": [
       "9×2 Array{Float64,2}:\n",
       " 0.277778  -0.277778\n",
       " 0.833333  -0.833333\n",
       " 1.38889   -1.38889 \n",
       " 1.94444   -1.94444 \n",
       " 2.5       -2.5     \n",
       " 3.05556   -3.05556 \n",
       " 3.61111   -3.61111 \n",
       " 4.16667   -4.16667 \n",
       " 4.72222   -4.72222 "
      ]
     },
     "execution_count": 56,
     "metadata": {},
     "output_type": "execute_result"
    }
   ],
   "source": [
    "loads[1] = 0.0\n",
    "for i in 1:nels\n",
    "    km = PtFEM.rod_km!(km, prop[etype[i], 1], ell[i])\n",
    "    g = g_g[:, i]\n",
    "    eld = loads[g+1]\n",
    "    actions[i, :] = km * eld\n",
    "end\n",
    "actions"
   ]
  },
  {
   "cell_type": "code",
   "execution_count": 57,
   "metadata": {
    "collapsed": false
   },
   "outputs": [],
   "source": [
    "m=FEM(struc_el, fin_el, ndim, nels, nst, ndof, nn, nodof, neq, penalty,\n",
    "    etype, g, g_g, g_num, kdiag, nf, no, node, num, sense, actions, \n",
    "    bee, coord, gamma, dee, der, deriv, displacements, eld, fun, gc,\n",
    "    g_coord, jac, km, mm, gm, kv, gv, loads, points, prop, sigma, value,\n",
    "    weights, x_coords, y_coords, z_coords, axial);"
   ]
  },
  {
   "cell_type": "code",
   "execution_count": 58,
   "metadata": {
    "collapsed": false
   },
   "outputs": [
    {
     "data": {
      "text/plain": [
       "10×1 Array{Float64,2}:\n",
       " 2.5e-5    \n",
       " 2.46914e-5\n",
       " 2.37654e-5\n",
       " 2.22222e-5\n",
       " 2.00617e-5\n",
       " 1.7284e-5 \n",
       " 1.38889e-5\n",
       " 9.87654e-6\n",
       " 5.24691e-6\n",
       " 0.0       "
      ]
     },
     "execution_count": 58,
     "metadata": {},
     "output_type": "execute_result"
    }
   ],
   "source": [
    "m.displacements"
   ]
  },
  {
   "cell_type": "code",
   "execution_count": 59,
   "metadata": {
    "collapsed": false
   },
   "outputs": [
    {
     "data": {
      "text/plain": [
       "9×2 Array{Float64,2}:\n",
       " 0.277778  -0.277778\n",
       " 0.833333  -0.833333\n",
       " 1.38889   -1.38889 \n",
       " 1.94444   -1.94444 \n",
       " 2.5       -2.5     \n",
       " 3.05556   -3.05556 \n",
       " 3.61111   -3.61111 \n",
       " 4.16667   -4.16667 \n",
       " 4.72222   -4.72222 "
      ]
     },
     "execution_count": 59,
     "metadata": {},
     "output_type": "execute_result"
    }
   ],
   "source": [
    "m.actions"
   ]
  },
  {
   "cell_type": "code",
   "execution_count": null,
   "metadata": {
    "collapsed": true
   },
   "outputs": [],
   "source": []
  }
 ],
 "metadata": {
  "anaconda-cloud": {},
  "kernelspec": {
   "display_name": "Julia 0.5.0",
   "language": "julia",
   "name": "julia-0.5"
  },
  "language_info": {
   "file_extension": ".jl",
   "mimetype": "application/julia",
   "name": "julia",
   "version": "0.5.0"
  }
 },
 "nbformat": 4,
 "nbformat_minor": 0
}
