{
 "cells": [
  {
   "cell_type": "markdown",
   "metadata": {},
   "source": [
    "# EEM: Based on the examples in the book \"Finite-element method for beams\".\n",
    "\n",
    "By Johan Blaauwendraad http://www.delftacademicpress.nl/f040.php (in Dutch).\n",
    "\n",
    "This EEM_03 notebook uses the figure 1.1 example in EEM and explains in detail how the FE4_1 skeleton program in the PtFEM package works.\n",
    "\n",
    "EEM_03 continues where EEM_01 and EEM_02 end. Repeat the initial steps because later on in the explanations we need m.kv, the stiffnes matrix in Skyline format."
   ]
  },
  {
   "cell_type": "code",
   "execution_count": 60,
   "metadata": {
    "collapsed": false
   },
   "outputs": [],
   "source": [
    "using PtFEM, DataFrames, Plots"
   ]
  },
  {
   "cell_type": "code",
   "execution_count": 61,
   "metadata": {
    "collapsed": false
   },
   "outputs": [],
   "source": [
    "struct_el = :Rod   # A 1-dimensional structural element that can only handle axial forces.\n",
    "fin_el = :Line     # The type of finite element used to construct a mesh for the structural element;"
   ]
  },
  {
   "cell_type": "code",
   "execution_count": 62,
   "metadata": {
    "collapsed": false
   },
   "outputs": [],
   "source": [
    "l = 1.0       # Total length of structural element [m]\n",
    "q = 5.0       # Distributed load [N/m]\n",
    "N = 4        # Number of nodes\n",
    "els = N - 1   # Number of finite elements\n",
    "nod = 2       # Number of nodes per finite elements\n",
    "nodof = 1     # Degrees of freedom for each node, just axial\n",
    "np_types = 1  # Number of np_types\n",
    "nip = 1       # Number of numerical integration points\n",
    "EA = 1.0e5    # Strain stiffness for finite elements;"
   ]
  },
  {
   "cell_type": "code",
   "execution_count": 63,
   "metadata": {
    "collapsed": false
   },
   "outputs": [],
   "source": [
    "data = Dict(\n",
    "  # Rod(nxe, np_types, nip, fin_el(nod, nodof))\n",
    "  :struc_el => Rod(els, np_types, nip, Line(nod, nodof)),\n",
    "  :properties => [EA;],\n",
    "  :x_coords => 0.0:l/els:l,\n",
    "  :support => [(N, [0])],\n",
    "  :loaded_nodes => [(i, repeat([0.0], inner=nodof)) for i in 1:N],\n",
    "  :eq_nodal_forces_and_moments => [(i, repeat([0.0], inner=nodof*nod)) for i in 1:els]\n",
    ");"
   ]
  },
  {
   "cell_type": "code",
   "execution_count": 64,
   "metadata": {
    "collapsed": false
   },
   "outputs": [],
   "source": [
    "for node in 1:els\n",
    "  data[:eq_nodal_forces_and_moments][node][2][1] = (1/2)*q*l/els\n",
    "  data[:eq_nodal_forces_and_moments][node][2][2] = (1/2)*q*l/els\n",
    "end  "
   ]
  },
  {
   "cell_type": "code",
   "execution_count": 65,
   "metadata": {
    "collapsed": true
   },
   "outputs": [],
   "source": [
    "for node in 1:N-1\n",
    "  data[:loaded_nodes][node][2][1] += data[:eq_nodal_forces_and_moments][node][2][1]\n",
    "  data[:loaded_nodes][node+1][2][1] += data[:eq_nodal_forces_and_moments][node][2][2]\n",
    "end  "
   ]
  },
  {
   "cell_type": "code",
   "execution_count": 66,
   "metadata": {
    "collapsed": false
   },
   "outputs": [
    {
     "name": "stdout",
     "output_type": "stream",
     "text": [
      "There are 3 equations and the skyline storage is 5.\n",
      "\n"
     ]
    }
   ],
   "source": [
    "m = PtFEM.FE4_1(data);"
   ]
  },
  {
   "cell_type": "markdown",
   "metadata": {},
   "source": [
    "### Here starts the review of all steps in FE4_1\n",
    "\n",
    "First couple of steps just go over the input data Dictionary and copies the entries to global variables. This is just for demonstration purposes. Inreality all of this is done inside the FE4_1 function."
   ]
  },
  {
   "cell_type": "code",
   "execution_count": 67,
   "metadata": {
    "collapsed": false
   },
   "outputs": [
    {
     "data": {
      "text/plain": [
       "PtFEM.Rod(3,1,1,PtFEM.Line(2,1))"
      ]
     },
     "execution_count": 67,
     "metadata": {},
     "output_type": "execute_result"
    }
   ],
   "source": [
    "if :struc_el in keys(data)\n",
    "    struc_el = data[:struc_el]\n",
    "end"
   ]
  },
  {
   "cell_type": "code",
   "execution_count": 68,
   "metadata": {
    "collapsed": false
   },
   "outputs": [],
   "source": [
    "ndim = 1\n",
    "nst = struc_el.np_types;"
   ]
  },
  {
   "cell_type": "code",
   "execution_count": 69,
   "metadata": {
    "collapsed": false
   },
   "outputs": [
    {
     "data": {
      "text/plain": [
       "PtFEM.Line(2,1)"
      ]
     },
     "execution_count": 69,
     "metadata": {},
     "output_type": "execute_result"
    }
   ],
   "source": [
    "fin_el = struc_el.fin_el"
   ]
  },
  {
   "cell_type": "code",
   "execution_count": 70,
   "metadata": {
    "collapsed": false
   },
   "outputs": [
    {
     "data": {
      "text/plain": [
       "(3,4)"
      ]
     },
     "execution_count": 70,
     "metadata": {},
     "output_type": "execute_result"
    }
   ],
   "source": [
    "if typeof(fin_el) == Line # 1D finite element\n",
    "    (nels, nn) = PtFEM.mesh_size(fin_el, struc_el.nxe)\n",
    "    elseif typeof(fin_el) == Triangle || typeof(fin_el) == Quadrilateral # 2D finite elements\n",
    "    (nels, nn) = mesh_size(fin_el, struc_el.nxe, struc_el.nye)\n",
    "    elseif typeof(fin_el) == Hexahedron  # 3D finite elements\n",
    "    (nels, nn) = mesh_size(fin_el, struc_el.nxe, struc_el.nye, struc_el.nze)\n",
    "end"
   ]
  },
  {
   "cell_type": "code",
   "execution_count": 71,
   "metadata": {
    "collapsed": false
   },
   "outputs": [
    {
     "data": {
      "text/plain": [
       "1"
      ]
     },
     "execution_count": 71,
     "metadata": {},
     "output_type": "execute_result"
    }
   ],
   "source": [
    "nodof = fin_el.nodof         # Degrees of freedom per node"
   ]
  },
  {
   "cell_type": "code",
   "execution_count": 72,
   "metadata": {
    "collapsed": false
   },
   "outputs": [
    {
     "data": {
      "text/plain": [
       "2"
      ]
     },
     "execution_count": 72,
     "metadata": {},
     "output_type": "execute_result"
    }
   ],
   "source": [
    "ndof = fin_el.nod * nodof    # Degrees of freedom per fin_el, in this case each finite element has 2 nodes"
   ]
  },
  {
   "cell_type": "code",
   "execution_count": 73,
   "metadata": {
    "collapsed": false
   },
   "outputs": [],
   "source": [
    "penalty = 1e20               # used to fix fixed_freedoms\n",
    "if :penalty in keys(data)\n",
    "    penalty = data[:penalty]\n",
    "end"
   ]
  },
  {
   "cell_type": "code",
   "execution_count": 74,
   "metadata": {
    "collapsed": false
   },
   "outputs": [],
   "source": [
    "if :properties in keys(data)\n",
    "    prop = zeros(size(data[:properties], 1), size(data[:properties], 2))\n",
    "    for i in 1:size(data[:properties], 1)\n",
    "        prop[i, :] = data[:properties][i, :]\n",
    "    end\n",
    "end"
   ]
  },
  {
   "cell_type": "code",
   "execution_count": 75,
   "metadata": {
    "collapsed": false
   },
   "outputs": [
    {
     "data": {
      "text/plain": [
       "1×1 Array{Float64,2}:\n",
       " 100000.0"
      ]
     },
     "execution_count": 75,
     "metadata": {},
     "output_type": "execute_result"
    }
   ],
   "source": [
    "prop"
   ]
  },
  {
   "cell_type": "code",
   "execution_count": 76,
   "metadata": {
    "collapsed": false
   },
   "outputs": [
    {
     "data": {
      "text/plain": [
       "((1,4),\n",
       "[1 1 1 0])"
      ]
     },
     "execution_count": 76,
     "metadata": {},
     "output_type": "execute_result"
    }
   ],
   "source": [
    "nf = ones(Int64, nodof, nn)\n",
    "if :support in keys(data)\n",
    "    for i in 1:size(data[:support], 1)\n",
    "        nf[:, data[:support][i][1]] = data[:support][i][2]\n",
    "    end\n",
    "end\n",
    "(size(nf), nf)"
   ]
  },
  {
   "cell_type": "code",
   "execution_count": 77,
   "metadata": {
    "collapsed": false
   },
   "outputs": [
    {
     "data": {
      "text/plain": [
       "0.0:0.3333333333333333:1.0"
      ]
     },
     "execution_count": 77,
     "metadata": {},
     "output_type": "execute_result"
    }
   ],
   "source": [
    "x_coords = zeros(nn)\n",
    "if :x_coords in keys(data)\n",
    "    x_coords = data[:x_coords]\n",
    "end\n",
    "  \n",
    "y_coords = zeros(nn)\n",
    "if :y_coords in keys(data)\n",
    "    y_coords = data[:y_coords]\n",
    "end\n",
    "  \n",
    "z_coords = zeros(nn)\n",
    "if :z_coords in keys(data)\n",
    "    z_coords = data[:z_coords]\n",
    "end\n",
    "\n",
    "etype = ones(Int64, nels)\n",
    "if :etype in keys(data)\n",
    "    etype = data[:etype]\n",
    "end\n",
    "x_coords"
   ]
  },
  {
   "cell_type": "code",
   "execution_count": 78,
   "metadata": {
    "collapsed": false
   },
   "outputs": [
    {
     "data": {
      "text/plain": [
       "4-element Array{Float64,1}:\n",
       " 0.0     \n",
       " 0.333333\n",
       " 0.666667\n",
       " 1.0     "
      ]
     },
     "execution_count": 78,
     "metadata": {},
     "output_type": "execute_result"
    }
   ],
   "source": [
    "collect(x_coords)"
   ]
  },
  {
   "cell_type": "code",
   "execution_count": 79,
   "metadata": {
    "collapsed": false
   },
   "outputs": [],
   "source": [
    "#\n",
    "# Initialize dynamic arrays stored in the FEM object\n",
    "#\n",
    "\n",
    "points = zeros(struc_el.nip, ndim)\n",
    "g = zeros(Int64, ndof)\n",
    "g_coord = zeros(ndim,nn)\n",
    "fun = zeros(fin_el.nod)\n",
    "coord = zeros(fin_el.nod, ndim)\n",
    "gamma = zeros(nels)\n",
    "jac = zeros(ndim, ndim)\n",
    "g_num = zeros(Int64, fin_el.nod, nels)\n",
    "der = zeros(ndim, fin_el.nod)\n",
    "deriv = zeros(ndim, fin_el.nod)\n",
    "bee = zeros(nst,ndof)\n",
    "km = zeros(ndof, ndof)\n",
    "mm = zeros(ndof, ndof)\n",
    "gm = zeros(ndof, ndof)\n",
    "kg = zeros(ndof, ndof)\n",
    "eld = zeros(ndof)\n",
    "weights = zeros(struc_el.nip)\n",
    "g_g = zeros(Int64, ndof, nels)\n",
    "num = zeros(Int64, fin_el.nod)\n",
    "actions = zeros(nels, ndof)\n",
    "displacements = zeros(size(nf, 1), ndim)\n",
    "gc = ones(ndim, ndim)\n",
    "dee = zeros(nst,nst)\n",
    "sigma = zeros(nst)\n",
    "axial = zeros(nels);"
   ]
  },
  {
   "cell_type": "markdown",
   "metadata": {},
   "source": [
    "Ok, most arrays have been initialized. Time to start the real work. First determine the global numbering:"
   ]
  },
  {
   "cell_type": "code",
   "execution_count": 80,
   "metadata": {
    "collapsed": false
   },
   "outputs": [
    {
     "data": {
      "text/markdown": [
       "## formnf!\n",
       "\n",
       "Returns nodal freedom numbering array nf\n",
       "\n",
       "### Function\n",
       "\n",
       "```julia\n",
       "formnf!(nodof::Int64, nn::Int64, nf::Matrix{Int64})\n",
       "```\n",
       "\n",
       "### Arguments\n",
       "\n",
       "```julia\n",
       "* nodof::Int64       : Number of degrees of freedom for each node\n",
       "* nn::Int64          : Number of nodes in mesh\n",
       "* nf::Array{Int64,2} : Nodal freedom matrix (updated)\n",
       "```\n"
      ],
      "text/plain": [
       "## formnf!\n",
       "\n",
       "Returns nodal freedom numbering array nf\n",
       "\n",
       "### Function\n",
       "\n",
       "```julia\n",
       "formnf!(nodof::Int64, nn::Int64, nf::Matrix{Int64})\n",
       "```\n",
       "\n",
       "### Arguments\n",
       "\n",
       "```julia\n",
       "* nodof::Int64       : Number of degrees of freedom for each node\n",
       "* nn::Int64          : Number of nodes in mesh\n",
       "* nf::Array{Int64,2} : Nodal freedom matrix (updated)\n",
       "```\n"
      ]
     },
     "execution_count": 80,
     "metadata": {},
     "output_type": "execute_result"
    }
   ],
   "source": [
    "?PtFEM.formnf!"
   ]
  },
  {
   "cell_type": "code",
   "execution_count": 81,
   "metadata": {
    "collapsed": false
   },
   "outputs": [
    {
     "data": {
      "text/plain": [
       "1×4 Array{Int64,2}:\n",
       " 1  2  3  0"
      ]
     },
     "execution_count": 81,
     "metadata": {},
     "output_type": "execute_result"
    }
   ],
   "source": [
    "PtFEM.formnf!(nodof, nn, nf)\n",
    "nf"
   ]
  },
  {
   "cell_type": "markdown",
   "metadata": {},
   "source": [
    "Node N (= 4 in this example) is fixed, nodes 1 to 3 represents the degrees of freedom. We need 9 equations to solve for these 3 displacements."
   ]
  },
  {
   "cell_type": "code",
   "execution_count": 82,
   "metadata": {
    "collapsed": false
   },
   "outputs": [
    {
     "data": {
      "text/plain": [
       "3"
      ]
     },
     "execution_count": 82,
     "metadata": {},
     "output_type": "execute_result"
    }
   ],
   "source": [
    "neq = maximum(nf)"
   ]
  },
  {
   "cell_type": "code",
   "execution_count": 83,
   "metadata": {
    "collapsed": false
   },
   "outputs": [],
   "source": [
    "kdiag = zeros(Int64, neq);"
   ]
  },
  {
   "cell_type": "code",
   "execution_count": 84,
   "metadata": {
    "collapsed": false
   },
   "outputs": [
    {
     "data": {
      "text/plain": [
       "3-element Array{Float64,1}:\n",
       " 0.333333\n",
       " 0.333333\n",
       " 0.333333"
      ]
     },
     "execution_count": 84,
     "metadata": {},
     "output_type": "execute_result"
    }
   ],
   "source": [
    "ell = zeros(nels) # Used to hold element length\n",
    "if :x_coords in keys(data)\n",
    "    for i in 1:length(data[:x_coords])-1\n",
    "        ell[i] = data[:x_coords][i+1] - data[:x_coords][i]\n",
    "    end\n",
    "end\n",
    "ell"
   ]
  },
  {
   "cell_type": "code",
   "execution_count": 85,
   "metadata": {
    "collapsed": false
   },
   "outputs": [],
   "source": [
    "for i in 1:nels\n",
    "    num = [i; i+1]\n",
    "    PtFEM.num_to_g!(fin_el.nod, nodof, nn, ndof, num, nf, g)\n",
    "    g_g[:, i] = g\n",
    "    PtFEM.fkdiag!(ndof, neq, g, kdiag)\n",
    "end"
   ]
  },
  {
   "cell_type": "markdown",
   "metadata": {},
   "source": [
    "### Matrix g_g now holds the globally numbered degrees of freedom for the Line elements. Note that the 2nd node of element 3 is fixed."
   ]
  },
  {
   "cell_type": "code",
   "execution_count": 86,
   "metadata": {
    "collapsed": false
   },
   "outputs": [
    {
     "data": {
      "text/plain": [
       "2×3 Array{Int64,2}:\n",
       " 1  2  3\n",
       " 2  3  0"
      ]
     },
     "execution_count": 86,
     "metadata": {},
     "output_type": "execute_result"
    }
   ],
   "source": [
    "g_g"
   ]
  },
  {
   "cell_type": "markdown",
   "metadata": {},
   "source": [
    "### Compute the locations in the skyline vector kv which form the diagonal elements of the full stiffness matrix."
   ]
  },
  {
   "cell_type": "code",
   "execution_count": 87,
   "metadata": {
    "collapsed": false
   },
   "outputs": [
    {
     "data": {
      "text/plain": [
       "3-element Array{Int64,1}:\n",
       " 1\n",
       " 3\n",
       " 5"
      ]
     },
     "execution_count": 87,
     "metadata": {},
     "output_type": "execute_result"
    }
   ],
   "source": [
    "for i in 2:neq\n",
    "    kdiag[i] = kdiag[i] + kdiag[i-1]\n",
    "end\n",
    "kdiag"
   ]
  },
  {
   "cell_type": "markdown",
   "metadata": {},
   "source": [
    "Above kdiag holds the indices of the diagonal elements of the stiffness matrix in the kv skyline vector."
   ]
  },
  {
   "cell_type": "code",
   "execution_count": 88,
   "metadata": {
    "collapsed": false
   },
   "outputs": [
    {
     "name": "stdout",
     "output_type": "stream",
     "text": [
      "There are 3 equations, and the skyline storage is 5.\n",
      "\n"
     ]
    }
   ],
   "source": [
    "kv = zeros(kdiag[neq])\n",
    "gv = zeros(kdiag[neq])\n",
    "print(\"There are $(neq) equations,\")\n",
    "println(\" and the skyline storage is $(kdiag[neq]).\\n\")"
   ]
  },
  {
   "cell_type": "code",
   "execution_count": 89,
   "metadata": {
    "collapsed": false,
    "scrolled": true
   },
   "outputs": [
    {
     "data": {
      "text/plain": [
       "1×4 Array{Int64,2}:\n",
       " 1  2  3  0"
      ]
     },
     "execution_count": 89,
     "metadata": {},
     "output_type": "execute_result"
    }
   ],
   "source": [
    "loads = zeros(neq+1)\n",
    "if :loaded_nodes in keys(data)\n",
    "    for i in 1:size(data[:loaded_nodes], 1)\n",
    "        loads[nf[:, data[:loaded_nodes][i][1]]+1] = \n",
    "            data[:loaded_nodes][i][2]\n",
    "    end\n",
    "end\n",
    "nf"
   ]
  },
  {
   "cell_type": "code",
   "execution_count": 90,
   "metadata": {
    "collapsed": false
   },
   "outputs": [],
   "source": [
    "for i in 1:nels\n",
    "    km = PtFEM.rod_km!(km, prop[etype[i], 1], ell[i])\n",
    "    g = g_g[:, i]\n",
    "    PtFEM.fsparv!(kv, km, g, kdiag)\n",
    "end"
   ]
  },
  {
   "cell_type": "code",
   "execution_count": 91,
   "metadata": {
    "collapsed": false
   },
   "outputs": [
    {
     "data": {
      "text/plain": [
       "2×2 Array{Float64,2}:\n",
       "  300000.0  -300000.0\n",
       " -300000.0   300000.0"
      ]
     },
     "execution_count": 91,
     "metadata": {},
     "output_type": "execute_result"
    }
   ],
   "source": [
    "km"
   ]
  },
  {
   "cell_type": "code",
   "execution_count": 92,
   "metadata": {
    "collapsed": false
   },
   "outputs": [
    {
     "data": {
      "text/plain": [
       "5-element Array{Float64,1}:\n",
       "  300000.0\n",
       " -300000.0\n",
       "  600000.0\n",
       " -300000.0\n",
       "  600000.0"
      ]
     },
     "execution_count": 92,
     "metadata": {},
     "output_type": "execute_result"
    }
   ],
   "source": [
    "kv"
   ]
  },
  {
   "cell_type": "code",
   "execution_count": 93,
   "metadata": {
    "collapsed": false
   },
   "outputs": [
    {
     "data": {
      "text/plain": [
       "300000.0"
      ]
     },
     "execution_count": 93,
     "metadata": {},
     "output_type": "execute_result"
    }
   ],
   "source": [
    "3EA/l"
   ]
  },
  {
   "cell_type": "markdown",
   "metadata": {},
   "source": [
    "The function ```fromSkyline(kv, kdiag)``` uses the indices in kdiag to reconstruct the (symmetrical) stiffness matrix. "
   ]
  },
  {
   "cell_type": "code",
   "execution_count": 94,
   "metadata": {
    "collapsed": false
   },
   "outputs": [
    {
     "data": {
      "text/plain": [
       "3×3 Array{Float64,2}:\n",
       "  300000.0  -300000.0        0.0\n",
       " -300000.0   600000.0  -300000.0\n",
       "       0.0  -300000.0   600000.0"
      ]
     },
     "execution_count": 94,
     "metadata": {},
     "output_type": "execute_result"
    }
   ],
   "source": [
    "sm = fromSkyline(kv, kdiag)    # Compare eq 1.48 in EEM.\n",
    "sm"
   ]
  },
  {
   "cell_type": "markdown",
   "metadata": {},
   "source": [
    "Julia has it's own sparse matrix representation. At some point the intenstion is to replace the skyline format with the Julia SparseArrays representation."
   ]
  },
  {
   "cell_type": "code",
   "execution_count": 95,
   "metadata": {
    "collapsed": false
   },
   "outputs": [
    {
     "name": "stdout",
     "output_type": "stream",
     "text": [
      "search: \u001b[1mA\u001b[22m\u001b[1mb\u001b[22m\u001b[1ms\u001b[22m\u001b[1mt\u001b[22m\u001b[1mr\u001b[22m\u001b[1ma\u001b[22m\u001b[1mc\u001b[22m\u001b[1mt\u001b[22m\u001b[1mS\u001b[22m\u001b[1mp\u001b[22m\u001b[1ma\u001b[22m\u001b[1mr\u001b[22m\u001b[1ms\u001b[22m\u001b[1me\u001b[22m\u001b[1mA\u001b[22m\u001b[1mr\u001b[22m\u001b[1mr\u001b[22m\u001b[1ma\u001b[22m\u001b[1my\u001b[22m \u001b[1mA\u001b[22m\u001b[1mb\u001b[22m\u001b[1ms\u001b[22m\u001b[1mt\u001b[22m\u001b[1mr\u001b[22m\u001b[1ma\u001b[22m\u001b[1mc\u001b[22m\u001b[1mt\u001b[22m\u001b[1mS\u001b[22m\u001b[1mp\u001b[22m\u001b[1ma\u001b[22m\u001b[1mr\u001b[22m\u001b[1ms\u001b[22m\u001b[1me\u001b[22mM\u001b[1ma\u001b[22mt\u001b[1mr\u001b[22mix \u001b[1mA\u001b[22m\u001b[1mb\u001b[22m\u001b[1ms\u001b[22m\u001b[1mt\u001b[22m\u001b[1mr\u001b[22m\u001b[1ma\u001b[22m\u001b[1mc\u001b[22m\u001b[1mt\u001b[22m\u001b[1mS\u001b[22m\u001b[1mp\u001b[22m\u001b[1ma\u001b[22m\u001b[1mr\u001b[22m\u001b[1ms\u001b[22m\u001b[1me\u001b[22mVector\n",
      "\n"
     ]
    },
    {
     "data": {
      "text/markdown": [
       "No documentation found.\n",
       "\n",
       "**Summary:**\n",
       "\n",
       "```\n",
       "abstract AbstractSparseArray{Tv,Ti,N} <: AbstractArray{Tv,N}\n",
       "```\n",
       "\n",
       "**Subtypes:**\n",
       "\n",
       "```\n",
       "Base.SparseArrays.CHOLMOD.Sparse{Tv<:Union{Complex{Float64},Float64}}\n",
       "SparseMatrixCSC{Tv,Ti<:Integer}\n",
       "SparseVector{Tv,Ti<:Integer}\n",
       "```\n"
      ],
      "text/plain": [
       "No documentation found.\n",
       "\n",
       "**Summary:**\n",
       "\n",
       "```\n",
       "abstract AbstractSparseArray{Tv,Ti,N} <: AbstractArray{Tv,N}\n",
       "```\n",
       "\n",
       "**Subtypes:**\n",
       "\n",
       "```\n",
       "Base.SparseArrays.CHOLMOD.Sparse{Tv<:Union{Complex{Float64},Float64}}\n",
       "SparseMatrixCSC{Tv,Ti<:Integer}\n",
       "SparseVector{Tv,Ti<:Integer}\n",
       "```\n"
      ]
     },
     "execution_count": 95,
     "metadata": {},
     "output_type": "execute_result"
    }
   ],
   "source": [
    "?AbstractSparseArray"
   ]
  },
  {
   "cell_type": "code",
   "execution_count": 96,
   "metadata": {
    "collapsed": false
   },
   "outputs": [
    {
     "data": {
      "text/plain": [
       "3×3 sparse matrix with 7 Float64 nonzero entries:\n",
       "\t[1, 1]  =  300000.0\n",
       "\t[2, 1]  =  -300000.0\n",
       "\t[1, 2]  =  -300000.0\n",
       "\t[2, 2]  =  600000.0\n",
       "\t[3, 2]  =  -300000.0\n",
       "\t[2, 3]  =  -300000.0\n",
       "\t[3, 3]  =  600000.0"
      ]
     },
     "execution_count": 96,
     "metadata": {},
     "output_type": "execute_result"
    }
   ],
   "source": [
    "sparse(sm)"
   ]
  },
  {
   "cell_type": "code",
   "execution_count": 97,
   "metadata": {
    "collapsed": false
   },
   "outputs": [],
   "source": [
    "# Add radial stress if fin_el is 3d and axisymmetric\n",
    "if ndim == 3 && struc_el.axisymmetric\n",
    "    nst = 4\n",
    "end"
   ]
  },
  {
   "cell_type": "code",
   "execution_count": 98,
   "metadata": {
    "collapsed": false
   },
   "outputs": [
    {
     "data": {
      "text/plain": [
       "4-element Array{Float64,1}:\n",
       " 0.833333\n",
       " 0.833333\n",
       " 1.66667 \n",
       " 1.66667 "
      ]
     },
     "execution_count": 98,
     "metadata": {},
     "output_type": "execute_result"
    }
   ],
   "source": [
    "fixed_freedoms = 0\n",
    "if :fixed_freedoms in keys(data)\n",
    "    fixed_freedoms = size(data[:fixed_freedoms], 1)\n",
    "end\n",
    "no = zeros(Int64, fixed_freedoms)\n",
    "node = zeros(Int64, fixed_freedoms)\n",
    "sense = zeros(Int64, fixed_freedoms)\n",
    "value = zeros(Float64, fixed_freedoms)\n",
    "if :fixed_freedoms in keys(data) && fixed_freedoms > 0\n",
    "    for i in 1:fixed_freedoms\n",
    "      node[i] = data[:fixed_freedoms][i][1]\n",
    "      sense[i] = data[:fixed_freedoms][i][2]\n",
    "      no[i] = nf[sense[i], node[i]]\n",
    "      value[i] = data[:fixed_freedoms][i][3]\n",
    "    end\n",
    "    kv[kdiag[no]] = kv[kdiag[no]] + penalty\n",
    "    loads[no+1] = kv[kdiag[no]] .* value\n",
    "end\n",
    "loads"
   ]
  },
  {
   "cell_type": "code",
   "execution_count": 99,
   "metadata": {
    "collapsed": false
   },
   "outputs": [],
   "source": [
    "PtFEM.sparin!(kv, kdiag)"
   ]
  },
  {
   "cell_type": "code",
   "execution_count": 100,
   "metadata": {
    "collapsed": false
   },
   "outputs": [
    {
     "data": {
      "text/plain": [
       "5-element Array{Float64,1}:\n",
       "  547.723\n",
       " -547.723\n",
       "  547.723\n",
       " -547.723\n",
       "  547.723"
      ]
     },
     "execution_count": 100,
     "metadata": {},
     "output_type": "execute_result"
    }
   ],
   "source": [
    "kv"
   ]
  },
  {
   "cell_type": "code",
   "execution_count": 101,
   "metadata": {
    "collapsed": false
   },
   "outputs": [
    {
     "data": {
      "text/plain": [
       "3×3 UpperTriangular{Float64,Array{Float64,2}}:\n",
       " 547.723  -547.723     0.0  \n",
       "    ⋅      547.723  -547.723\n",
       "    ⋅         ⋅      547.723"
      ]
     },
     "execution_count": 101,
     "metadata": {},
     "output_type": "execute_result"
    }
   ],
   "source": [
    "chol(sm)"
   ]
  },
  {
   "cell_type": "code",
   "execution_count": 102,
   "metadata": {
    "collapsed": false
   },
   "outputs": [
    {
     "data": {
      "text/plain": [
       "4-element Array{Float64,1}:\n",
       " 0.833333\n",
       " 0.833333\n",
       " 1.66667 \n",
       " 1.66667 "
      ]
     },
     "execution_count": 102,
     "metadata": {},
     "output_type": "execute_result"
    }
   ],
   "source": [
    "loads"
   ]
  },
  {
   "cell_type": "code",
   "execution_count": 103,
   "metadata": {
    "collapsed": false
   },
   "outputs": [
    {
     "data": {
      "text/plain": [
       "4-element Array{Float64,1}:\n",
       " 0.833333  \n",
       " 2.5e-5    \n",
       " 2.22222e-5\n",
       " 1.38889e-5"
      ]
     },
     "execution_count": 103,
     "metadata": {},
     "output_type": "execute_result"
    }
   ],
   "source": [
    "loads[2:end] = PtFEM.spabac!(kv, loads[2:end], kdiag)\n",
    "loads"
   ]
  },
  {
   "cell_type": "code",
   "execution_count": 104,
   "metadata": {
    "collapsed": false
   },
   "outputs": [
    {
     "data": {
      "text/plain": [
       "4×1 Array{Float64,2}:\n",
       " 2.5e-5    \n",
       " 2.22222e-5\n",
       " 1.38889e-5\n",
       " 0.0       "
      ]
     },
     "execution_count": 104,
     "metadata": {},
     "output_type": "execute_result"
    }
   ],
   "source": [
    "displacements = zeros(size(nf))\n",
    "for i in 1:size(displacements, 1)\n",
    "    for j in 1:size(displacements, 2)\n",
    "      if nf[i, j] > 0\n",
    "        displacements[i,j] = loads[nf[i, j]+1]\n",
    "      end\n",
    "    end\n",
    "end\n",
    "displacements = displacements'"
   ]
  },
  {
   "cell_type": "code",
   "execution_count": 105,
   "metadata": {
    "collapsed": false
   },
   "outputs": [
    {
     "data": {
      "text/plain": [
       "3×2 Array{Float64,2}:\n",
       " 0.833333  -0.833333\n",
       " 2.5       -2.5     \n",
       " 4.16667   -4.16667 "
      ]
     },
     "execution_count": 105,
     "metadata": {},
     "output_type": "execute_result"
    }
   ],
   "source": [
    "loads[1] = 0.0\n",
    "for i in 1:nels\n",
    "    km = PtFEM.rod_km!(km, prop[etype[i], 1], ell[i])\n",
    "    g = g_g[:, i]\n",
    "    eld = loads[g+1]\n",
    "    actions[i, :] = km * eld\n",
    "end\n",
    "actions"
   ]
  },
  {
   "cell_type": "code",
   "execution_count": 106,
   "metadata": {
    "collapsed": false
   },
   "outputs": [],
   "source": [
    "m=FEM(struc_el, fin_el, ndim, nels, nst, ndof, nn, nodof, neq, penalty,\n",
    "    etype, g, g_g, g_num, kdiag, nf, no, node, num, sense, actions, \n",
    "    bee, coord, gamma, dee, der, deriv, displacements, eld, fun, gc,\n",
    "    g_coord, jac, km, mm, gm, kv, gv, loads, points, prop, sigma, value,\n",
    "    weights, x_coords, y_coords, z_coords, axial);"
   ]
  },
  {
   "cell_type": "code",
   "execution_count": 107,
   "metadata": {
    "collapsed": false
   },
   "outputs": [
    {
     "data": {
      "text/plain": [
       "4×1 Array{Float64,2}:\n",
       " 2.5e-5    \n",
       " 2.22222e-5\n",
       " 1.38889e-5\n",
       " 0.0       "
      ]
     },
     "execution_count": 107,
     "metadata": {},
     "output_type": "execute_result"
    }
   ],
   "source": [
    "m.displacements"
   ]
  },
  {
   "cell_type": "code",
   "execution_count": 108,
   "metadata": {
    "collapsed": false
   },
   "outputs": [
    {
     "data": {
      "text/plain": [
       "3×2 Array{Float64,2}:\n",
       " 0.833333  -0.833333\n",
       " 2.5       -2.5     \n",
       " 4.16667   -4.16667 "
      ]
     },
     "execution_count": 108,
     "metadata": {},
     "output_type": "execute_result"
    }
   ],
   "source": [
    "m.actions"
   ]
  },
  {
   "cell_type": "code",
   "execution_count": 109,
   "metadata": {
    "collapsed": false
   },
   "outputs": [],
   "source": [
    "dis_df = DataFrame(\n",
    "    x_translation = m.displacements[:, 1],\n",
    ")\n",
    "fm_df = DataFrame(\n",
    "    normal_force_1 = m.actions[:, 1],\n",
    "    normal_force_2 = m.actions[:, 2],\n",
    "    normal_force_1_corrected = m.actions[:, 1],\n",
    "    normal_force_2_corrected = m.actions[:, 2]\n",
    ");"
   ]
  },
  {
   "cell_type": "markdown",
   "metadata": {},
   "source": [
    "#### Correct element forces and moments for equivalent nodal forces and moments introduced for loading between nodes"
   ]
  },
  {
   "cell_type": "code",
   "execution_count": 110,
   "metadata": {
    "collapsed": true
   },
   "outputs": [],
   "source": [
    "if :eq_nodal_forces_and_moments in keys(data)\n",
    "    eqfm = data[:eq_nodal_forces_and_moments]\n",
    "    k = data[:struc_el].fin_el.nod * data[:struc_el].fin_el.nodof\n",
    "    for t in eqfm\n",
    "      for i in 1:k\n",
    "        fm_df[t[1], i+2] = round(fm_df[t[1], i] - t[2][i], 5)\n",
    "      end\n",
    "    end\n",
    "end"
   ]
  },
  {
   "cell_type": "code",
   "execution_count": 111,
   "metadata": {
    "collapsed": false
   },
   "outputs": [
    {
     "data": {
      "text/html": [
       "<table class=\"data-frame\"><thead><tr><th></th><th>normal_force_1</th><th>normal_force_2</th><th>normal_force_1_corrected</th><th>normal_force_2_corrected</th></tr></thead><tbody><tr><th>1</th><td>0.8333333333333321</td><td>-0.8333333333333321</td><td>-0.0</td><td>-1.66667</td></tr><tr><th>2</th><td>2.5</td><td>-2.5</td><td>1.66667</td><td>-3.33333</td></tr><tr><th>3</th><td>4.166666666666664</td><td>-4.166666666666664</td><td>3.33333</td><td>-5.0</td></tr></tbody></table>"
      ],
      "text/plain": [
       "3×4 DataFrames.DataFrame\n",
       "│ Row │ normal_force_1 │ normal_force_2 │ normal_force_1_corrected │\n",
       "├─────┼────────────────┼────────────────┼──────────────────────────┤\n",
       "│ 1   │ 0.833333       │ -0.833333      │ -0.0                     │\n",
       "│ 2   │ 2.5            │ -2.5           │ 1.66667                  │\n",
       "│ 3   │ 4.16667        │ -4.16667       │ 3.33333                  │\n",
       "\n",
       "│ Row │ normal_force_2_corrected │\n",
       "├─────┼──────────────────────────┤\n",
       "│ 1   │ -1.66667                 │\n",
       "│ 2   │ -3.33333                 │\n",
       "│ 3   │ -5.0                     │"
      ]
     },
     "execution_count": 111,
     "metadata": {},
     "output_type": "execute_result"
    }
   ],
   "source": [
    "fm_df"
   ]
  }
 ],
 "metadata": {
  "anaconda-cloud": {},
  "kernelspec": {
   "display_name": "Julia 0.5.0",
   "language": "julia",
   "name": "julia-0.5"
  },
  "language_info": {
   "file_extension": ".jl",
   "mimetype": "application/julia",
   "name": "julia",
   "version": "0.5.0"
  }
 },
 "nbformat": 4,
 "nbformat_minor": 0
}
