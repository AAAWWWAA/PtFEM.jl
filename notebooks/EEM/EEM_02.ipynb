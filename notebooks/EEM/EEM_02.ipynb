{
 "cells": [
  {
   "cell_type": "markdown",
   "metadata": {},
   "source": [
    "### 1D Structural element (Rod in CSoM.jl) with a mesh consisting of 3 finite elements (Line in CSoM.jl) and 4 nodes"
   ]
  },
  {
   "cell_type": "code",
   "execution_count": 1,
   "metadata": {
    "collapsed": false
   },
   "outputs": [],
   "source": [
    "using CSoM, Plots, DataFrames"
   ]
  },
  {
   "cell_type": "code",
   "execution_count": 2,
   "metadata": {
    "collapsed": false
   },
   "outputs": [],
   "source": [
    "l = 1.0                      # Length [m]\n",
    "q = 5.0                      # Distributed load [N/m]\n",
    "EA = 10.0                    # [Ns/m];\n",
    "N = 4                        # Number of nodes\n",
    "els = 3                      # Number of elements\n",
    "ell = [1/els for i in 1:els] # Length of each element;"
   ]
  },
  {
   "cell_type": "markdown",
   "metadata": {},
   "source": [
    "#### Specify the type of structural element and the type of finite element used:"
   ]
  },
  {
   "cell_type": "code",
   "execution_count": 3,
   "metadata": {
    "collapsed": false
   },
   "outputs": [
    {
     "data": {
      "text/plain": [
       ":Line"
      ]
     },
     "execution_count": 3,
     "metadata": {},
     "output_type": "execute_result"
    }
   ],
   "source": [
    "struct_el = :Rod\n",
    "fin_el = :Line"
   ]
  },
  {
   "cell_type": "code",
   "execution_count": 4,
   "metadata": {
    "collapsed": false
   },
   "outputs": [
    {
     "name": "stdout",
     "output_type": "stream",
     "text": [
      "search: \u001b[1mR\u001b[22m\u001b[1mo\u001b[22m\u001b[1md\u001b[22m p\u001b[1mr\u001b[22m\u001b[1mo\u001b[22m\u001b[1md\u001b[22m p\u001b[1mr\u001b[22m\u001b[1mo\u001b[22m\u001b[1md\u001b[22m! p\u001b[1mr\u001b[22m\u001b[1mo\u001b[22m\u001b[1md\u001b[22muce cump\u001b[1mr\u001b[22m\u001b[1mo\u001b[22m\u001b[1md\u001b[22m cump\u001b[1mr\u001b[22m\u001b[1mo\u001b[22m\u001b[1md\u001b[22m! b\u001b[1mr\u001b[22m\u001b[1mo\u001b[22ma\u001b[1md\u001b[22mcast b\u001b[1mr\u001b[22m\u001b[1mo\u001b[22ma\u001b[1md\u001b[22mcast!\n",
      "\n"
     ]
    },
    {
     "data": {
      "text/markdown": [
       "## Rod\n",
       "\n",
       "Concrete 1D structural element with only axial stresses.\n",
       "\n",
       "### Constructor\n",
       "\n",
       "```julia\n",
       "Rod(nels, np_types, nip, fin_el)\n",
       "```\n",
       "\n",
       "### Arguments\n",
       "\n",
       "```julia\n",
       "* nels::Int64             : Number of fin_els (stored in field nxe)\n",
       "* np_types::Int64         : Number of different property types\n",
       "* nip::Int64              : Number of integration points\n",
       "* fin_el::FiniteElement   : Line(nod, nodof)\n",
       "```\n",
       "\n",
       "### Related help\n",
       "\n",
       "```julia\n",
       "?StructuralElement  : Help on structural elements\n",
       "?FiniteElement      : Help on finite element types\n",
       "?Line               : Help on a Line finite element\n",
       "```\n"
      ],
      "text/plain": [
       "## Rod\n",
       "\n",
       "Concrete 1D structural element with only axial stresses.\n",
       "\n",
       "### Constructor\n",
       "\n",
       "```julia\n",
       "Rod(nels, np_types, nip, fin_el)\n",
       "```\n",
       "\n",
       "### Arguments\n",
       "\n",
       "```julia\n",
       "* nels::Int64             : Number of fin_els (stored in field nxe)\n",
       "* np_types::Int64         : Number of different property types\n",
       "* nip::Int64              : Number of integration points\n",
       "* fin_el::FiniteElement   : Line(nod, nodof)\n",
       "```\n",
       "\n",
       "### Related help\n",
       "\n",
       "```julia\n",
       "?StructuralElement  : Help on structural elements\n",
       "?FiniteElement      : Help on finite element types\n",
       "?Line               : Help on a Line finite element\n",
       "```\n"
      ]
     },
     "execution_count": 4,
     "metadata": {},
     "output_type": "execute_result"
    }
   ],
   "source": [
    "?Rod"
   ]
  },
  {
   "cell_type": "markdown",
   "metadata": {},
   "source": [
    "#### In this example the mesh of the structural element will consist of 3 element, each only made of a single material and the finite element type is Line:"
   ]
  },
  {
   "cell_type": "code",
   "execution_count": 5,
   "metadata": {
    "collapsed": false
   },
   "outputs": [],
   "source": [
    "np_types = 1       # A single property type\n",
    "EA = 1.0e5         # Axial strain stiffness\n",
    "nip = 1            # Numerical integration will use only a single integration point (explained in future notebooks);"
   ]
  },
  {
   "cell_type": "code",
   "execution_count": 6,
   "metadata": {
    "collapsed": false
   },
   "outputs": [
    {
     "name": "stdout",
     "output_type": "stream",
     "text": [
      "search: \u001b[1mL\u001b[22m\u001b[1mi\u001b[22m\u001b[1mn\u001b[22m\u001b[1me\u001b[22m \u001b[1mL\u001b[22m\u001b[1mi\u001b[22m\u001b[1mn\u001b[22m\u001b[1me\u001b[22mNumberNode \u001b[1ml\u001b[22m\u001b[1mi\u001b[22m\u001b[1mn\u001b[22m\u001b[1me\u001b[22marindices v\u001b[1ml\u001b[22m\u001b[1mi\u001b[22m\u001b[1mn\u001b[22m\u001b[1me\u001b[22m h\u001b[1ml\u001b[22m\u001b[1mi\u001b[22m\u001b[1mn\u001b[22m\u001b[1me\u001b[22m v\u001b[1ml\u001b[22m\u001b[1mi\u001b[22m\u001b[1mn\u001b[22m\u001b[1me\u001b[22m! h\u001b[1ml\u001b[22m\u001b[1mi\u001b[22m\u001b[1mn\u001b[22m\u001b[1me\u001b[22m! in\u001b[1ml\u001b[22m\u001b[1mi\u001b[22m\u001b[1mn\u001b[22m\u001b[1me\u001b[22m\n",
      "\n"
     ]
    },
    {
     "data": {
      "text/markdown": [
       "## Line (Interval)\n",
       "\n",
       "1D type finite element\n",
       "\n",
       "### Constructor\n",
       "\n",
       "```julia\n",
       "Line(nod, nodof)\n",
       "Line(nodof)\n",
       "```\n",
       "\n",
       "### Arguments\n",
       "\n",
       "```julia\n",
       "* nod::Int64       : Number of nodes for finite element, defaults to 2\n",
       "* nodof::Int64     : Number of degrees of freedom per node\n",
       "```\n",
       "\n",
       "### Related help\n",
       "\n",
       "```julia\n",
       "?FiniteElement      : Help on finite element types\n",
       "```\n"
      ],
      "text/plain": [
       "## Line (Interval)\n",
       "\n",
       "1D type finite element\n",
       "\n",
       "### Constructor\n",
       "\n",
       "```julia\n",
       "Line(nod, nodof)\n",
       "Line(nodof)\n",
       "```\n",
       "\n",
       "### Arguments\n",
       "\n",
       "```julia\n",
       "* nod::Int64       : Number of nodes for finite element, defaults to 2\n",
       "* nodof::Int64     : Number of degrees of freedom per node\n",
       "```\n",
       "\n",
       "### Related help\n",
       "\n",
       "```julia\n",
       "?FiniteElement      : Help on finite element types\n",
       "```\n"
      ]
     },
     "execution_count": 6,
     "metadata": {},
     "output_type": "execute_result"
    }
   ],
   "source": [
    "?Line"
   ]
  },
  {
   "cell_type": "code",
   "execution_count": 7,
   "metadata": {
    "collapsed": false
   },
   "outputs": [],
   "source": [
    "nod = 2        # Each line finite element has 2 nodes\n",
    "nodof = 1      # Each node has a single degree of freedom (deflection in the x direction);"
   ]
  },
  {
   "cell_type": "code",
   "execution_count": 8,
   "metadata": {
    "collapsed": false
   },
   "outputs": [],
   "source": [
    "data = Dict(\n",
    ":struc_el => Rod(els, np_types, nip, Line(nod, nodof)),\n",
    "  :properties => [EA;],\n",
    "  :x_coords => 0.0:l/els:l,\n",
    "  :support => [(N, [0])],\n",
    "  :loaded_nodes => [(i, repeat([0.0], inner=nodof)) for i in 1:N],\n",
    "  :eq_nodal_forces_and_moments => [(i, repeat([0.0], inner=nodof*nod)) for i in 1:els]\n",
    ");"
   ]
  },
  {
   "cell_type": "markdown",
   "metadata": {},
   "source": [
    "##### In above input dictionary we've also specified the support at node 4. In this case the support is clamped, i.e. the deflection in the x direction is fixed. Dictionary entries :loaded_nodes and :eq_nodal_forces_and_moments are initial set to 0.0. These are updated below where applicable.\n",
    "\n",
    "#### In this example there are only distributed loads. Otherwise set data[:loaded_nodes] to the external forces and moment directly applied to the nodes, e.g.:\n",
    "\n",
    "    data[:loaded_nodes][2] = (2, [5.0])"
   ]
  },
  {
   "cell_type": "markdown",
   "metadata": {},
   "source": [
    "###### Determine the distributed loads contribution to nodal forces:"
   ]
  },
  {
   "cell_type": "code",
   "execution_count": 9,
   "metadata": {
    "collapsed": false
   },
   "outputs": [],
   "source": [
    "for node in 1:els\n",
    "  data[:eq_nodal_forces_and_moments][node][2][1] = 1/2*q*l/els\n",
    "  data[:eq_nodal_forces_and_moments][node][2][2] = 1/2*q*l/els\n",
    "end  \n",
    "\n",
    "# Add the equivalent distributed forces and moment to loaded_nodes entry\n",
    "\n",
    "for node in 1:N-1\n",
    "  data[:loaded_nodes][node][2][1] += data[:eq_nodal_forces_and_moments][node][2][1]\n",
    "  data[:loaded_nodes][node+1][2][1] += data[:eq_nodal_forces_and_moments][node][2][2]\n",
    "end  "
   ]
  },
  {
   "cell_type": "code",
   "execution_count": 10,
   "metadata": {
    "collapsed": false
   },
   "outputs": [
    {
     "data": {
      "text/plain": [
       "4-element Array{Tuple{Int64,Array{Float64,1}},1}:\n",
       " (1,[0.833333])\n",
       " (2,[1.66667]) \n",
       " (3,[1.66667]) \n",
       " (4,[0.833333])"
      ]
     },
     "execution_count": 10,
     "metadata": {},
     "output_type": "execute_result"
    }
   ],
   "source": [
    "F = data[:loaded_nodes]"
   ]
  },
  {
   "cell_type": "markdown",
   "metadata": {},
   "source": [
    "#### Vector F contains the nodal loads except the support force in node 4 (which is unknown in general)\n",
    "\n",
    "In this case it is easy to see the support force will be -5 [N], but in most cases this is not that trivial and we would like the program to compute such forces and/or moments."
   ]
  },
  {
   "cell_type": "markdown",
   "metadata": {
    "collapsed": false
   },
   "source": [
    "In EEM: f = {F[1], F[2], F[3], F[4] + Fs[4]} # where Fs[4] is the unknown support force needed in node 4 to prevent a deflection."
   ]
  },
  {
   "cell_type": "code",
   "execution_count": 11,
   "metadata": {
    "collapsed": false
   },
   "outputs": [
    {
     "name": "stdout",
     "output_type": "stream",
     "text": [
      "There are 3 equations and the skyline storage is 5.\n",
      "\n"
     ]
    }
   ],
   "source": [
    "m = FE4_1(data);"
   ]
  },
  {
   "cell_type": "code",
   "execution_count": 12,
   "metadata": {
    "collapsed": false
   },
   "outputs": [
    {
     "data": {
      "text/plain": [
       "4×1 Array{Float64,2}:\n",
       " 2.5e-5    \n",
       " 2.22222e-5\n",
       " 1.38889e-5\n",
       " 0.0       "
      ]
     },
     "execution_count": 12,
     "metadata": {},
     "output_type": "execute_result"
    }
   ],
   "source": [
    "m.displacements"
   ]
  },
  {
   "cell_type": "code",
   "execution_count": 13,
   "metadata": {
    "collapsed": false
   },
   "outputs": [
    {
     "data": {
      "text/plain": [
       "3×2 Array{Float64,2}:\n",
       " 0.833333  -0.833333\n",
       " 2.5       -2.5     \n",
       " 4.16667   -4.16667 "
      ]
     },
     "execution_count": 13,
     "metadata": {},
     "output_type": "execute_result"
    }
   ],
   "source": [
    "m.actions"
   ]
  },
  {
   "cell_type": "code",
   "execution_count": 14,
   "metadata": {
    "collapsed": false
   },
   "outputs": [
    {
     "data": {
      "text/html": [
       "<table class=\"data-frame\"><thead><tr><th></th><th>x_translation</th></tr></thead><tbody><tr><th>1</th><td>2.499999999999999e-5</td></tr><tr><th>2</th><td>2.2222222222222217e-5</td></tr><tr><th>3</th><td>1.3888888888888884e-5</td></tr><tr><th>4</th><td>0.0</td></tr></tbody></table>"
      ],
      "text/plain": [
       "4×1 DataFrames.DataFrame\n",
       "│ Row │ x_translation │\n",
       "├─────┼───────────────┤\n",
       "│ 1   │ 2.5e-5        │\n",
       "│ 2   │ 2.22222e-5    │\n",
       "│ 3   │ 1.38889e-5    │\n",
       "│ 4   │ 0.0           │"
      ]
     },
     "execution_count": 14,
     "metadata": {},
     "output_type": "execute_result"
    }
   ],
   "source": [
    "dis_df = DataFrame(\n",
    "  x_translation = m.displacements[:, 1],\n",
    ")"
   ]
  },
  {
   "cell_type": "code",
   "execution_count": 15,
   "metadata": {
    "collapsed": false
   },
   "outputs": [],
   "source": [
    "fm_df = DataFrame(\n",
    "    normal_force_1 = m.actions[:, 1],\n",
    "    normal_force_2 = m.actions[:, 2],\n",
    "    normal_force_1_corrected = m.actions[:, 1],\n",
    "    normal_force_2_corrected = m.actions[:, 2]\n",
    ");"
   ]
  },
  {
   "cell_type": "markdown",
   "metadata": {},
   "source": [
    "#### Correct element forces and moments for equivalent nodal forces and moments introduced for loading between nodes"
   ]
  },
  {
   "cell_type": "code",
   "execution_count": 16,
   "metadata": {
    "collapsed": false
   },
   "outputs": [
    {
     "data": {
      "text/html": [
       "<table class=\"data-frame\"><thead><tr><th></th><th>normal_force_1</th><th>normal_force_2</th><th>normal_force_1_corrected</th><th>normal_force_2_corrected</th></tr></thead><tbody><tr><th>1</th><td>0.8333333333333321</td><td>-0.8333333333333321</td><td>-0.0</td><td>-1.66667</td></tr><tr><th>2</th><td>2.5</td><td>-2.5</td><td>1.66667</td><td>-3.33333</td></tr><tr><th>3</th><td>4.166666666666664</td><td>-4.166666666666664</td><td>3.33333</td><td>-5.0</td></tr></tbody></table>"
      ],
      "text/plain": [
       "3×4 DataFrames.DataFrame\n",
       "│ Row │ normal_force_1 │ normal_force_2 │ normal_force_1_corrected │\n",
       "├─────┼────────────────┼────────────────┼──────────────────────────┤\n",
       "│ 1   │ 0.833333       │ -0.833333      │ -0.0                     │\n",
       "│ 2   │ 2.5            │ -2.5           │ 1.66667                  │\n",
       "│ 3   │ 4.16667        │ -4.16667       │ 3.33333                  │\n",
       "\n",
       "│ Row │ normal_force_2_corrected │\n",
       "├─────┼──────────────────────────┤\n",
       "│ 1   │ -1.66667                 │\n",
       "│ 2   │ -3.33333                 │\n",
       "│ 3   │ -5.0                     │"
      ]
     },
     "execution_count": 16,
     "metadata": {},
     "output_type": "execute_result"
    }
   ],
   "source": [
    "if :eq_nodal_forces_and_moments in keys(data)\n",
    "    eqfm = data[:eq_nodal_forces_and_moments]\n",
    "    k = data[:struc_el].fin_el.nod * data[:struc_el].fin_el.nodof\n",
    "    for t in eqfm\n",
    "      for i in 1:k\n",
    "        fm_df[t[1], i+2] = round(fm_df[t[1], i] - t[2][i], 5)\n",
    "      end\n",
    "    end\n",
    "end\n",
    "fm_df"
   ]
  },
  {
   "cell_type": "code",
   "execution_count": 17,
   "metadata": {
    "collapsed": true
   },
   "outputs": [],
   "source": [
    "### Plot the results"
   ]
  },
  {
   "cell_type": "code",
   "execution_count": 18,
   "metadata": {
    "collapsed": false
   },
   "outputs": [
    {
     "data": {
      "text/plain": [
       "Plots.GRBackend()"
      ]
     },
     "execution_count": 18,
     "metadata": {},
     "output_type": "execute_result"
    }
   ],
   "source": [
    "gr()"
   ]
  },
  {
   "cell_type": "code",
   "execution_count": 19,
   "metadata": {
    "collapsed": false
   },
   "outputs": [],
   "source": [
    "x = 0.0:l/els:l;\n",
    "u = dis_df[:x_translation]\n",
    "N = vcat(fm_df[:normal_force_1_corrected][1], fm_df[:normal_force_2_corrected]);"
   ]
  },
  {
   "cell_type": "code",
   "execution_count": 20,
   "metadata": {
    "collapsed": false
   },
   "outputs": [],
   "source": [
    "p = Vector{Plots.Plot{Plots.GRBackend}}(2)\n",
    "titles = [\"EEM fig 1.1 u(x)\", \"EEM fig 1.1 N(x)\"];"
   ]
  },
  {
   "cell_type": "code",
   "execution_count": 21,
   "metadata": {
    "collapsed": false
   },
   "outputs": [],
   "source": [
    "p[1]=plot(N, x, yflip=true, xflip=true, xlab=\"Normal force [N]\", ylab=\"x [m]\", color=:red,\n",
    "    fill=true, fillalpha=0.1, leg=false, title=titles[2])\n",
    "for i in 1:els\n",
    "    plot!(p[1], [fm_df[:normal_force_2][i], fm_df[:normal_force_2][i]], [(i-1)*l/els, i*l/els], color=:blue)\n",
    "end"
   ]
  },
  {
   "cell_type": "code",
   "execution_count": 22,
   "metadata": {
    "collapsed": false
   },
   "outputs": [],
   "source": [
    "p[2] = plot(u, x, xlim=(0.0, 0.00004), yflip=true, xlab=\"Displacement [m]\", ylab=\"x [m]\",\n",
    "fillto=0.0, fillalpha=0.1, leg=false, title=titles[1]);"
   ]
  },
  {
   "cell_type": "code",
   "execution_count": 23,
   "metadata": {
    "collapsed": false
   },
   "outputs": [],
   "source": [
    "defl(x) = q/(2*EA).*(l^2 .- x.^2)\n",
    "x1 = 0.0:0.01:l\n",
    "plot!(p[2], defl(x1), x1, xlim=(0.0, 0.00004), color=:red);"
   ]
  },
  {
   "cell_type": "code",
   "execution_count": 24,
   "metadata": {
    "collapsed": false
   },
   "outputs": [
    {
     "data": {
      "text/html": [
       "<?xml version=\"1.0\" encoding=\"utf-8\"?>\n",
       "<svg xmlns=\"http://www.w3.org/2000/svg\" xmlns:xlink=\"http://www.w3.org/1999/xlink\" width=\"600\" height=\"400\" viewBox=\"0 0 600 400\">\n",
       "<defs>\n",
       "  <clipPath id=\"clip00\">\n",
       "    <rect x=\"0\" y=\"0\" width=\"600\" height=\"400\"/>\n",
       "  </clipPath>\n",
       "</defs>\n",
       "<polygon clip-path=\"url(#clip00)\" points=\"\n",
       "0,400 600,400 600,0 0,0 \n",
       "  \" fill=\"#ffffff\" fill-opacity=\"1\"/>\n",
       "<defs>\n",
       "  <clipPath id=\"clip01\">\n",
       "    <rect x=\"120\" y=\"0\" width=\"421\" height=\"400\"/>\n",
       "  </clipPath>\n",
       "</defs>\n",
       "<polygon clip-path=\"url(#clip00)\" points=\"\n",
       "45.8815,369.674 296.063,369.674 296.063,23.3815 45.8815,23.3815 \n",
       "  \" fill=\"#ffffff\" fill-opacity=\"1\"/>\n",
       "<defs>\n",
       "  <clipPath id=\"clip02\">\n",
       "    <rect x=\"45\" y=\"23\" width=\"251\" height=\"347\"/>\n",
       "  </clipPath>\n",
       "</defs>\n",
       "<polyline clip-path=\"url(#clip02)\" style=\"stroke:#00002d; stroke-width:0.8; stroke-opacity:0.5; fill:none\" stroke-dasharray=\"1, 2\" points=\"\n",
       "  296.063,28.5758 296.063,364.48 \n",
       "  \"/>\n",
       "<polyline clip-path=\"url(#clip02)\" style=\"stroke:#00002d; stroke-width:0.8; stroke-opacity:0.5; fill:none\" stroke-dasharray=\"1, 2\" points=\"\n",
       "  246.027,28.5758 246.027,364.48 \n",
       "  \"/>\n",
       "<polyline clip-path=\"url(#clip02)\" style=\"stroke:#00002d; stroke-width:0.8; stroke-opacity:0.5; fill:none\" stroke-dasharray=\"1, 2\" points=\"\n",
       "  195.99,28.5758 195.99,364.48 \n",
       "  \"/>\n",
       "<polyline clip-path=\"url(#clip02)\" style=\"stroke:#00002d; stroke-width:0.8; stroke-opacity:0.5; fill:none\" stroke-dasharray=\"1, 2\" points=\"\n",
       "  145.954,28.5758 145.954,364.48 \n",
       "  \"/>\n",
       "<polyline clip-path=\"url(#clip02)\" style=\"stroke:#00002d; stroke-width:0.8; stroke-opacity:0.5; fill:none\" stroke-dasharray=\"1, 2\" points=\"\n",
       "  95.9178,28.5758 95.9178,364.48 \n",
       "  \"/>\n",
       "<polyline clip-path=\"url(#clip02)\" style=\"stroke:#00002d; stroke-width:0.8; stroke-opacity:0.5; fill:none\" stroke-dasharray=\"1, 2\" points=\"\n",
       "  45.8815,28.5758 45.8815,364.48 \n",
       "  \"/>\n",
       "<polyline clip-path=\"url(#clip02)\" style=\"stroke:#00002d; stroke-width:0.8; stroke-opacity:0.5; fill:none\" stroke-dasharray=\"1, 2\" points=\"\n",
       "  292.31,23.3815 49.6342,23.3815 \n",
       "  \"/>\n",
       "<polyline clip-path=\"url(#clip02)\" style=\"stroke:#00002d; stroke-width:0.8; stroke-opacity:0.5; fill:none\" stroke-dasharray=\"1, 2\" points=\"\n",
       "  292.31,92.64 49.6342,92.64 \n",
       "  \"/>\n",
       "<polyline clip-path=\"url(#clip02)\" style=\"stroke:#00002d; stroke-width:0.8; stroke-opacity:0.5; fill:none\" stroke-dasharray=\"1, 2\" points=\"\n",
       "  292.31,161.899 49.6342,161.899 \n",
       "  \"/>\n",
       "<polyline clip-path=\"url(#clip02)\" style=\"stroke:#00002d; stroke-width:0.8; stroke-opacity:0.5; fill:none\" stroke-dasharray=\"1, 2\" points=\"\n",
       "  292.31,231.157 49.6342,231.157 \n",
       "  \"/>\n",
       "<polyline clip-path=\"url(#clip02)\" style=\"stroke:#00002d; stroke-width:0.8; stroke-opacity:0.5; fill:none\" stroke-dasharray=\"1, 2\" points=\"\n",
       "  292.31,300.416 49.6342,300.416 \n",
       "  \"/>\n",
       "<polyline clip-path=\"url(#clip02)\" style=\"stroke:#00002d; stroke-width:0.8; stroke-opacity:0.5; fill:none\" stroke-dasharray=\"1, 2\" points=\"\n",
       "  292.31,369.674 49.6342,369.674 \n",
       "  \"/>\n",
       "<polyline clip-path=\"url(#clip02)\" style=\"stroke:#00002d; stroke-width:0.8; stroke-opacity:1; fill:none\" points=\"\n",
       "  296.063,23.3815 45.8815,23.3815 \n",
       "  \"/>\n",
       "<polyline clip-path=\"url(#clip02)\" style=\"stroke:#00002d; stroke-width:0.8; stroke-opacity:1; fill:none\" points=\"\n",
       "  296.063,23.3815 296.063,28.5758 \n",
       "  \"/>\n",
       "<polyline clip-path=\"url(#clip02)\" style=\"stroke:#00002d; stroke-width:0.8; stroke-opacity:1; fill:none\" points=\"\n",
       "  246.027,23.3815 246.027,28.5758 \n",
       "  \"/>\n",
       "<polyline clip-path=\"url(#clip02)\" style=\"stroke:#00002d; stroke-width:0.8; stroke-opacity:1; fill:none\" points=\"\n",
       "  195.99,23.3815 195.99,28.5758 \n",
       "  \"/>\n",
       "<polyline clip-path=\"url(#clip02)\" style=\"stroke:#00002d; stroke-width:0.8; stroke-opacity:1; fill:none\" points=\"\n",
       "  145.954,23.3815 145.954,28.5758 \n",
       "  \"/>\n",
       "<polyline clip-path=\"url(#clip02)\" style=\"stroke:#00002d; stroke-width:0.8; stroke-opacity:1; fill:none\" points=\"\n",
       "  95.9178,23.3815 95.9178,28.5758 \n",
       "  \"/>\n",
       "<polyline clip-path=\"url(#clip02)\" style=\"stroke:#00002d; stroke-width:0.8; stroke-opacity:1; fill:none\" points=\"\n",
       "  45.8815,23.3815 45.8815,28.5758 \n",
       "  \"/>\n",
       "<polyline clip-path=\"url(#clip02)\" style=\"stroke:#00002d; stroke-width:0.8; stroke-opacity:1; fill:none\" points=\"\n",
       "  296.063,23.3815 296.063,369.674 \n",
       "  \"/>\n",
       "<polyline clip-path=\"url(#clip02)\" style=\"stroke:#00002d; stroke-width:0.8; stroke-opacity:1; fill:none\" points=\"\n",
       "  296.063,23.3815 292.31,23.3815 \n",
       "  \"/>\n",
       "<polyline clip-path=\"url(#clip02)\" style=\"stroke:#00002d; stroke-width:0.8; stroke-opacity:1; fill:none\" points=\"\n",
       "  296.063,92.64 292.31,92.64 \n",
       "  \"/>\n",
       "<polyline clip-path=\"url(#clip02)\" style=\"stroke:#00002d; stroke-width:0.8; stroke-opacity:1; fill:none\" points=\"\n",
       "  296.063,161.899 292.31,161.899 \n",
       "  \"/>\n",
       "<polyline clip-path=\"url(#clip02)\" style=\"stroke:#00002d; stroke-width:0.8; stroke-opacity:1; fill:none\" points=\"\n",
       "  296.063,231.157 292.31,231.157 \n",
       "  \"/>\n",
       "<polyline clip-path=\"url(#clip02)\" style=\"stroke:#00002d; stroke-width:0.8; stroke-opacity:1; fill:none\" points=\"\n",
       "  296.063,300.416 292.31,300.416 \n",
       "  \"/>\n",
       "<polyline clip-path=\"url(#clip02)\" style=\"stroke:#00002d; stroke-width:0.8; stroke-opacity:1; fill:none\" points=\"\n",
       "  296.063,369.674 292.31,369.674 \n",
       "  \"/>\n",
       "<g clip-path=\"url(#clip00)\">\n",
       "<text style=\"fill:#00002d; fill-opacity:1; font-family:Arial,Helvetica Neue,Helvetica,sans-serif; font-size:12; text-anchor:middle;\" transform=\"rotate(0, 296.063, 381.674)\" x=\"296.063\" y=\"381.674\">-5</text>\n",
       "</g>\n",
       "<g clip-path=\"url(#clip00)\">\n",
       "<text style=\"fill:#00002d; fill-opacity:1; font-family:Arial,Helvetica Neue,Helvetica,sans-serif; font-size:12; text-anchor:middle;\" transform=\"rotate(0, 246.027, 381.674)\" x=\"246.027\" y=\"381.674\">-4</text>\n",
       "</g>\n",
       "<g clip-path=\"url(#clip00)\">\n",
       "<text style=\"fill:#00002d; fill-opacity:1; font-family:Arial,Helvetica Neue,Helvetica,sans-serif; font-size:12; text-anchor:middle;\" transform=\"rotate(0, 195.99, 381.674)\" x=\"195.99\" y=\"381.674\">-3</text>\n",
       "</g>\n",
       "<g clip-path=\"url(#clip00)\">\n",
       "<text style=\"fill:#00002d; fill-opacity:1; font-family:Arial,Helvetica Neue,Helvetica,sans-serif; font-size:12; text-anchor:middle;\" transform=\"rotate(0, 145.954, 381.674)\" x=\"145.954\" y=\"381.674\">-2</text>\n",
       "</g>\n",
       "<g clip-path=\"url(#clip00)\">\n",
       "<text style=\"fill:#00002d; fill-opacity:1; font-family:Arial,Helvetica Neue,Helvetica,sans-serif; font-size:12; text-anchor:middle;\" transform=\"rotate(0, 95.9178, 381.674)\" x=\"95.9178\" y=\"381.674\">-1</text>\n",
       "</g>\n",
       "<g clip-path=\"url(#clip00)\">\n",
       "<text style=\"fill:#00002d; fill-opacity:1; font-family:Arial,Helvetica Neue,Helvetica,sans-serif; font-size:12; text-anchor:middle;\" transform=\"rotate(0, 45.8815, 381.674)\" x=\"45.8815\" y=\"381.674\">0</text>\n",
       "</g>\n",
       "<g clip-path=\"url(#clip00)\">\n",
       "<text style=\"fill:#00002d; fill-opacity:1; font-family:Arial,Helvetica Neue,Helvetica,sans-serif; font-size:12; text-anchor:end;\" transform=\"rotate(0, 44.6815, 27.8815)\" x=\"44.6815\" y=\"27.8815\">0.0</text>\n",
       "</g>\n",
       "<g clip-path=\"url(#clip00)\">\n",
       "<text style=\"fill:#00002d; fill-opacity:1; font-family:Arial,Helvetica Neue,Helvetica,sans-serif; font-size:12; text-anchor:end;\" transform=\"rotate(0, 44.6815, 97.14)\" x=\"44.6815\" y=\"97.14\">0.2</text>\n",
       "</g>\n",
       "<g clip-path=\"url(#clip00)\">\n",
       "<text style=\"fill:#00002d; fill-opacity:1; font-family:Arial,Helvetica Neue,Helvetica,sans-serif; font-size:12; text-anchor:end;\" transform=\"rotate(0, 44.6815, 166.399)\" x=\"44.6815\" y=\"166.399\">0.4</text>\n",
       "</g>\n",
       "<g clip-path=\"url(#clip00)\">\n",
       "<text style=\"fill:#00002d; fill-opacity:1; font-family:Arial,Helvetica Neue,Helvetica,sans-serif; font-size:12; text-anchor:end;\" transform=\"rotate(0, 44.6815, 235.657)\" x=\"44.6815\" y=\"235.657\">0.6</text>\n",
       "</g>\n",
       "<g clip-path=\"url(#clip00)\">\n",
       "<text style=\"fill:#00002d; fill-opacity:1; font-family:Arial,Helvetica Neue,Helvetica,sans-serif; font-size:12; text-anchor:end;\" transform=\"rotate(0, 44.6815, 304.916)\" x=\"44.6815\" y=\"304.916\">0.8</text>\n",
       "</g>\n",
       "<g clip-path=\"url(#clip00)\">\n",
       "<text style=\"fill:#00002d; fill-opacity:1; font-family:Arial,Helvetica Neue,Helvetica,sans-serif; font-size:12; text-anchor:end;\" transform=\"rotate(0, 44.6815, 374.174)\" x=\"44.6815\" y=\"374.174\">1.0</text>\n",
       "</g>\n",
       "<g clip-path=\"url(#clip00)\">\n",
       "<text style=\"fill:#00002d; fill-opacity:1; font-family:Arial,Helvetica Neue,Helvetica,sans-serif; font-size:21; text-anchor:middle;\" transform=\"rotate(0, 170.972, 18)\" x=\"170.972\" y=\"18\">EEM fig 1.1 N(x)</text>\n",
       "</g>\n",
       "<g clip-path=\"url(#clip00)\">\n",
       "<text style=\"fill:#00002d; fill-opacity:1; font-family:Arial,Helvetica Neue,Helvetica,sans-serif; font-size:16; text-anchor:middle;\" transform=\"rotate(0, 170.972, 397.6)\" x=\"170.972\" y=\"397.6\">Normal force [N]</text>\n",
       "</g>\n",
       "<g clip-path=\"url(#clip00)\">\n",
       "<text style=\"fill:#00002d; fill-opacity:1; font-family:Arial,Helvetica Neue,Helvetica,sans-serif; font-size:16; text-anchor:middle;\" transform=\"rotate(-90, 14.4, 196.528)\" x=\"14.4\" y=\"196.528\">x [m]</text>\n",
       "</g>\n",
       "<polygon clip-path=\"url(#clip02)\" points=\"\n",
       "45.8815,23.3815 129.275,138.812 212.669,254.243 296.063,369.674 296.063,369.674 212.669,369.674 129.275,369.674 45.8815,369.674 \n",
       "  \" fill=\"#ff0000\" fill-opacity=\"0.1\"/>\n",
       "<polyline clip-path=\"url(#clip02)\" style=\"stroke:#ff0000; stroke-width:0.8; stroke-opacity:1; fill:none\" points=\"\n",
       "  45.8815,23.3815 129.275,138.812 212.669,254.243 296.063,369.674 \n",
       "  \"/>\n",
       "<polyline clip-path=\"url(#clip02)\" style=\"stroke:#0000ff; stroke-width:0.8; stroke-opacity:1; fill:none\" points=\"\n",
       "  87.5784,23.3815 87.5784,138.812 \n",
       "  \"/>\n",
       "<polyline clip-path=\"url(#clip02)\" style=\"stroke:#0000ff; stroke-width:0.8; stroke-opacity:1; fill:none\" points=\"\n",
       "  170.972,138.812 170.972,254.243 \n",
       "  \"/>\n",
       "<polyline clip-path=\"url(#clip02)\" style=\"stroke:#0000ff; stroke-width:0.8; stroke-opacity:1; fill:none\" points=\"\n",
       "  254.366,254.243 254.366,369.674 \n",
       "  \"/>\n",
       "<polygon clip-path=\"url(#clip00)\" points=\"\n",
       "-3345.88,-169.674 -3596.06,-169.674 -3596.06,176.619 -3345.88,176.619 \n",
       "  \" fill=\"#ffffff\" fill-opacity=\"1\"/>\n",
       "<defs>\n",
       "  <clipPath id=\"clip03\">\n",
       "    <rect x=\"345\" y=\"23\" width=\"251\" height=\"347\"/>\n",
       "  </clipPath>\n",
       "</defs>\n",
       "<polyline clip-path=\"url(#clip03)\" style=\"stroke:#00002d; stroke-width:0.8; stroke-opacity:0.5; fill:none\" stroke-dasharray=\"1, 2\" points=\"\n",
       "  345.881,28.5758 345.881,364.48 \n",
       "  \"/>\n",
       "<polyline clip-path=\"url(#clip03)\" style=\"stroke:#00002d; stroke-width:0.8; stroke-opacity:0.5; fill:none\" stroke-dasharray=\"1, 2\" points=\"\n",
       "  408.427,28.5758 408.427,364.48 \n",
       "  \"/>\n",
       "<polyline clip-path=\"url(#clip03)\" style=\"stroke:#00002d; stroke-width:0.8; stroke-opacity:0.5; fill:none\" stroke-dasharray=\"1, 2\" points=\"\n",
       "  470.972,28.5758 470.972,364.48 \n",
       "  \"/>\n",
       "<polyline clip-path=\"url(#clip03)\" style=\"stroke:#00002d; stroke-width:0.8; stroke-opacity:0.5; fill:none\" stroke-dasharray=\"1, 2\" points=\"\n",
       "  533.518,28.5758 533.518,364.48 \n",
       "  \"/>\n",
       "<polyline clip-path=\"url(#clip03)\" style=\"stroke:#00002d; stroke-width:0.8; stroke-opacity:0.5; fill:none\" stroke-dasharray=\"1, 2\" points=\"\n",
       "  596.063,28.5758 596.063,364.48 \n",
       "  \"/>\n",
       "<polyline clip-path=\"url(#clip03)\" style=\"stroke:#00002d; stroke-width:0.8; stroke-opacity:0.5; fill:none\" stroke-dasharray=\"1, 2\" points=\"\n",
       "  349.634,23.3815 592.31,23.3815 \n",
       "  \"/>\n",
       "<polyline clip-path=\"url(#clip03)\" style=\"stroke:#00002d; stroke-width:0.8; stroke-opacity:0.5; fill:none\" stroke-dasharray=\"1, 2\" points=\"\n",
       "  349.634,92.64 592.31,92.64 \n",
       "  \"/>\n",
       "<polyline clip-path=\"url(#clip03)\" style=\"stroke:#00002d; stroke-width:0.8; stroke-opacity:0.5; fill:none\" stroke-dasharray=\"1, 2\" points=\"\n",
       "  349.634,161.899 592.31,161.899 \n",
       "  \"/>\n",
       "<polyline clip-path=\"url(#clip03)\" style=\"stroke:#00002d; stroke-width:0.8; stroke-opacity:0.5; fill:none\" stroke-dasharray=\"1, 2\" points=\"\n",
       "  349.634,231.157 592.31,231.157 \n",
       "  \"/>\n",
       "<polyline clip-path=\"url(#clip03)\" style=\"stroke:#00002d; stroke-width:0.8; stroke-opacity:0.5; fill:none\" stroke-dasharray=\"1, 2\" points=\"\n",
       "  349.634,300.416 592.31,300.416 \n",
       "  \"/>\n",
       "<polyline clip-path=\"url(#clip03)\" style=\"stroke:#00002d; stroke-width:0.8; stroke-opacity:0.5; fill:none\" stroke-dasharray=\"1, 2\" points=\"\n",
       "  349.634,369.674 592.31,369.674 \n",
       "  \"/>\n",
       "<polyline clip-path=\"url(#clip03)\" style=\"stroke:#00002d; stroke-width:0.8; stroke-opacity:1; fill:none\" points=\"\n",
       "  345.881,23.3815 596.063,23.3815 \n",
       "  \"/>\n",
       "<polyline clip-path=\"url(#clip03)\" style=\"stroke:#00002d; stroke-width:0.8; stroke-opacity:1; fill:none\" points=\"\n",
       "  345.881,23.3815 345.881,28.5758 \n",
       "  \"/>\n",
       "<polyline clip-path=\"url(#clip03)\" style=\"stroke:#00002d; stroke-width:0.8; stroke-opacity:1; fill:none\" points=\"\n",
       "  408.427,23.3815 408.427,28.5758 \n",
       "  \"/>\n",
       "<polyline clip-path=\"url(#clip03)\" style=\"stroke:#00002d; stroke-width:0.8; stroke-opacity:1; fill:none\" points=\"\n",
       "  470.972,23.3815 470.972,28.5758 \n",
       "  \"/>\n",
       "<polyline clip-path=\"url(#clip03)\" style=\"stroke:#00002d; stroke-width:0.8; stroke-opacity:1; fill:none\" points=\"\n",
       "  533.518,23.3815 533.518,28.5758 \n",
       "  \"/>\n",
       "<polyline clip-path=\"url(#clip03)\" style=\"stroke:#00002d; stroke-width:0.8; stroke-opacity:1; fill:none\" points=\"\n",
       "  596.063,23.3815 596.063,28.5758 \n",
       "  \"/>\n",
       "<polyline clip-path=\"url(#clip03)\" style=\"stroke:#00002d; stroke-width:0.8; stroke-opacity:1; fill:none\" points=\"\n",
       "  345.881,23.3815 345.881,369.674 \n",
       "  \"/>\n",
       "<polyline clip-path=\"url(#clip03)\" style=\"stroke:#00002d; stroke-width:0.8; stroke-opacity:1; fill:none\" points=\"\n",
       "  345.881,23.3815 349.634,23.3815 \n",
       "  \"/>\n",
       "<polyline clip-path=\"url(#clip03)\" style=\"stroke:#00002d; stroke-width:0.8; stroke-opacity:1; fill:none\" points=\"\n",
       "  345.881,92.64 349.634,92.64 \n",
       "  \"/>\n",
       "<polyline clip-path=\"url(#clip03)\" style=\"stroke:#00002d; stroke-width:0.8; stroke-opacity:1; fill:none\" points=\"\n",
       "  345.881,161.899 349.634,161.899 \n",
       "  \"/>\n",
       "<polyline clip-path=\"url(#clip03)\" style=\"stroke:#00002d; stroke-width:0.8; stroke-opacity:1; fill:none\" points=\"\n",
       "  345.881,231.157 349.634,231.157 \n",
       "  \"/>\n",
       "<polyline clip-path=\"url(#clip03)\" style=\"stroke:#00002d; stroke-width:0.8; stroke-opacity:1; fill:none\" points=\"\n",
       "  345.881,300.416 349.634,300.416 \n",
       "  \"/>\n",
       "<polyline clip-path=\"url(#clip03)\" style=\"stroke:#00002d; stroke-width:0.8; stroke-opacity:1; fill:none\" points=\"\n",
       "  345.881,369.674 349.634,369.674 \n",
       "  \"/>\n",
       "<g clip-path=\"url(#clip00)\">\n",
       "<text style=\"fill:#00002d; fill-opacity:1; font-family:Arial,Helvetica Neue,Helvetica,sans-serif; font-size:12; text-anchor:middle;\" transform=\"rotate(0, 345.881, 381.674)\" x=\"345.881\" y=\"381.674\">0.00000</text>\n",
       "</g>\n",
       "<g clip-path=\"url(#clip00)\">\n",
       "<text style=\"fill:#00002d; fill-opacity:1; font-family:Arial,Helvetica Neue,Helvetica,sans-serif; font-size:12; text-anchor:middle;\" transform=\"rotate(0, 408.427, 381.674)\" x=\"408.427\" y=\"381.674\">0.00001</text>\n",
       "</g>\n",
       "<g clip-path=\"url(#clip00)\">\n",
       "<text style=\"fill:#00002d; fill-opacity:1; font-family:Arial,Helvetica Neue,Helvetica,sans-serif; font-size:12; text-anchor:middle;\" transform=\"rotate(0, 470.972, 381.674)\" x=\"470.972\" y=\"381.674\">0.00002</text>\n",
       "</g>\n",
       "<g clip-path=\"url(#clip00)\">\n",
       "<text style=\"fill:#00002d; fill-opacity:1; font-family:Arial,Helvetica Neue,Helvetica,sans-serif; font-size:12; text-anchor:middle;\" transform=\"rotate(0, 533.518, 381.674)\" x=\"533.518\" y=\"381.674\">0.00003</text>\n",
       "</g>\n",
       "<g clip-path=\"url(#clip00)\">\n",
       "<text style=\"fill:#00002d; fill-opacity:1; font-family:Arial,Helvetica Neue,Helvetica,sans-serif; font-size:12; text-anchor:middle;\" transform=\"rotate(0, 596.063, 381.674)\" x=\"596.063\" y=\"381.674\">0.00004</text>\n",
       "</g>\n",
       "<g clip-path=\"url(#clip00)\">\n",
       "<text style=\"fill:#00002d; fill-opacity:1; font-family:Arial,Helvetica Neue,Helvetica,sans-serif; font-size:12; text-anchor:end;\" transform=\"rotate(0, 344.681, 27.8815)\" x=\"344.681\" y=\"27.8815\">0.0</text>\n",
       "</g>\n",
       "<g clip-path=\"url(#clip00)\">\n",
       "<text style=\"fill:#00002d; fill-opacity:1; font-family:Arial,Helvetica Neue,Helvetica,sans-serif; font-size:12; text-anchor:end;\" transform=\"rotate(0, 344.681, 97.14)\" x=\"344.681\" y=\"97.14\">0.2</text>\n",
       "</g>\n",
       "<g clip-path=\"url(#clip00)\">\n",
       "<text style=\"fill:#00002d; fill-opacity:1; font-family:Arial,Helvetica Neue,Helvetica,sans-serif; font-size:12; text-anchor:end;\" transform=\"rotate(0, 344.681, 166.399)\" x=\"344.681\" y=\"166.399\">0.4</text>\n",
       "</g>\n",
       "<g clip-path=\"url(#clip00)\">\n",
       "<text style=\"fill:#00002d; fill-opacity:1; font-family:Arial,Helvetica Neue,Helvetica,sans-serif; font-size:12; text-anchor:end;\" transform=\"rotate(0, 344.681, 235.657)\" x=\"344.681\" y=\"235.657\">0.6</text>\n",
       "</g>\n",
       "<g clip-path=\"url(#clip00)\">\n",
       "<text style=\"fill:#00002d; fill-opacity:1; font-family:Arial,Helvetica Neue,Helvetica,sans-serif; font-size:12; text-anchor:end;\" transform=\"rotate(0, 344.681, 304.916)\" x=\"344.681\" y=\"304.916\">0.8</text>\n",
       "</g>\n",
       "<g clip-path=\"url(#clip00)\">\n",
       "<text style=\"fill:#00002d; fill-opacity:1; font-family:Arial,Helvetica Neue,Helvetica,sans-serif; font-size:12; text-anchor:end;\" transform=\"rotate(0, 344.681, 374.174)\" x=\"344.681\" y=\"374.174\">1.0</text>\n",
       "</g>\n",
       "<g clip-path=\"url(#clip00)\">\n",
       "<text style=\"fill:#00002d; fill-opacity:1; font-family:Arial,Helvetica Neue,Helvetica,sans-serif; font-size:21; text-anchor:middle;\" transform=\"rotate(0, 470.972, 18)\" x=\"470.972\" y=\"18\">EEM fig 1.1 u(x)</text>\n",
       "</g>\n",
       "<g clip-path=\"url(#clip00)\">\n",
       "<text style=\"fill:#00002d; fill-opacity:1; font-family:Arial,Helvetica Neue,Helvetica,sans-serif; font-size:16; text-anchor:middle;\" transform=\"rotate(0, 470.972, 397.6)\" x=\"470.972\" y=\"397.6\">Displacement [m]</text>\n",
       "</g>\n",
       "<g clip-path=\"url(#clip00)\">\n",
       "<text style=\"fill:#00002d; fill-opacity:1; font-family:Arial,Helvetica Neue,Helvetica,sans-serif; font-size:16; text-anchor:middle;\" transform=\"rotate(-90, 314.4, 196.528)\" x=\"314.4\" y=\"196.528\">x [m]</text>\n",
       "</g>\n",
       "<polygon clip-path=\"url(#clip03)\" points=\"\n",
       "502.245,23.3815 484.871,138.812 432.75,254.243 345.881,369.674 345.881,23.3815 432.75,23.3815 484.871,23.3815 502.245,23.3815 \n",
       "  \" fill=\"#0099ff\" fill-opacity=\"0.1\"/>\n",
       "<polyline clip-path=\"url(#clip03)\" style=\"stroke:#0099ff; stroke-width:0.8; stroke-opacity:1; fill:none\" points=\"\n",
       "  502.245,23.3815 484.871,138.812 432.75,254.243 345.881,369.674 \n",
       "  \"/>\n",
       "<polyline clip-path=\"url(#clip03)\" style=\"stroke:#ff0000; stroke-width:0.8; stroke-opacity:1; fill:none\" points=\"\n",
       "  502.245,23.3815 502.229,26.8444 502.182,30.3073 502.104,33.7702 501.995,37.2332 501.854,40.6961 501.682,44.159 501.479,47.6219 501.244,51.0849 500.978,54.5478 \n",
       "  500.681,58.0107 500.353,61.4736 499.993,64.9366 499.602,68.3995 499.18,71.8624 498.727,75.3253 498.242,78.7883 497.726,82.2512 497.179,85.7141 496.6,89.1771 \n",
       "  495.99,92.64 495.349,96.1029 494.677,99.5658 493.973,103.029 493.238,106.492 492.472,109.955 491.675,113.418 490.846,116.88 489.986,120.343 489.095,123.806 \n",
       "  488.172,127.269 487.218,130.732 486.233,134.195 485.217,137.658 484.169,141.121 483.09,144.584 481.98,148.047 480.839,151.51 479.666,154.973 478.462,158.436 \n",
       "  477.227,161.899 475.96,165.361 474.662,168.824 473.333,172.287 471.973,175.75 470.581,179.213 469.158,182.676 467.704,186.139 466.219,189.602 464.702,193.065 \n",
       "  463.154,196.528 461.575,199.991 459.964,203.454 458.322,206.917 456.649,210.379 454.945,213.842 453.209,217.305 451.442,220.768 449.644,224.231 447.815,227.694 \n",
       "  445.954,231.157 444.062,234.62 442.139,238.083 440.184,241.546 438.198,245.009 436.181,248.472 434.133,251.935 432.053,255.398 429.942,258.86 427.8,262.323 \n",
       "  425.627,265.786 423.422,269.249 421.186,272.712 418.919,276.175 416.62,279.638 414.29,283.101 411.929,286.564 409.537,290.027 407.113,293.49 404.658,296.953 \n",
       "  402.172,300.416 399.655,303.878 397.106,307.341 394.526,310.804 391.915,314.267 389.272,317.73 386.598,321.193 383.893,324.656 381.157,328.119 378.389,331.582 \n",
       "  375.591,335.045 372.76,338.508 369.899,341.971 367.006,345.434 364.082,348.897 361.127,352.359 358.14,355.822 355.123,359.285 352.073,362.748 348.993,366.211 \n",
       "  345.881,369.674 \n",
       "  \"/>\n",
       "</svg>\n"
      ]
     },
     "execution_count": 24,
     "metadata": {},
     "output_type": "execute_result"
    }
   ],
   "source": [
    "plot(p..., layout=(1,2))"
   ]
  },
  {
   "cell_type": "code",
   "execution_count": null,
   "metadata": {
    "collapsed": true
   },
   "outputs": [],
   "source": []
  }
 ],
 "metadata": {
  "anaconda-cloud": {},
  "kernelspec": {
   "display_name": "Julia 0.5.0",
   "language": "julia",
   "name": "julia-0.5"
  },
  "language_info": {
   "file_extension": ".jl",
   "mimetype": "application/julia",
   "name": "julia",
   "version": "0.5.0"
  }
 },
 "nbformat": 4,
 "nbformat_minor": 1
}
